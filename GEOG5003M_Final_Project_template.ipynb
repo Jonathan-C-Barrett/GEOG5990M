{
  "cells": [
    {
      "cell_type": "markdown",
      "metadata": {
        "id": "view-in-github",
        "colab_type": "text"
      },
      "source": [
        "<a href=\"https://colab.research.google.com/github/Jonathan-C-Barrett/GEOG5990M/blob/main/GEOG5003M_Final_Project_template.ipynb\" target=\"_parent\"><img src=\"https://colab.research.google.com/assets/colab-badge.svg\" alt=\"Open In Colab\"/></a>"
      ]
    },
    {
      "cell_type": "markdown",
      "id": "1e1694b4-0ff8-4e25-8c21-756e23ce6972",
      "metadata": {
        "id": "1e1694b4-0ff8-4e25-8c21-756e23ce6972"
      },
      "source": [
        "# GEOG5003M Final Assignment (Template)\n",
        "\n",
        "Student ID number:\n",
        "\n",
        "GitHub repo link:\n",
        "\n",
        "Word count limit= 1,500 words max (markdown cells only, excluding readme)"
      ]
    },
    {
      "cell_type": "code",
      "execution_count": null,
      "id": "1d435d17-0eb5-4238-b242-8e202462c4d9",
      "metadata": {
        "id": "1d435d17-0eb5-4238-b242-8e202462c4d9",
        "collapsed": true
      },
      "outputs": [],
      "source": [
        "# read in required packages\n",
        "\n",
        "import geopandas as gpd\n",
        "import pandas as pd\n",
        "import seaborn as sns\n",
        "from scipy import stats\n",
        "import numpy as np\n",
        "\n",
        "import matplotlib.pyplot as plt\n",
        "\n",
        "!pip install mapclassify"
      ]
    },
    {
      "cell_type": "code",
      "execution_count": null,
      "id": "c3540d43-fbe5-48a1-9d2a-79b3c38f7bdf",
      "metadata": {
        "id": "c3540d43-fbe5-48a1-9d2a-79b3c38f7bdf",
        "collapsed": true
      },
      "outputs": [],
      "source": [
        "#Read in Health Services Data\n",
        "ahah = pd.read_csv('https://github.com/Jonathan-C-Barrett/GEOG5990M/raw/refs/heads/main/ahah_v4.csv')\n",
        "ahah.head()"
      ]
    },
    {
      "cell_type": "code",
      "source": [
        "#Select only columns relating to Health Services\n",
        "health = ahah[['LSOA21CD', 'ah4dent', 'ah4gp', 'ah4hosp', 'ah4phar', 'ah4leis', 'ah4h']]\n",
        "health.head()"
      ],
      "metadata": {
        "id": "YCtq8jyQSste",
        "collapsed": true
      },
      "id": "YCtq8jyQSste",
      "execution_count": null,
      "outputs": []
    },
    {
      "cell_type": "code",
      "source": [
        "# Data downloaded from https://geoportal.statistics.gov.uk/datasets/f23c50d2bffa4a8d9693bcf4ed72bdaf_0/explore?location=0.278866%2C-2.487028%2C0.00\n",
        "shp =gpd.read_file('/content/Output_Areas_2021_EW_BFE_V9_-6709771492190738846.geojson')\n"
      ],
      "metadata": {
        "id": "c5qeDtCqYBMH"
      },
      "id": "c5qeDtCqYBMH",
      "execution_count": 69,
      "outputs": []
    },
    {
      "cell_type": "code",
      "source": [
        "shp.info()"
      ],
      "metadata": {
        "id": "9tiOV67cZHuv"
      },
      "id": "9tiOV67cZHuv",
      "execution_count": null,
      "outputs": []
    },
    {
      "cell_type": "code",
      "source": [
        "#Select only LSOAs in London Boroughs\n",
        "london_shp= shp.loc[shp['LSOA21NM'].str.contains('City of London') |\n",
        "                    shp['LSOA21NM'].str.contains('Barking and Dagenham')|\n",
        "                    shp['LSOA21NM'].str.contains('Barnet')|\n",
        "                    shp['LSOA21NM'].str.contains('Bexley')|\n",
        "                    shp['LSOA21NM'].str.contains('Brent') |\n",
        "                    shp['LSOA21NM'].str.contains('Bromley')|\n",
        "                    shp['LSOA21NM'].str.contains('Camden')|\n",
        "                    shp['LSOA21NM'].str.contains('Croydon')|\n",
        "                    shp['LSOA21NM'].str.contains('Ealing')|\n",
        "                    shp['LSOA21NM'].str.contains('Enfield')|\n",
        "                    shp['LSOA21NM'].str.contains('Greenwich')|\n",
        "                    shp['LSOA21NM'].str.contains('Hackney')|\n",
        "                    shp['LSOA21NM'].str.contains('Hammersmith and Fulham')|\n",
        "                    shp['LSOA21NM'].str.contains('Haringey')|\n",
        "                    shp['LSOA21NM'].str.contains('Harrow')|\n",
        "                    shp['LSOA21NM'].str.contains('Havering')|\n",
        "                    shp['LSOA21NM'].str.contains('Hillingdon')|\n",
        "                    shp['LSOA21NM'].str.contains('Hounslow')|\n",
        "                    shp['LSOA21NM'].str.contains('Islington')|\n",
        "                    shp['LSOA21NM'].str.contains('Kensington and Chelsea')|\n",
        "                    shp['LSOA21NM'].str.contains('Kingston upon Thames')|\n",
        "                    shp['LSOA21NM'].str.contains('Lambeth')|\n",
        "                    shp['LSOA21NM'].str.contains('Lewisham')|\n",
        "                    shp['LSOA21NM'].str.contains('Merton')|\n",
        "                    shp['LSOA21NM'].str.contains('Newham')|\n",
        "                    shp['LSOA21NM'].str.contains('Redbridge')|\n",
        "                    shp['LSOA21NM'].str.contains('Richmond upon Thames')|\n",
        "                    shp['LSOA21NM'].str.contains('Southwark')|\n",
        "                    shp['LSOA21NM'].str.contains('Sutton')|\n",
        "                    shp['LSOA21NM'].str.contains('Southwark')|\n",
        "                    shp['LSOA21NM'].str.contains('Tower Hamlets')|\n",
        "                    shp['LSOA21NM'].str.contains('Waltham Forest')|\n",
        "                    shp['LSOA21NM'].str.contains('Wandsworth')|\n",
        "                    shp['LSOA21NM'].str.contains('Westminster'),:]"
      ],
      "metadata": {
        "id": "CSX7g_yeeWfs"
      },
      "id": "CSX7g_yeeWfs",
      "execution_count": 71,
      "outputs": []
    },
    {
      "cell_type": "code",
      "source": [
        "london_shp.to_file('London.geojson')"
      ],
      "metadata": {
        "id": "r0c5ZQ7sZ-ja",
        "collapsed": true
      },
      "id": "r0c5ZQ7sZ-ja",
      "execution_count": 72,
      "outputs": []
    },
    {
      "cell_type": "code",
      "source": [
        "#Check London Borough worked\n",
        "london_shp.info()"
      ],
      "metadata": {
        "id": "_hje40CHUef_"
      },
      "id": "_hje40CHUef_",
      "execution_count": null,
      "outputs": []
    },
    {
      "cell_type": "code",
      "source": [
        "#explore data on a map\n",
        "london_shp.explore()"
      ],
      "metadata": {
        "id": "XKI69Ec-Uo92"
      },
      "id": "XKI69Ec-Uo92",
      "execution_count": null,
      "outputs": []
    },
    {
      "cell_type": "code",
      "source": [],
      "metadata": {
        "id": "2Oobuhf_ePOd"
      },
      "id": "2Oobuhf_ePOd",
      "execution_count": null,
      "outputs": []
    },
    {
      "cell_type": "code",
      "source": [],
      "metadata": {
        "id": "3YEXpRcSYs8o"
      },
      "id": "3YEXpRcSYs8o",
      "execution_count": null,
      "outputs": []
    },
    {
      "cell_type": "markdown",
      "id": "6fea5785-5aed-491a-ace3-5ad07d446e4c",
      "metadata": {
        "id": "6fea5785-5aed-491a-ace3-5ad07d446e4c"
      },
      "source": [
        "This is an example block of mardown text I want to reference <a href=\"#ref1\">[1]</a>. I might need to add some more citations <a href=\"#ref2\">[2]</a><a href=\"#ref2\">[3]</a>\n",
        "\n"
      ]
    },
    {
      "cell_type": "code",
      "execution_count": null,
      "id": "b4b3f4ce-f5f6-471e-ae7b-6224b75ffec4",
      "metadata": {
        "id": "b4b3f4ce-f5f6-471e-ae7b-6224b75ffec4"
      },
      "outputs": [],
      "source": []
    },
    {
      "cell_type": "code",
      "execution_count": null,
      "id": "cb7f14ec-9555-4fe6-98db-5f1f02fe65cd",
      "metadata": {
        "id": "cb7f14ec-9555-4fe6-98db-5f1f02fe65cd"
      },
      "outputs": [],
      "source": []
    },
    {
      "cell_type": "code",
      "execution_count": null,
      "id": "bcbf02dc-73a9-4a6d-9495-580b72055c2a",
      "metadata": {
        "id": "bcbf02dc-73a9-4a6d-9495-580b72055c2a"
      },
      "outputs": [],
      "source": []
    },
    {
      "cell_type": "code",
      "execution_count": null,
      "id": "4c7a4913-7716-40c2-9734-2610041029c2",
      "metadata": {
        "id": "4c7a4913-7716-40c2-9734-2610041029c2"
      },
      "outputs": [],
      "source": []
    },
    {
      "cell_type": "markdown",
      "id": "4806cdd0-3484-45dd-b139-f36e28ce77a9",
      "metadata": {
        "id": "4806cdd0-3484-45dd-b139-f36e28ce77a9"
      },
      "source": [
        "Data Visualisation\n",
        "- Don't forget to present your final two data visualisation (one spatial and one non-spatial) and the justifications about the decisions you made whilst preparing and visualising the data."
      ]
    },
    {
      "cell_type": "code",
      "execution_count": null,
      "id": "cba9bc3e-33e2-44b1-b8a6-47242500eb32",
      "metadata": {
        "id": "cba9bc3e-33e2-44b1-b8a6-47242500eb32"
      },
      "outputs": [],
      "source": []
    },
    {
      "cell_type": "code",
      "execution_count": null,
      "id": "02f2b8d5-c223-4328-abd3-ea5a6678b910",
      "metadata": {
        "id": "02f2b8d5-c223-4328-abd3-ea5a6678b910"
      },
      "outputs": [],
      "source": []
    },
    {
      "cell_type": "markdown",
      "id": "393446de-c2bd-47d1-828a-5b60ec65b8c6",
      "metadata": {
        "id": "393446de-c2bd-47d1-828a-5b60ec65b8c6"
      },
      "source": [
        "## References\n",
        "<p><a href=\"add_url_here\">[1]</a>Footnote citation goes here</p>\n",
        "<p><a href=\"https://github.com/FrancescaPontin/GEOG5990\">[2]</a>GEOG5990M course materials</p>\n",
        "<p><a href=\"add_url_here\">[3]</a>Citation 3</p>"
      ]
    },
    {
      "cell_type": "code",
      "execution_count": null,
      "id": "e902a5a4-c810-4cb0-883d-be558f696c8b",
      "metadata": {
        "id": "e902a5a4-c810-4cb0-883d-be558f696c8b"
      },
      "outputs": [],
      "source": []
    }
  ],
  "metadata": {
    "kernelspec": {
      "display_name": "Python 3 (ipykernel)",
      "language": "python",
      "name": "python3"
    },
    "language_info": {
      "codemirror_mode": {
        "name": "ipython",
        "version": 3
      },
      "file_extension": ".py",
      "mimetype": "text/x-python",
      "name": "python",
      "nbconvert_exporter": "python",
      "pygments_lexer": "ipython3",
      "version": "3.10.12"
    },
    "colab": {
      "provenance": [],
      "include_colab_link": true
    }
  },
  "nbformat": 4,
  "nbformat_minor": 5
}