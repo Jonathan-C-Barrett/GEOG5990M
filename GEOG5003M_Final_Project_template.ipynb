{
  "cells": [
    {
      "cell_type": "markdown",
      "metadata": {
        "id": "view-in-github",
        "colab_type": "text"
      },
      "source": [
        "<a href=\"https://colab.research.google.com/github/Jonathan-C-Barrett/GEOG5990M/blob/main/GEOG5003M_Final_Project_template.ipynb\" target=\"_parent\"><img src=\"https://colab.research.google.com/assets/colab-badge.svg\" alt=\"Open In Colab\"/></a>"
      ]
    },
    {
      "cell_type": "markdown",
      "id": "1e1694b4-0ff8-4e25-8c21-756e23ce6972",
      "metadata": {
        "id": "1e1694b4-0ff8-4e25-8c21-756e23ce6972"
      },
      "source": [
        "# GEOG5003M Final Assignment\n",
        "\n",
        "Student ID number: 201804755\n",
        "\n",
        "GitHub repo link: https://github.com/Jonathan-C-Barrett/GEOG5990M/tree/main\n",
        "\n",
        "Word count limit= 1,500 words max (markdown cells only, excluding readme)"
      ]
    },
    {
      "cell_type": "markdown",
      "source": [
        "# Read in Packages"
      ],
      "metadata": {
        "id": "8uaiBpmjdnp2"
      },
      "id": "8uaiBpmjdnp2"
    },
    {
      "cell_type": "code",
      "execution_count": null,
      "id": "1d435d17-0eb5-4238-b242-8e202462c4d9",
      "metadata": {
        "id": "1d435d17-0eb5-4238-b242-8e202462c4d9",
        "collapsed": true
      },
      "outputs": [],
      "source": [
        "#Install required packages\n",
        "!pip install mapclassify\n",
        "!pip install contextily\n",
        "!pip install geoplot\n",
        "!pip install git+https://github.com/pmdscully/geo_northarrow.git\n",
        "\n",
        "\n",
        "# read in required packages\n",
        "import geopandas as gpd\n",
        "import pandas as pd\n",
        "# remove default='warn' for chained assigments\n",
        "pd.options.mode.chained_assignment = None\n",
        "import seaborn as sns\n",
        "from scipy import stats\n",
        "import numpy as np\n",
        "import matplotlib.pyplot as plt\n",
        "import pyproj\n",
        "import contextily as ctx\n",
        "import geoplot as gplt\n",
        "import geoplot.crs as gcrs\n",
        "from geo_northarrow import add_north_arrow\n",
        "\n",
        "\n",
        "\n",
        "# import the required machine learning packages\n",
        "from sklearn import cluster\n",
        "from sklearn.preprocessing import scale\n",
        "\n",
        "\n",
        "\n"
      ]
    },
    {
      "cell_type": "markdown",
      "source": [
        "# Pre-processing\n",
        "\n",
        "The following was required for pre-processing.\n",
        "\n",
        "First was the selection of appropriate variables from the access to services dataset. These were selected based on services directly linked to personal health, including leisure facilities which support healthiness <a href=\"https://www.nature.com/articles/s41597-019-0114-6\">[1]</a>. Using these five variables a weighted average was created, with weights based on previous studies of services with the largest impact <a href=\"https://www.nature.com/articles/s41597-019-0114-6\">[1]</a>, and stored under the code ‘ah4h’.\n",
        "\n",
        "Second was to deal with missing values, either from individual quarters or the entire year, of the median property data. A yearly mean column under ‘2016_mean’ was created and populated with the mean value of the combined quarterly values. This negated the issue with missing quarterly data while additionally benefiting from the removal of seasonal impact on house pricing <a href=\"http://dx.doi.org/10.2139/ssrn.2785400\">[2]</a>. After creating the mean value, for any rows that remained missing due to a complete missing year, these were removed as there was no way to extrapolate the data accurately from elsewhere.\n",
        "\n",
        "Following this area codes were converted from LSOA11 to LSOA21 by combining the data with a conversion data frame, where we then also removed unnecessary columns to make the data frame less cluttered.\n",
        "\n",
        "To investigate outliers in the data, descriptive statistics, pair plots and box plots were used. Although all data sets showed some evidence of extreme values, property value showed extreme outliers at the larger end and so these were identified and removed using the interquartile range method. This method was used due to its simplicity and reproducibility at removing outliers so as not to distort the results of the correlation <a href=\"https://www.sciencedirect.com/science/article/pii/S2772662223000048\">[3]</a>.\n"
      ],
      "metadata": {
        "id": "xX_S07kLdr8z"
      },
      "id": "xX_S07kLdr8z"
    },
    {
      "cell_type": "markdown",
      "source": [
        "**HEALTH SERVICE ACCESS DATA**"
      ],
      "metadata": {
        "id": "rpui-xu5en0S"
      },
      "id": "rpui-xu5en0S"
    },
    {
      "cell_type": "code",
      "execution_count": null,
      "id": "c3540d43-fbe5-48a1-9d2a-79b3c38f7bdf",
      "metadata": {
        "id": "c3540d43-fbe5-48a1-9d2a-79b3c38f7bdf",
        "collapsed": true
      },
      "outputs": [],
      "source": [
        "#Read in Health Services Data\n",
        "#Data sourced from: https://data.geods.ac.uk/dataset/access-to-healthy-assets-hazards-ahah\n",
        "ahah = pd.read_csv('https://github.com/Jonathan-C-Barrett/GEOG5990M/raw/refs/heads/main/ahah_v4.csv')\n",
        "ahah.head()"
      ]
    },
    {
      "cell_type": "code",
      "source": [
        "#Select only columns relating to Health Services\n",
        "health = ahah[['LSOA21CD', 'ah4dent', 'ah4gp', 'ah4hosp', 'ah4phar', 'ah4leis']]\n",
        "health.head()"
      ],
      "metadata": {
        "id": "YCtq8jyQSste",
        "collapsed": true
      },
      "id": "YCtq8jyQSste",
      "execution_count": null,
      "outputs": []
    },
    {
      "cell_type": "code",
      "source": [
        "#check for missing values\n",
        "health.isna().sum()"
      ],
      "metadata": {
        "id": "XWeJujNAs1C1"
      },
      "id": "XWeJujNAs1C1",
      "execution_count": null,
      "outputs": []
    },
    {
      "cell_type": "code",
      "source": [
        "#explore general statistics\n",
        "health.describe()"
      ],
      "metadata": {
        "id": "2nF5yrtSwYTr"
      },
      "id": "2nF5yrtSwYTr",
      "execution_count": null,
      "outputs": []
    },
    {
      "cell_type": "code",
      "source": [
        "#create weighted average score column of services\n",
        "weights = [0.2,0.2,0.2,0.15,0.15]\n",
        "health.loc[:,'ah4h'] = (health[['ah4dent', 'ah4gp', 'ah4hosp', 'ah4phar', 'ah4leis']] * weights).sum(axis=1)\n",
        "health"
      ],
      "metadata": {
        "id": "rQb9ywdgr4by"
      },
      "execution_count": null,
      "outputs": [],
      "id": "rQb9ywdgr4by"
    },
    {
      "cell_type": "code",
      "source": [],
      "metadata": {
        "id": "egAJu2scTMDI"
      },
      "id": "egAJu2scTMDI",
      "execution_count": null,
      "outputs": []
    },
    {
      "cell_type": "markdown",
      "source": [
        "**MEDIAN PROPERTY VALUE DATA**"
      ],
      "metadata": {
        "id": "eN69Vtrje1Di"
      },
      "id": "eN69Vtrje1Di"
    },
    {
      "cell_type": "code",
      "source": [
        "#Read in Median Property Price\n",
        "#data sourced from: https://data.london.gov.uk/dataset/average-house-prices\n",
        "m_value = pd.read_csv('https://github.com/Jonathan-C-Barrett/GEOG5990M/raw/refs/heads/main/land-registry-house-prices-Meidan-LSOA.csv')\n",
        "m_value.head()"
      ],
      "metadata": {
        "id": "2RT3jOJwp3GG"
      },
      "id": "2RT3jOJwp3GG",
      "execution_count": null,
      "outputs": []
    },
    {
      "cell_type": "code",
      "source": [
        "#Select only columns relating to 2016\n",
        "prop_16 = m_value[['Code', 'Area','Year ending Mar 2016','Year ending Jun 2016', 'Year ending Sep 2016', 'Year ending Dec 2016']]\n",
        "prop_16.head()"
      ],
      "metadata": {
        "id": "lAqpq_uB0pi0"
      },
      "id": "lAqpq_uB0pi0",
      "execution_count": null,
      "outputs": []
    },
    {
      "cell_type": "code",
      "source": [
        "#examine property info for count and data type\n",
        "prop_16.info()"
      ],
      "metadata": {
        "id": "zKkmqPkaVkEL"
      },
      "id": "zKkmqPkaVkEL",
      "execution_count": null,
      "outputs": []
    },
    {
      "cell_type": "code",
      "source": [
        "#check for missing values\n",
        "prop_16.isna().sum()"
      ],
      "metadata": {
        "id": "wY6528y21nFq"
      },
      "id": "wY6528y21nFq",
      "execution_count": null,
      "outputs": []
    },
    {
      "cell_type": "code",
      "source": [
        "#create a column of mean year value to counter missing values\n",
        "prop_16.loc[:,'2016_mean'] = prop_16[['Year ending Mar 2016', 'Year ending Jun 2016', 'Year ending Sep 2016', 'Year ending Dec 2016']].mean(axis=1)\n",
        "prop_16.head()"
      ],
      "metadata": {
        "id": "h_t6xT6BimcR"
      },
      "id": "h_t6xT6BimcR",
      "execution_count": null,
      "outputs": []
    },
    {
      "cell_type": "code",
      "source": [
        "prop_16.isna().sum()"
      ],
      "metadata": {
        "id": "Tj6AqcQZicFd"
      },
      "id": "Tj6AqcQZicFd",
      "execution_count": null,
      "outputs": []
    },
    {
      "cell_type": "markdown",
      "source": [
        "**LSOA 2011 TO LSOA 2021 COVERSION DATA**"
      ],
      "metadata": {
        "id": "ZoGnS2A6e9Wy"
      },
      "id": "ZoGnS2A6e9Wy"
    },
    {
      "cell_type": "code",
      "source": [
        "#add conversion to LSOA21\n",
        "#Data sourced from: https://geoportal.statistics.gov.uk/datasets/b14d449ba10a48508bd05cd4a9775e2b_0/explore\n",
        "LSOA21 = pd.read_csv('https://github.com/Jonathan-C-Barrett/GEOG5990M/raw/refs/heads/main/LSOA_(2011)_to_LSOA_(2021)_to_Local_Authority_District_(2022)_Best_Fit_Lookup_for_EW_(V2).csv')\n",
        "LSOA21.head()\n"
      ],
      "metadata": {
        "id": "U60wkYsR_qlR"
      },
      "id": "U60wkYsR_qlR",
      "execution_count": null,
      "outputs": []
    },
    {
      "cell_type": "code",
      "source": [
        "#inspect info for data type\n",
        "LSOA21.info()"
      ],
      "metadata": {
        "id": "OCNvIjJ7_qZ3"
      },
      "id": "OCNvIjJ7_qZ3",
      "execution_count": null,
      "outputs": []
    },
    {
      "cell_type": "code",
      "source": [
        "#combine prop_16 data and LSOA21 by code in prop_16 and LSOA11CD in LSOA21 in to remove areas outside london and make comparable\n",
        "prop_16_LSOA21 = pd.merge(prop_16, LSOA21, left_on='Code', right_on='LSOA11CD', how='left')\n",
        "prop_16_LSOA21.head()"
      ],
      "metadata": {
        "id": "MAkLlHj2SHvq"
      },
      "id": "MAkLlHj2SHvq",
      "execution_count": null,
      "outputs": []
    },
    {
      "cell_type": "code",
      "source": [
        "#check Info for count\n",
        "prop_16_LSOA21.info()"
      ],
      "metadata": {
        "id": "xFwV4MvPSHpM"
      },
      "id": "xFwV4MvPSHpM",
      "execution_count": null,
      "outputs": []
    },
    {
      "cell_type": "markdown",
      "source": [
        "**COMBINE HEALTH ACCESS AND PROPERTY VALUE DATABASES**"
      ],
      "metadata": {
        "id": "trAkhy4CfKey"
      },
      "id": "trAkhy4CfKey"
    },
    {
      "cell_type": "code",
      "source": [
        "#combine health and property data by LSOA code in property to remove areas outside london\n",
        "health_prop = pd.merge(health, prop_16_LSOA21, left_on='LSOA21CD', right_on='LSOA21CD', how='right')\n",
        "health_prop.head()"
      ],
      "metadata": {
        "id": "EuywDoyuWz_n"
      },
      "id": "EuywDoyuWz_n",
      "execution_count": null,
      "outputs": []
    },
    {
      "cell_type": "code",
      "source": [
        "#check info for data frame to check count and data type\n",
        "health_prop.info()"
      ],
      "metadata": {
        "id": "mJf3-hdVWMmK"
      },
      "id": "mJf3-hdVWMmK",
      "execution_count": null,
      "outputs": []
    },
    {
      "cell_type": "code",
      "source": [
        "#check for missing values\n",
        "health_prop.isnull().sum()"
      ],
      "metadata": {
        "id": "smXfh_uH_6N6"
      },
      "id": "smXfh_uH_6N6",
      "execution_count": null,
      "outputs": []
    },
    {
      "cell_type": "code",
      "source": [
        "#remove missing values from Year mean column\n",
        "health_prop = health_prop.dropna(subset=['2016_mean'])"
      ],
      "metadata": {
        "id": "TSuMR_70j2lP"
      },
      "id": "TSuMR_70j2lP",
      "execution_count": null,
      "outputs": []
    },
    {
      "cell_type": "code",
      "source": [
        "#Check removed 2016 Mean missing values\n",
        "health_prop.isnull().sum()"
      ],
      "metadata": {
        "id": "uePZEoYmj_OZ"
      },
      "id": "uePZEoYmj_OZ",
      "execution_count": null,
      "outputs": []
    },
    {
      "cell_type": "code",
      "source": [
        "#remove duplicated and unneccessary columns from Data base\n",
        "health_prop_clean = health_prop.drop(columns=['Code', 'Area', 'LSOA11NM', 'LSOA11CD', 'ObjectId','LAD22NMW', 'Year ending Mar 2016', 'Year ending Jun 2016','Year ending Sep 2016','Year ending Dec 2016', ])\n",
        "health_prop_clean.head()\n"
      ],
      "metadata": {
        "id": "nBwGASqBCST1"
      },
      "id": "nBwGASqBCST1",
      "execution_count": null,
      "outputs": []
    },
    {
      "cell_type": "code",
      "source": [
        "#check data type and missing values of required columns\n",
        "health_prop_clean.info()\n"
      ],
      "metadata": {
        "id": "IZ3DphN7ji3m"
      },
      "id": "IZ3DphN7ji3m",
      "execution_count": null,
      "outputs": []
    },
    {
      "cell_type": "markdown",
      "source": [
        "**INVESTIGATE DISTRIBUTION OF DATA AND REMOVAL OF OUTLIERS**"
      ],
      "metadata": {
        "id": "NJa7aoSRfYGd"
      },
      "id": "NJa7aoSRfYGd"
    },
    {
      "cell_type": "code",
      "source": [
        "#check basic geometry of data\n",
        "health_prop_clean.describe()"
      ],
      "metadata": {
        "id": "6se28kYw7wnU"
      },
      "id": "6se28kYw7wnU",
      "execution_count": null,
      "outputs": []
    },
    {
      "cell_type": "code",
      "source": [
        "#Explore correlation between property price mean and health service float data with pairplot\n",
        "sns.pairplot(health_prop_clean[['ah4dent','ah4gp', 'ah4hosp', 'ah4phar', 'ah4leis', 'ah4h','2016_mean']]);"
      ],
      "metadata": {
        "id": "GqwwuyDSCm0Z"
      },
      "id": "GqwwuyDSCm0Z",
      "execution_count": null,
      "outputs": []
    },
    {
      "cell_type": "code",
      "source": [
        "#check for outliers observed in pairplot\n",
        "health_prop_clean['2016_mean'].nlargest(n=25)"
      ],
      "metadata": {
        "id": "ItShBf_TcOPt"
      },
      "id": "ItShBf_TcOPt",
      "execution_count": null,
      "outputs": []
    },
    {
      "cell_type": "code",
      "source": [
        "#use boxplot to inspect impact of outliers\n",
        "sns.boxplot(data=health_prop_clean, x='2016_mean');\n",
        "plt.gcf().axes[0].xaxis.get_major_formatter().set_scientific(False)\n"
      ],
      "metadata": {
        "id": "A-XlGh2gBgLp"
      },
      "id": "A-XlGh2gBgLp",
      "execution_count": null,
      "outputs": []
    },
    {
      "cell_type": "code",
      "source": [
        "sns.boxplot(data=health_prop_clean, x='ah4gp');"
      ],
      "metadata": {
        "id": "w6THBJj4Ujxb"
      },
      "id": "w6THBJj4Ujxb",
      "execution_count": null,
      "outputs": []
    },
    {
      "cell_type": "code",
      "source": [
        "sns.boxplot(data=health_prop_clean, x='ah4dent');"
      ],
      "metadata": {
        "id": "x1stTFD1rc6v"
      },
      "id": "x1stTFD1rc6v",
      "execution_count": null,
      "outputs": []
    },
    {
      "cell_type": "code",
      "source": [
        "sns.boxplot(data=health_prop_clean, x='ah4hosp');"
      ],
      "metadata": {
        "id": "vz8JCeFNUjmU"
      },
      "id": "vz8JCeFNUjmU",
      "execution_count": null,
      "outputs": []
    },
    {
      "cell_type": "code",
      "source": [
        "sns.boxplot(data=health_prop_clean, x='ah4leis');"
      ],
      "metadata": {
        "id": "-tHlYO-vUjcu"
      },
      "id": "-tHlYO-vUjcu",
      "execution_count": null,
      "outputs": []
    },
    {
      "cell_type": "code",
      "source": [
        "sns.boxplot(data=health_prop_clean, x='ah4h');"
      ],
      "metadata": {
        "id": "Bfov124gUjQ5"
      },
      "id": "Bfov124gUjQ5",
      "execution_count": null,
      "outputs": []
    },
    {
      "cell_type": "code",
      "source": [
        "#remove outliers in 2016 mean using interquartle range method\n",
        "#find intterquartile range\n",
        "Q1 = health_prop_clean['2016_mean'].quantile(0.25)\n",
        "Q3 = health_prop_clean['2016_mean'].quantile(0.75)\n",
        "IQR = Q3 - Q1"
      ],
      "metadata": {
        "id": "_-3NiK8gEaIi"
      },
      "id": "_-3NiK8gEaIi",
      "execution_count": null,
      "outputs": []
    },
    {
      "cell_type": "code",
      "source": [
        "#view Q1, Q3 and IQR\n",
        "Q1, Q3, IQR"
      ],
      "metadata": {
        "id": "8vkKL4-jEaAB"
      },
      "id": "8vkKL4-jEaAB",
      "execution_count": null,
      "outputs": []
    },
    {
      "cell_type": "code",
      "source": [
        "#find upper and lower limits\n",
        "upper_limit = Q3 + (1.5 * IQR)\n",
        "lower_limit = Q1 - (1.5 * IQR)\n",
        "lower_limit, upper_limit"
      ],
      "metadata": {
        "id": "BdVsYkEsFjIF"
      },
      "id": "BdVsYkEsFjIF",
      "execution_count": null,
      "outputs": []
    },
    {
      "cell_type": "code",
      "source": [
        "#find outliers\n",
        "outliers = health_prop_clean[(health_prop_clean['2016_mean'] > upper_limit) | (health_prop_clean['2016_mean'] < lower_limit)]\n",
        "outliers"
      ],
      "metadata": {
        "id": "s8TUxgbPFETl"
      },
      "id": "s8TUxgbPFETl",
      "execution_count": null,
      "outputs": []
    },
    {
      "cell_type": "code",
      "source": [
        "#trim the data\n",
        "health_prop_clean_trim = health_prop_clean[(health_prop_clean['2016_mean'] < upper_limit) & (health_prop_clean['2016_mean'] > lower_limit)]\n"
      ],
      "metadata": {
        "id": "Ned1bA77FEI3"
      },
      "id": "Ned1bA77FEI3",
      "execution_count": null,
      "outputs": []
    },
    {
      "cell_type": "code",
      "source": [
        "#check for difference in data\n",
        "print('before removing outliers', health_prop_clean.shape)\n",
        "print('after removing outliers', health_prop_clean_trim.shape)"
      ],
      "metadata": {
        "id": "Sq_xJq0nHJcC"
      },
      "id": "Sq_xJq0nHJcC",
      "execution_count": null,
      "outputs": []
    },
    {
      "cell_type": "code",
      "source": [],
      "metadata": {
        "id": "8tvx3p9WG37f"
      },
      "id": "8tvx3p9WG37f",
      "execution_count": null,
      "outputs": []
    },
    {
      "cell_type": "markdown",
      "source": [
        "# Data Exploration\n",
        "\n",
        "The correlation between variables were explored at an LSOA scale using spearman’s rank. This was chosen as a simple statistical measure of correlation that does not require assumptions about distribution <a href=\"https://onlinelibrary.wiley.com/doi/10.1002/cpe.3745\">[4]</a> The result of this were displayed on a heatmap with a mask covering duplicate records to make the data easier to interpret.  A color scheme of ‘RdBlu’ enabled easy identification of a positive or negative correlation. The rank value was also added to each square for clarity to the audience.  \n",
        "\n"
      ],
      "metadata": {
        "id": "jm1GNyDTdd7w"
      },
      "id": "jm1GNyDTdd7w"
    },
    {
      "cell_type": "markdown",
      "source": [
        "**CORRELATION THROUGH SPEARMANS RANK**"
      ],
      "metadata": {
        "id": "9vCh_P77f5pk"
      },
      "id": "9vCh_P77f5pk"
    },
    {
      "cell_type": "code",
      "source": [
        "#Calculate Spearmans Rank Correlation for all float data\n",
        "\n",
        "health_prop_corr =health_prop_clean_trim[['ah4dent', 'ah4gp', 'ah4hosp', 'ah4phar', 'ah4leis', 'ah4h','2016_mean']].corr(method = 'spearman')\n",
        "health_prop_corr\n"
      ],
      "metadata": {
        "id": "yTvMNPHdZSyZ"
      },
      "id": "yTvMNPHdZSyZ",
      "execution_count": null,
      "outputs": []
    },
    {
      "cell_type": "code",
      "source": [
        "#Visualize spearmans correlation\n",
        "\n",
        "# define plot size\n",
        "fig,ax = plt.subplots(figsize=(8,8))\n",
        "\n",
        "# define mask to apply to upper right hand corner of the plot\n",
        "data_to_mask = np.triu(np.ones_like(health_prop_corr))\n",
        "\n",
        "# define axis labels\n",
        "x_axis_labels = health_prop_corr.columns\n",
        "y_axis_labels = health_prop_corr.index\n",
        "\n",
        "\n",
        "#capatlise each label is x and Y\n",
        "x_axis_labels = [element.capitalize() for element in x_axis_labels]\n",
        "y_axis_labels = [element.capitalize() for element in y_axis_labels]\n",
        "\n",
        "# plot a heatmap of the correlation\n",
        "sns.heatmap(health_prop_corr,\n",
        "            #exband linewith for clarity\n",
        "            linewidths=.5,\n",
        "            # include spearmans value in squares\n",
        "            annot=True,\n",
        "            # define colourmap\n",
        "            cmap='RdBu',\n",
        "            # define value of minimum colour on cbar\n",
        "            vmin=-1,\n",
        "            # define value of maximum colour on cbar\n",
        "            vmax=1,\n",
        "            # add the mask\n",
        "            mask=data_to_mask,\n",
        "            # use the custom labels\n",
        "            xticklabels=x_axis_labels,\n",
        "            yticklabels=y_axis_labels,\n",
        "            # add a label to the cbar\n",
        "            cbar_kws={'label': \"Spearman's Rank correlation\"},\n",
        "            # plot on the axis we defined\n",
        "            ax=ax)\n",
        "\n",
        "# Set axis labels\n",
        "ax.set(xlabel=\"Property Value and Access to Health Services\",\n",
        "       ylabel=\"Property Value and Access to Health Services\",\n",
        "      title ='Property Value and Access to Health Services Correlation' );\n"
      ],
      "metadata": {
        "id": "DtShIipqpl1I"
      },
      "id": "DtShIipqpl1I",
      "execution_count": null,
      "outputs": []
    },
    {
      "cell_type": "code",
      "source": [],
      "metadata": {
        "id": "UN0aNloVmflX"
      },
      "id": "UN0aNloVmflX",
      "execution_count": null,
      "outputs": []
    },
    {
      "cell_type": "markdown",
      "source": [
        "**Create Inner and Outer boruough classification**"
      ],
      "metadata": {
        "id": "vSXGPGW9y800"
      },
      "id": "vSXGPGW9y800"
    },
    {
      "cell_type": "code",
      "source": [
        "#create column of inner or outer borough for additional information in visualisation\n",
        "inner_london_boroughs = ('Camden', 'City of London', 'Greenwich', 'Hackney', 'Hammersmith and Fulham', 'Islington', 'Kensington and Chelsea', 'Lambeth', 'Lewisham', 'Southwark', 'Tower Hamlets', 'Wandsworth', 'Westminster')\n",
        "\n",
        "for index, row in health_prop_clean_trim.iterrows():\n",
        "  if row['LAD22NM'] in inner_london_boroughs:\n",
        "    health_prop_clean_trim.loc[index, 'inner_outer'] = 'Inner Borough'\n",
        "  else:\n",
        "    health_prop_clean_trim.loc[index, 'inner_outer'] = 'Outer Borough'"
      ],
      "metadata": {
        "id": "wXlwWtaGysI6"
      },
      "execution_count": null,
      "outputs": [],
      "id": "wXlwWtaGysI6"
    },
    {
      "cell_type": "code",
      "source": [
        "#check inner_outer has worked correctly\n",
        "num_unique_categories = health_prop_clean_trim['inner_outer'].nunique()\n",
        "print(f\"Number of unique categories: {num_unique_categories}\")"
      ],
      "metadata": {
        "id": "4pAclj08vE4I"
      },
      "id": "4pAclj08vE4I",
      "execution_count": null,
      "outputs": []
    },
    {
      "cell_type": "markdown",
      "source": [
        "# Non Spatial Visulation\n",
        "\n",
        "The first visualization displays the relationship between median property value and individual variables of health access. Five smaller scatterplots have been included for each health service and one larger scatter plot for the overall weighted average access.\n",
        "\n",
        "A scatterplot allows the relationship of two numerical variables to be clearly identified in a style easily recognizable to a non-technical audience <a href=\"https://ijcttjournal.org/archives/ijctt-v71i4p116\">[5]</a>, and for each plot a regression line was added to easily identify the direction of the correlation. For the larger plot histograms of both variables were included on the secondary x and y axes to provide clarity on the individual distribution of each.\n",
        "\n",
        "For additional detail the inner and outer boroughs of London were identified and added to the hue of the visualization. This adds additional information for the audience on the distribution of these points across London.\n",
        "\n",
        "The key audience of this visualization is non-technical regional or national decision makers, who would assess the need for additional infrastructure in London while possibly lacking the expertise to deal with large data <a href=\"https://ijcttjournal.org/archives/ijctt-v71i4p116\">[5]</a>. As such, when creating this visualization, accessibility and ease of interpretation were key drivers in many of the choices.\n",
        "\n",
        "The color scheme of ‘colorblind’ was chosen to remain accessible to all, and hexagonal point markers used as often circular markers can be difficult to identify when overlapping <a href=\"https://data.europa.eu/apps/data-visualisation-guide/handling-overlap-in-scatter-plots\">[6]</a>. In addition, we also added a level of opacity that ensures the points are less cluttered. We also reduced the amount of tick markers and included only one x and y axis title on the smaller graphs for a clearer aesthetic, and finally changed the orientation of the tick labels on the larger plot to ensure the visualization remained uncluttered and easy to interpret.\n"
      ],
      "metadata": {
        "id": "XM8zbmAveFUq"
      },
      "id": "XM8zbmAveFUq"
    },
    {
      "cell_type": "code",
      "source": [
        "#create four subplots of health service individual variables\n",
        "f,ax = plt.subplots(2,3, figsize=(12,6))\n",
        "#widen space between subplots\n",
        "plt.subplots_adjust(wspace=0.4, hspace=0.4)\n",
        "\n",
        "#Add title to subplots\n",
        "f.suptitle('Mean Property Value Vs Health Access Variables ', fontsize=16)\n",
        "\n",
        "\n",
        "#plot distance to gp in plot 1\n",
        "sns.scatterplot(data=health_prop_clean_trim, x='2016_mean', y='ah4gp', hue='inner_outer', legend=False, marker= \"h\", palette='colorblind', alpha =0.7, ax=ax[0,0], ).locator_params(axis='x', nbins=3)\n",
        "#Add Title to plot\n",
        "ax[0, 0].set_title('Access to GP')\n",
        "#add regression line\n",
        "sns.regplot(data=health_prop_clean_trim, x='2016_mean', y=\"ah4gp\", scatter=False, ax=ax[0,0], color='red')\n",
        "#remove xaxis title\n",
        "ax[0,0].set_xlabel('')\n",
        "#remove yaxis title\n",
        "ax[0,0].set_ylabel('')\n",
        "\n",
        "\n",
        "\n",
        "#plot distance to hospital in plot 2\n",
        "sns.scatterplot(data=health_prop_clean_trim, x='2016_mean', y='ah4hosp', hue='inner_outer', legend=False, marker= \"h\", palette='colorblind', alpha =0.7, ax=ax[0,1]).locator_params(axis='x', nbins=3)\n",
        "#Add title to plot\n",
        "ax[0, 1].set_title('Access to Hospital')\n",
        "#add regression line\n",
        "sns.regplot(data=health_prop_clean_trim, x='2016_mean', y=\"ah4hosp\", scatter=False, ax=ax[0,1], color='red')\n",
        "#remove xaxis title\n",
        "ax[0,1].set_xlabel('')\n",
        "#remove yaxis title\n",
        "ax[0,1].set_ylabel('')\n",
        "\n",
        "#plot distance to hospital in plot 3\n",
        "sns.scatterplot(data=health_prop_clean_trim, x='2016_mean', y='ah4dent', hue='inner_outer', legend=False, marker= \"h\", palette='colorblind', alpha =0.7, ax=ax[0,2]).locator_params(axis='x', nbins=3)\n",
        "#Add title to plot\n",
        "ax[0,2].set_title('Access to Dentist')\n",
        "#add regression line\n",
        "sns.regplot(data=health_prop_clean_trim, x='2016_mean', y=\"ah4dent\", scatter=False, ax=ax[0,2], color='red')\n",
        "#remove xaxis title\n",
        "ax[0,2].set_xlabel('')\n",
        "#remove yaxis title\n",
        "ax[0,2].set_ylabel('')\n",
        "\n",
        "\n",
        "\n",
        "#plot distance to pharmacy in plot 4\n",
        "sns.scatterplot(data=health_prop_clean_trim, x='2016_mean', y='ah4phar', hue='inner_outer', legend=False,  marker= \"h\", palette='colorblind', alpha =0.7, ax=ax[1,0]).locator_params(axis='x', nbins=3)\n",
        "#add plot title\n",
        "ax[1,0 ].set_title('Access to Pharmacy')\n",
        "#add regression line\n",
        "sns.regplot(data=health_prop_clean_trim, x='2016_mean', y=\"ah4phar\", scatter=False, ax=ax[1,0], color='red')\n",
        "#remove xaxis title\n",
        "ax[1,0].set_xlabel('')\n",
        "#center y label to use for four plots\n",
        "ax[1,0].set_ylabel('Drive Time to Service (minutes)', y=1.25,fontsize=10)\n",
        "\n",
        "#plot distance to leisure center in plot 5\n",
        "sns.scatterplot(data=health_prop_clean_trim, x='2016_mean', y='ah4leis', hue='inner_outer', legend=False,  marker= \"h\", palette='colorblind', alpha =0.7, ax=ax[1,1]).locator_params(axis='x', nbins=3)\n",
        "#add plot title\n",
        "ax[1, 1].set_title('Access to Leisure Center')\n",
        "#add regression line\n",
        "sns.regplot(data=health_prop_clean_trim, x='2016_mean', y=\"ah4leis\", scatter=False, ax=ax[1,1], color='red')\n",
        "#center x label to use for four plots\n",
        "ax[1,1].set_xlabel('Median Property Value (GBP)', labelpad=10, x=.8,fontsize=10)\n",
        "#remove yaxis title\n",
        "ax[1,1].set_ylabel('')\n",
        "\n",
        "#Hide axis of plot 6\n",
        "ax[1,2].axis('off')\n",
        "\n",
        "\n",
        "\n",
        "#LARGE PLOT\n",
        "\n",
        "\n",
        "#plot overal health access score vs property value\n",
        "g=sns.JointGrid(data=health_prop_clean_trim, x='2016_mean', y='ah4h', hue=\"inner_outer\", height =8)\n",
        "\n",
        "#add regression line\n",
        "sns.regplot(data=health_prop_clean_trim, x='2016_mean', y=\"ah4h\", scatter=False, ax=g.ax_joint, color='red')\n",
        "\n",
        "#remove scientific formating to include full house price\n",
        "plt.gcf().axes[0].xaxis.get_major_formatter().set_scientific(False)\n",
        "\n",
        "#plot health access score vs property value as scatter plot\n",
        "sns.scatterplot(data=health_prop_clean_trim, x='2016_mean', y='ah4h', hue='inner_outer', marker= \"h\", palette='colorblind', alpha =0.7, ax=g.ax_joint)\n",
        "\n",
        "#plothistograms on x-axis showing distribution of house price\n",
        "sns.histplot(data=health_prop_clean_trim, x='2016_mean', hue=\"inner_outer\", palette='colorblind', ax=g.ax_marg_x)\n",
        "\n",
        "#plot histogram on y-axis showing distribution of weighted health access\n",
        "sns.histplot(data=health_prop_clean_trim, y='ah4h', hue=\"inner_outer\", palette='colorblind', ax=g.ax_marg_y)\n",
        "\n",
        "#Remove legend from axis histograms\n",
        "g.ax_marg_y.legend_.remove()\n",
        "g.ax_marg_x.legend_.remove()\n",
        "\n",
        "#Remove title from main legend\n",
        "g.ax_joint.get_legend().set_title(\"\")\n",
        "\n",
        "#add title to property value distribution and set size\n",
        "g.ax_marg_x.set_title('Property Value Distribution', fontsize=10)\n",
        "\n",
        "#add title to weighted average Health Access Score distribution, set size, rotate and align to axis using x and y\n",
        "g.ax_marg_y.set_title('Weighted Average Access Distribution', fontsize=10, rotation=270, y=0.3, x=1.1)\n",
        "\n",
        "#Edit Axis Labels and set size\n",
        "g.ax_joint.set_ylabel('Weighted Average Health Access (minutes)', fontsize=10)\n",
        "g.ax_joint.set_xlabel('2016 Median Property Value (GBP)', fontsize=10);\n",
        "\n",
        "#change orientation of x-axis ticks\n",
        "g.ax_joint.tick_params(axis='x', rotation=45)\n",
        "\n",
        "#add title to map and set position and fontsize\n",
        "g.ax_joint.set_title('2016 Median Property Value Vs Weight Average Health Access', fontsize=16, y=1.3);"
      ],
      "metadata": {
        "id": "siwkTYllZLQc"
      },
      "execution_count": null,
      "outputs": [],
      "id": "siwkTYllZLQc"
    },
    {
      "cell_type": "code",
      "source": [],
      "metadata": {
        "id": "qrtZuD8fIa70"
      },
      "id": "qrtZuD8fIa70",
      "execution_count": null,
      "outputs": []
    },
    {
      "cell_type": "markdown",
      "source": [
        "# LOCAL AUTHORITY DISTRICT (LAD) VISUALISTAION"
      ],
      "metadata": {
        "id": "RQDyYrNVSecJ"
      },
      "id": "RQDyYrNVSecJ"
    },
    {
      "cell_type": "markdown",
      "source": [
        "#Additional Pre-processing for Spatial Visualization\n",
        "\n",
        "To investigate this correlation at a different spatial scale, some extra pre-processing was required. The first step was to group the data into Local Authority Districts (LADs). This was done through the LAD21 code and the variables aggregated by mean. Mean was chosen as the most appropriate due to the nature and distribution of the data.\n",
        "Additionally, median property price was divided by 100,000 to bring it to a comparable value with other data sets to aid in visualization, and the CSV file was joined with the geojson file to enable an accurate spatial projection.\n"
      ],
      "metadata": {
        "id": "lDdFTo3CXPWJ"
      },
      "id": "lDdFTo3CXPWJ"
    },
    {
      "cell_type": "markdown",
      "source": [
        "**COMBINING LAD BOUNDARY GEOMETRY AND HEALTH ACCESS Vs PROPERTY VALUE**"
      ],
      "metadata": {
        "id": "xqNjNtmxgjEu"
      },
      "id": "xqNjNtmxgjEu"
    },
    {
      "cell_type": "code",
      "source": [
        "#read in shape file of boundaries\n",
        "# Data downloaded from https://geoportal.statistics.gov.uk/datasets/ons::local-authority-districts-may-2024-boundaries-uk-bfe-2/explore?location=51.468470%2C-0.040938%2C9.90\n",
        "shp = gpd.read_file('https://github.com/Jonathan-C-Barrett/GEOG5990M/raw/main/Local_Authority_Districts_May_2024_Boundaries_UK_BFE_2410925873296837173.geojson')\n",
        "\n"
      ],
      "metadata": {
        "id": "c5qeDtCqYBMH"
      },
      "id": "c5qeDtCqYBMH",
      "execution_count": null,
      "outputs": []
    },
    {
      "cell_type": "code",
      "source": [
        "#inspect data\n",
        "shp.head()"
      ],
      "metadata": {
        "id": "nt5orhSZYyba"
      },
      "id": "nt5orhSZYyba",
      "execution_count": null,
      "outputs": []
    },
    {
      "cell_type": "code",
      "source": [
        "#group property and health data by Local Authority District\n",
        "health_prop_LAD = health_prop_clean_trim.groupby('LAD22NM').mean(numeric_only=True)\n",
        "health_prop_LAD.head(n=35)"
      ],
      "metadata": {
        "id": "Zl_qJCaqHEVX"
      },
      "id": "Zl_qJCaqHEVX",
      "execution_count": null,
      "outputs": []
    },
    {
      "cell_type": "code",
      "source": [
        "#convert 2016 property mean to more easily comparable by dividing by /100,000\n",
        "health_prop_LAD['2016_mean'] = health_prop_LAD['2016_mean']/100000\n",
        "health_prop_LAD.head()\n"
      ],
      "metadata": {
        "id": "Nmovb-3oZD4Z"
      },
      "id": "Nmovb-3oZD4Z",
      "execution_count": null,
      "outputs": []
    },
    {
      "cell_type": "code",
      "source": [
        "#explore basic statistics\n",
        "health_prop_LAD.describe()"
      ],
      "metadata": {
        "id": "PmBgWvwrHu34"
      },
      "id": "PmBgWvwrHu34",
      "execution_count": null,
      "outputs": []
    },
    {
      "cell_type": "code",
      "source": [
        "#Cobine property and Health access data with geoson LAD boundaries and check all 33 Boroughs present\n",
        "health_prop_LAD_ldn = pd.merge(shp, health_prop_LAD, left_on='LAD24NM', right_on='LAD22NM', how='right')\n",
        "health_prop_LAD_ldn.head(n=35)"
      ],
      "metadata": {
        "id": "gsAgme55BXzI"
      },
      "id": "gsAgme55BXzI",
      "execution_count": null,
      "outputs": []
    },
    {
      "cell_type": "code",
      "source": [
        "#check data on leaflet map\n",
        "health_prop_LAD_ldn.explore()"
      ],
      "metadata": {
        "id": "Xw6RIbrnCBYg"
      },
      "id": "Xw6RIbrnCBYg",
      "execution_count": null,
      "outputs": []
    },
    {
      "cell_type": "markdown",
      "source": [
        "#Exploration\n",
        "To explore the effect of the spatial aggregation a spearman’s rank correlation was again undertaken using the same visual decisions on the heatmap to ensure accessibility of the results.\n",
        "\n",
        "Following this a K means clustering was undertaken to group LADs together. The ‘elbow method’ was used to determine the optimal number of clusters where minimal variation was observed at the lowest cluster count. K-means was selected due to its wide use as an unsupervised learning algorithm with the elbow method being suitable for smaller k values <a href=\"http://166.62.7.99/assets/default/article/2020/10/22/article_1603378206.pdf\">[7]</a>.   \n",
        "\n",
        "Four clear clusters were identified, of which the median was then calculated and plotted on a bar chart to easily identify the characteristics of each cluster. An appropriate name was then assigned, to make the characteristics of each clear for the audience.\n"
      ],
      "metadata": {
        "id": "dnMnGUDwXiFr"
      },
      "id": "dnMnGUDwXiFr"
    },
    {
      "cell_type": "markdown",
      "source": [
        "**EXPLORE CORRELATION AT LAD SCALE**"
      ],
      "metadata": {
        "id": "ilP7KuOihDuC"
      },
      "id": "ilP7KuOihDuC"
    },
    {
      "cell_type": "code",
      "source": [
        "#Examine correlation between data at LAD level using Spearmans rank\n",
        "health_prop_LADcorr = health_prop_LAD_ldn[['ah4dent','ah4gp', 'ah4hosp', 'ah4phar', 'ah4leis', 'ah4h','2016_mean']].corr(method = 'spearman')\n",
        "health_prop_LADcorr"
      ],
      "metadata": {
        "id": "Ht2Cp_S6_T1w"
      },
      "id": "Ht2Cp_S6_T1w",
      "execution_count": null,
      "outputs": []
    },
    {
      "cell_type": "code",
      "source": [
        "#visualise correlation\n",
        "# define plot size\n",
        "fig,ax = plt.subplots(figsize=(8,8))\n",
        "\n",
        "# define mask to apply to upper right hand corner of the plot\n",
        "data_to_mask = np.triu(np.ones_like(health_prop_LADcorr))\n",
        "\n",
        "# define axis labels\n",
        "x_axis_labels = health_prop_LADcorr.columns\n",
        "y_axis_labels = health_prop_LADcorr.index\n",
        "\n",
        "\n",
        "#capatlise each label is x and Y\n",
        "x_axis_labels = [element.capitalize() for element in x_axis_labels]\n",
        "y_axis_labels = [element.capitalize() for element in y_axis_labels]\n",
        "\n",
        "# plot a heatmap of the correlation\n",
        "sns.heatmap(health_prop_LADcorr,\n",
        "            #exband linewith for clarity\n",
        "            linewidths=.5,\n",
        "            # include spearmans value in sqaures\n",
        "            annot=True,\n",
        "            # define colourmap\n",
        "            cmap='RdBu',\n",
        "            # define value of minimum colour on cbar\n",
        "            vmin=-1,\n",
        "            # define value of maximum colour on cbar\n",
        "            vmax=1,\n",
        "            # add the mask\n",
        "            mask=data_to_mask,\n",
        "            # use the custom labels\n",
        "            xticklabels=x_axis_labels,\n",
        "            yticklabels=y_axis_labels,\n",
        "            # add a label to the cbar\n",
        "            cbar_kws={'label': \"Spearman's Rank correlation\"},\n",
        "            # plot on the axis we defined\n",
        "            ax=ax)\n",
        "\n",
        "# Set axis labels\n",
        "ax.set(xlabel=\"Property Value and Access to Health Services\",\n",
        "       ylabel=\"Property Value and Access to Health Services\",\n",
        "      title ='Property Value and Access to Health Services Correlation' );\n"
      ],
      "metadata": {
        "id": "73EaXMJ_AJuG"
      },
      "id": "73EaXMJ_AJuG",
      "execution_count": null,
      "outputs": []
    },
    {
      "cell_type": "markdown",
      "source": [
        "**K- Means Classification**"
      ],
      "metadata": {
        "id": "_f7teMegEQ08"
      },
      "id": "_f7teMegEQ08"
    },
    {
      "cell_type": "code",
      "source": [
        "#Decide on number of clusters through elbow method\n",
        "# create an empty list\n",
        "Sum_of_squared_distances = []\n",
        "\n",
        "# get a range of numbers from 1 to 15\n",
        "K = range(1,15)\n",
        "#for each number in the range 1 to 15create a k-means model with that number of clusters and set a random state\n",
        "for k in K:\n",
        "    km = cluster.KMeans(n_clusters=k, init=\"random\", random_state=123)\n",
        "    # fit the model using the variables from database\n",
        "    km = km.fit(health_prop_LAD_ldn[['ah4dent','ah4gp', 'ah4hosp', 'ah4phar', 'ah4leis','2016_mean']].values)\n",
        "    # calculate the sum of the squared distances and add this to the 'Sum_of_squared_distances' list\n",
        "    Sum_of_squared_distances.append(km.inertia_)\n",
        "\n",
        "# plot the sum of squared distances against the number of clusters\n",
        "plt.plot(K, Sum_of_squared_distances, 'bx-')\n",
        "plt.xlabel('k')\n",
        "plt.ylabel('Sum_of_squared_distances')\n",
        "plt.title('Elbow Method For Optimal k')\n",
        "plt.show()"
      ],
      "metadata": {
        "id": "O8oen7GrAJpW"
      },
      "id": "O8oen7GrAJpW",
      "execution_count": null,
      "outputs": []
    },
    {
      "cell_type": "code",
      "source": [
        "# run the model with minimum needed for minimal change in this instance 4\n",
        "km4 = cluster.KMeans(n_clusters=4,init=\"random\", random_state=123)\n",
        "km4cls = km4.fit(health_prop_LAD_ldn[['ah4dent','ah4gp', 'ah4hosp', 'ah4phar', 'ah4leis','2016_mean']].values)"
      ],
      "metadata": {
        "id": "PWtkjcUTAJmw"
      },
      "id": "PWtkjcUTAJmw",
      "execution_count": null,
      "outputs": []
    },
    {
      "cell_type": "code",
      "source": [
        "#create a new column in db with cluster label\n",
        "health_prop_LAD_ldn['cluster'] = km4cls.labels_\n",
        "health_prop_LAD_ldn['cluster'].head()"
      ],
      "metadata": {
        "id": "8syObT89AJer"
      },
      "id": "8syObT89AJer",
      "execution_count": null,
      "outputs": []
    },
    {
      "cell_type": "code",
      "source": [
        "# Create a pairplot which shows relationship between variables captured by clustering\n",
        "sns.pairplot(health_prop_LAD_ldn[['ah4gp', 'ah4hosp', 'ah4phar', 'ah4leis','2016_mean','cluster']],\n",
        "             hue='cluster',\n",
        "             palette='Dark2',\n",
        "            height=5);"
      ],
      "metadata": {
        "id": "Bwuc0BXgZVBs"
      },
      "id": "Bwuc0BXgZVBs",
      "execution_count": null,
      "outputs": []
    },
    {
      "cell_type": "code",
      "source": [
        "#groupby cluster to get the median value of each variable by cluster\n",
        "health_prop_LAD_clusters_median=health_prop_LAD_ldn.groupby('cluster')[['ah4dent','ah4gp', 'ah4hosp', 'ah4phar', 'ah4leis','2016_mean']].median().reset_index()"
      ],
      "metadata": {
        "id": "-BXxLcxtinCp"
      },
      "id": "-BXxLcxtinCp",
      "execution_count": null,
      "outputs": []
    },
    {
      "cell_type": "code",
      "source": [
        "#explore median values\n",
        "health_prop_LAD_clusters_median"
      ],
      "metadata": {
        "id": "2Oobuhf_ePOd"
      },
      "id": "2Oobuhf_ePOd",
      "execution_count": null,
      "outputs": []
    },
    {
      "cell_type": "code",
      "source": [
        "# transform data to a long format to plot\n",
        "health_prop_LAD_clusters_median_to_plot =pd.melt(health_prop_LAD_clusters_median,id_vars='cluster',\n",
        "                                            value_vars=['ah4dent','ah4gp', 'ah4hosp', 'ah4phar', 'ah4leis','2016_mean'])"
      ],
      "metadata": {
        "id": "3YEXpRcSYs8o"
      },
      "id": "3YEXpRcSYs8o",
      "execution_count": null,
      "outputs": []
    },
    {
      "cell_type": "code",
      "source": [
        "# check data\n",
        "health_prop_LAD_clusters_median_to_plot.head()"
      ],
      "metadata": {
        "id": "Cr87ajbfcc1K"
      },
      "id": "Cr87ajbfcc1K",
      "execution_count": null,
      "outputs": []
    },
    {
      "cell_type": "code",
      "source": [
        "# Plot a faceted bar chart, where each row is a different cluster\n",
        "\n",
        "sns.catplot(health_prop_LAD_clusters_median_to_plot,\n",
        "            row='cluster',\n",
        "            y='variable',\n",
        "            x='value',\n",
        "            kind='bar',\n",
        "            aspect=4,\n",
        "            hue='value',\n",
        "            palette='summer');\n",
        "\n"
      ],
      "metadata": {
        "id": "8h5D12wycoJp"
      },
      "id": "8h5D12wycoJp",
      "execution_count": null,
      "outputs": []
    },
    {
      "cell_type": "code",
      "source": [
        "#changecluster naming\n",
        "#create empty column\n",
        "health_prop_LAD_ldn['Cluster_description']=\"\""
      ],
      "metadata": {
        "id": "D79EH9aCcoCB"
      },
      "id": "D79EH9aCcoCB",
      "execution_count": null,
      "outputs": []
    },
    {
      "cell_type": "code",
      "source": [
        "#update names of each cluster\n",
        "health_prop_LAD_ldn.loc[health_prop_LAD_ldn['cluster']==0,'Cluster_description']='Medium Value Medium  Access'\n",
        "health_prop_LAD_ldn.loc[health_prop_LAD_ldn['cluster']==1,'Cluster_description']='High Value Good Access'\n",
        "health_prop_LAD_ldn.loc[health_prop_LAD_ldn['cluster']==2,'Cluster_description']='Medium High Value Medium Access'\n",
        "health_prop_LAD_ldn.loc[health_prop_LAD_ldn['cluster']==3,'Cluster_description']='Low Value Lower Access'"
      ],
      "metadata": {
        "id": "0OueqnJycn6M"
      },
      "id": "0OueqnJycn6M",
      "execution_count": null,
      "outputs": []
    },
    {
      "cell_type": "markdown",
      "source": [
        "# Spatial Visualisation\n",
        "The second visualization provides two choropleth maps of equal size that illustrate the spatial variation in each of the four clusters in the first map, and in the second the weighted mean of health access for each LAD.\n",
        "\n",
        "The intended audience for this being local decision makers to identify how their ward compares with others within London, a selection of stylistic and practical choices were made to ensure optimum accessibility and useability.\n",
        "\n",
        "Initially the CRS of the data frame was converted to EPSG:3857 allowing its use with a basemap. The basemap selected was CartoDB from ‘contexttily’ under the option ‘Positron’. This map provided place names while remaining unobtrusive to the main visualization, and through adding a level of opacity to the choropleth maps, provides local context to the audience.  \n",
        "\n",
        "Virdis color palette was used for the clusters as this was designed to be easily distinguishable by individuals with common forms of color blindness <a href=\"https://pos.sissa.it/guidelines.pdf\">[8]</a> while still offering differentiation in color. Also, due to the nature of the data a not too strong sequential palette was preferable.\n",
        "\n",
        "For the weighted mean access, magma was chosen as another palette that offers accessibility to people with common forms of colorblindness but differentiates it from the other choropleth map and offers a stronger sense of sequentiality <a href=\"https://matplotlib.org/stable/users/explain/colors/colormaps.html\">[9]</a>.\n",
        "\n",
        "Some final aesthetic choices that were made for useability were that on both maps’ axis were removed as these overcomplicated the plots, a North Arrow was added to aid in locality, the legend was moved to ensure none of the map area was covered, and finally the color bar was resized to offer enough detail while not overpowering the map.\n"
      ],
      "metadata": {
        "id": "1Yzl-jhN6rsw"
      },
      "id": "1Yzl-jhN6rsw"
    },
    {
      "cell_type": "code",
      "source": [
        "#Check CRS of datafame\n",
        "health_prop_LAD_ldn.crs"
      ],
      "metadata": {
        "id": "JG50LH-d6q8c"
      },
      "id": "JG50LH-d6q8c",
      "execution_count": null,
      "outputs": []
    },
    {
      "cell_type": "code",
      "source": [
        "#convert crs to  Web Mercator projection (epsg=3857) to work with base maps\n",
        "health_prop_LAD_ldn_WM = health_prop_LAD_ldn.to_crs(epsg=3857)"
      ],
      "metadata": {
        "id": "rCRyn1vu42mx"
      },
      "id": "rCRyn1vu42mx",
      "execution_count": null,
      "outputs": []
    },
    {
      "cell_type": "code",
      "source": [
        "#check new crs\n",
        "health_prop_LAD_ldn_WM.crs"
      ],
      "metadata": {
        "id": "GCwaap6owAob"
      },
      "id": "GCwaap6owAob",
      "execution_count": null,
      "outputs": []
    },
    {
      "cell_type": "code",
      "source": [
        "# Data Visualisation\n",
        "\n",
        "#create a figure with 3 subplots\n",
        "f,ax = plt.subplots(1,2, figsize=(20,10), layout='constrained')\n",
        "f.suptitle('Access Clusters and Mean Distance for London LADs ', fontsize=23)\n",
        "\n",
        "#plot cluster description\n",
        "health_prop_LAD_ldn_WM.plot(ax=ax[0], column ='Cluster_description', alpha=0.7, cmap='viridis', legend=True)\n",
        "#add basemap\n",
        "ctx.add_basemap(ax=ax[0], source=ctx.providers.CartoDB.Positron, crs=health_prop_LAD_ldn_WM.crs)\n",
        "#plot LAD boundaries\n",
        "health_prop_LAD_ldn_WM.boundary.plot(ax=ax[0], color='black', linewidth=.5)\n",
        "# add title\n",
        "ax[0].set_title('Individual Distance to Health Service Clusters', fontsize=20)\n",
        "# add a North arrow\n",
        "add_north_arrow(ax=ax[0], scale=.75, xlim_pos=0.1, ylim_pos=.85, color='#000', text_scaler=2, text_yT=-1.25)\n",
        "# position legend\n",
        "ax[0].get_legend().set_bbox_to_anchor((1.0, 0.99))\n",
        "#plot LAD boundaries\n",
        "health_prop_LAD_ldn_WM.boundary.plot(ax=ax[0], color='black', linewidth=1)\n",
        "\n",
        "\n",
        "#plot health access score\n",
        "health_prop_LAD_ldn_WM.plot(ax=ax[1], column ='ah4h', alpha=0.7, legend=True, cmap='magma',legend_kwds={'shrink': 0.7})\n",
        "#add basemap\n",
        "ctx.add_basemap(ax=ax[1], source=ctx.providers.CartoDB.Positron, crs=health_prop_LAD_ldn_WM.crs)\n",
        "#plot LAD boundaries\n",
        "health_prop_LAD_ldn_WM.boundary.plot(ax=ax[1], color='black', linewidth=.5)\n",
        "# add title\n",
        "ax[1].set_title('Weighted Mean Health Services Distance', fontsize=20)\n",
        "# make axis invisible for subplot 1\n",
        "ax[0].set_axis_off()\n",
        "# make axis invisible for subplot 2\n",
        "ax[1].set_axis_off()\n",
        "\n",
        "plt.show();"
      ],
      "metadata": {
        "id": "J2ZeWmDb7qEm"
      },
      "id": "J2ZeWmDb7qEm",
      "execution_count": null,
      "outputs": []
    },
    {
      "cell_type": "markdown",
      "source": [
        "#Results and Conclusions\n",
        "From the exploration and visualization of this data we can draw some conclusions and observations. First is that there does appear to be a correlation between property value and access to health services although this is largely affected by scale.\n",
        "\n",
        "At the smaller LSOA scale the correlation is far more variable and less conclusive, while at the aggregated LAD scale a negative correlation is much more pronounced.\n",
        "\n",
        "Second is that at both scales’ dentists, leisure centers and pharmacies have a stronger correlation with house price than GPs or hospitals. This may be due to the private ownership of many of these facilities, where profitability is the focus.\n",
        "\n",
        "Finally, we can observe that there is a spatial component to health access across London, with more central areas providing the best access, while access generally declines as you near the outskirts of the city.  \n"
      ],
      "metadata": {
        "id": "5SAgJXWLYT46"
      },
      "id": "5SAgJXWLYT46"
    },
    {
      "cell_type": "markdown",
      "source": [
        "#Limitations\n",
        "It is the hope that this project provides a useful exploration of how access to healthcare may affect house prices and highlights areas that may require more infrastructural support, however this report also comes with some limitations.\n",
        "\n",
        "Chief among these is that the data only provides distance to service and not the capacity of the service itself <a href=\"https://www.nature.com/articles/s41597-019-0114-6\">[1]</a>. Equally the list of services is not exhaustive, and the report could be improved in further inclusions.\n",
        "\n",
        "Finally, the weighting of the overall distance is based on assumptions of the author and previous research, however exact weighting is difficult to justify <a href=\"https://www.nature.com/articles/s41597-019-0114-6\">[1]</a> and therefore could be improved with further research.\n",
        "\n",
        "Even with these limitations, however, access to healthcare is a right for all <a href=\"https://www.sciencedirect.com/science/article/pii/S0277953600004159\">[10]</a> and not just for the wealthiest, and so in the future hopefully more work can be done on equality of healthcare across London.\n",
        "\n"
      ],
      "metadata": {
        "id": "zt9gkLk9YYiq"
      },
      "id": "zt9gkLk9YYiq"
    },
    {
      "cell_type": "code",
      "execution_count": null,
      "id": "02f2b8d5-c223-4328-abd3-ea5a6678b910",
      "metadata": {
        "id": "02f2b8d5-c223-4328-abd3-ea5a6678b910"
      },
      "outputs": [],
      "source": []
    },
    {
      "cell_type": "markdown",
      "id": "393446de-c2bd-47d1-828a-5b60ec65b8c6",
      "metadata": {
        "id": "393446de-c2bd-47d1-828a-5b60ec65b8c6"
      },
      "source": [
        "## References\n",
        "<p><a href=\"https://www.nature.com/articles/s41597-019-0114-6\">[1]</a>Daras, K., Green, M.A., Davies, A., Barr, B. and Singleton, A., 2019. Open data on health-related neighbourhood features in Great Britain. Scientific data, 6(1), p.107.</p>\n",
        "\n",
        "<p><a href=\"http://dx.doi.org/10.2139/ssrn.2785400\">[2]</a> Kajuth, Florian and Schmidt, Tobias, Seasonality in House Prices (2011). Bundesbank Series 1 Discussion Paper No. 2011,08,</p>\n",
        "\n",
        "<p><a href=\"https://www.sciencedirect.com/science/article/pii/S2772662223000048\">[3]</a>Dash, C.S.K., Behera, A.K., Dehuri, S. and Ghosh, A., 2023. An outliers detection and elimination framework in classification task of data mining. Decision Analytics Journal, 6, p.100164.</p>\n",
        "\n",
        "<p><a href=\"https://onlinelibrary.wiley.com/doi/10.1002/cpe.3745\">[4]</a> Xiao, C., Ye, J., Esteves, R. M., and Rong, C. (2016) Using Spearman's correlation coefficients for exploratory data analysis on big dataset. Concurrency Computat.: Pract. Exper., 28: 3866–3878.</p>\n",
        "\n",
        "<p><a href=\"https://ijcttjournal.org/archives/ijctt-v71i4p116\">[5]</a>Srivastava, D., 2023. An introduction to data visualization tools and techniques in various domains. International Journal of Computer Trends and Technology, 71(4), pp.125-130.</p>\n",
        "\n",
        "<p><a href=\"https://data.europa.eu/apps/data-visualisation-guide/handling-overlap-in-scatter-plots\">[6]</a>European Data. 2023. Data-visualisation-guide handling-overlap-in-scatter-plots. Accessed July 2025</p>\n",
        "\n",
        "<p><a href=\"http://166.62.7.99/assets/default/article/2020/10/22/article_1603378206.pdf\">[7]</a>Cui, M., 2020. Introduction to the k-means clustering algorithm based on the elbow method. Accounting, Auditing and Finance, 1(1), pp.5-8.3</p>\n",
        "\n",
        "<p><a href=\"https://pos.sissa.it/guidelines.pdf\">[8]</a>Cherenkov Telescope Array Observatory (CTAO). (October, 2020). Best Practices for Colour Blind Friendly Publications & Descriptions.</p>\n",
        "\n",
        "<p><a href=\"https://matplotlib.org/stable/users/explain/colors/colormaps.html\">[9]</a>Matplotlib. Matplotlib development team. 2012-2025. Available at  https://matplotlib.org/stable/users/explain/colors/colormaps.html Accessed July 2025</p>\n",
        "\n",
        "<p><a href=\"https://www.sciencedirect.com/science/article/pii/S0277953600004159\">[10]</a>Goddard, M. and Smith, P., 2001. Equity of access to health care services:: Theory and evidence from the UK. Social science & medicine, 53(9), pp.1149-1162</p>\n",
        "\n",
        "\n"
      ]
    },
    {
      "cell_type": "code",
      "execution_count": null,
      "id": "e902a5a4-c810-4cb0-883d-be558f696c8b",
      "metadata": {
        "id": "e902a5a4-c810-4cb0-883d-be558f696c8b"
      },
      "outputs": [],
      "source": []
    }
  ],
  "metadata": {
    "kernelspec": {
      "display_name": "Python 3 (ipykernel)",
      "language": "python",
      "name": "python3"
    },
    "language_info": {
      "codemirror_mode": {
        "name": "ipython",
        "version": 3
      },
      "file_extension": ".py",
      "mimetype": "text/x-python",
      "name": "python",
      "nbconvert_exporter": "python",
      "pygments_lexer": "ipython3",
      "version": "3.10.12"
    },
    "colab": {
      "provenance": [],
      "include_colab_link": true
    }
  },
  "nbformat": 4,
  "nbformat_minor": 5
}