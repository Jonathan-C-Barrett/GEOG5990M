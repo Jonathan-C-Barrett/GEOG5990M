{
  "cells": [
    {
      "cell_type": "markdown",
      "metadata": {
        "id": "view-in-github",
        "colab_type": "text"
      },
      "source": [
        "<a href=\"https://colab.research.google.com/github/Jonathan-C-Barrett/GEOG5990M/blob/main/GEOG5003M_Final_Project_template.ipynb\" target=\"_parent\"><img src=\"https://colab.research.google.com/assets/colab-badge.svg\" alt=\"Open In Colab\"/></a>"
      ]
    },
    {
      "cell_type": "markdown",
      "id": "1e1694b4-0ff8-4e25-8c21-756e23ce6972",
      "metadata": {
        "id": "1e1694b4-0ff8-4e25-8c21-756e23ce6972"
      },
      "source": [
        "# GEOG5003M Final Assignment (Template)\n",
        "\n",
        "Student ID number:\n",
        "\n",
        "GitHub repo link:\n",
        "\n",
        "Word count limit= 1,500 words max (markdown cells only, excluding readme)"
      ]
    },
    {
      "cell_type": "code",
      "execution_count": null,
      "id": "1d435d17-0eb5-4238-b242-8e202462c4d9",
      "metadata": {
        "id": "1d435d17-0eb5-4238-b242-8e202462c4d9",
        "collapsed": true
      },
      "outputs": [],
      "source": [
        "# read in required packages\n",
        "\n",
        "import geopandas as gpd\n",
        "import pandas as pd\n",
        "import seaborn as sns\n",
        "from scipy import stats\n",
        "import numpy as np\n",
        "\n",
        "import matplotlib.pyplot as plt\n",
        "\n",
        "!pip install mapclassify"
      ]
    },
    {
      "cell_type": "code",
      "execution_count": null,
      "id": "c3540d43-fbe5-48a1-9d2a-79b3c38f7bdf",
      "metadata": {
        "id": "c3540d43-fbe5-48a1-9d2a-79b3c38f7bdf",
        "collapsed": true
      },
      "outputs": [],
      "source": [
        "#Read in Health Services Data\n",
        "ahah = pd.read_csv('https://github.com/Jonathan-C-Barrett/GEOG5990M/raw/refs/heads/main/ahah_v4.csv')\n",
        "ahah.head()"
      ]
    },
    {
      "cell_type": "code",
      "source": [
        "#Select only columns relating to Health Services\n",
        "health = ahah[['LSOA21CD', 'ah4dent', 'ah4gp', 'ah4hosp', 'ah4phar', 'ah4leis', 'ah4h']]\n",
        "health.head()"
      ],
      "metadata": {
        "id": "YCtq8jyQSste",
        "collapsed": true
      },
      "id": "YCtq8jyQSste",
      "execution_count": null,
      "outputs": []
    },
    {
      "cell_type": "code",
      "source": [
        "#check for missing values\n",
        "health.isna().sum()"
      ],
      "metadata": {
        "id": "XWeJujNAs1C1"
      },
      "id": "XWeJujNAs1C1",
      "execution_count": null,
      "outputs": []
    },
    {
      "cell_type": "code",
      "source": [],
      "metadata": {
        "id": "c6YzoecHwYgK"
      },
      "id": "c6YzoecHwYgK",
      "execution_count": null,
      "outputs": []
    },
    {
      "cell_type": "code",
      "source": [],
      "metadata": {
        "id": "n0iKpnJPwYbw"
      },
      "id": "n0iKpnJPwYbw",
      "execution_count": null,
      "outputs": []
    },
    {
      "cell_type": "code",
      "source": [],
      "metadata": {
        "id": "2nF5yrtSwYTr"
      },
      "id": "2nF5yrtSwYTr",
      "execution_count": null,
      "outputs": []
    },
    {
      "cell_type": "code",
      "source": [],
      "metadata": {
        "id": "HbN51ugDs0yn"
      },
      "id": "HbN51ugDs0yn",
      "execution_count": null,
      "outputs": []
    },
    {
      "cell_type": "code",
      "source": [
        "#Read in Median Property Sales\n",
        "m_sales = pd.read_csv('https://github.com/Jonathan-C-Barrett/GEOG5990M/raw/refs/heads/main/land-registry-house-prices-LSOA.csv')\n",
        "m_sales.head()"
      ],
      "metadata": {
        "id": "2RT3jOJwp3GG"
      },
      "id": "2RT3jOJwp3GG",
      "execution_count": null,
      "outputs": []
    },
    {
      "cell_type": "code",
      "source": [
        "#Select only columns relating to 2018\n",
        "prop_16 = m_sales[['Code', 'Area','Year ending Mar 2016','Year ending Jun 2016', 'Year ending Sep 2016', 'Year ending Dec 2016']]\n",
        "prop_16.head()"
      ],
      "metadata": {
        "id": "lAqpq_uB0pi0"
      },
      "id": "lAqpq_uB0pi0",
      "execution_count": null,
      "outputs": []
    },
    {
      "cell_type": "code",
      "source": [
        "#check for missing values\n",
        "prop_16.isna().sum()"
      ],
      "metadata": {
        "id": "wY6528y21nFq"
      },
      "id": "wY6528y21nFq",
      "execution_count": null,
      "outputs": []
    },
    {
      "cell_type": "code",
      "source": [
        "#remove NA values\n",
        "prop_16 = prop_16.dropna()\n",
        "prop_16.isna().sum()"
      ],
      "metadata": {
        "id": "TKK30LiP_bpG"
      },
      "id": "TKK30LiP_bpG",
      "execution_count": null,
      "outputs": []
    },
    {
      "cell_type": "code",
      "source": [
        "#examine property info for count and data type\n",
        "prop_16.info()"
      ],
      "metadata": {
        "id": "zKkmqPkaVkEL"
      },
      "id": "zKkmqPkaVkEL",
      "execution_count": null,
      "outputs": []
    },
    {
      "cell_type": "code",
      "source": [
        "#add conversion to LSOA21\n",
        "LSOA21 = pd.read_csv('https://github.com/Jonathan-C-Barrett/GEOG5990M/raw/refs/heads/main/LSOA_(2011)_to_LSOA_(2021)_to_Local_Authority_District_(2022)_Best_Fit_Lookup_for_EW_(V2).csv')\n",
        "LSOA21.head()\n"
      ],
      "metadata": {
        "id": "U60wkYsR_qlR"
      },
      "id": "U60wkYsR_qlR",
      "execution_count": null,
      "outputs": []
    },
    {
      "cell_type": "code",
      "source": [
        "#inspect info for data type\n",
        "LSOA21_prop.info()"
      ],
      "metadata": {
        "id": "OCNvIjJ7_qZ3"
      },
      "id": "OCNvIjJ7_qZ3",
      "execution_count": null,
      "outputs": []
    },
    {
      "cell_type": "code",
      "source": [
        "#combine prop_16 data and LSOA21 by code in prop_16 and LSOA11CD in LSOA21 in to remove areas outside london and make comparable\n",
        "prop_16_LSOA21 = pd.merge(prop_16, LSOA21_prop, left_on='Code', right_on='LSOA11CD', how='left')\n",
        "prop_16_LSOA21.head()"
      ],
      "metadata": {
        "id": "MAkLlHj2SHvq"
      },
      "id": "MAkLlHj2SHvq",
      "execution_count": null,
      "outputs": []
    },
    {
      "cell_type": "code",
      "source": [
        "#check Info for count\n",
        "prop_16_LSOA21.info()"
      ],
      "metadata": {
        "id": "xFwV4MvPSHpM"
      },
      "id": "xFwV4MvPSHpM",
      "execution_count": null,
      "outputs": []
    },
    {
      "cell_type": "code",
      "source": [],
      "metadata": {
        "id": "nCmJBwR4SHe7"
      },
      "id": "nCmJBwR4SHe7",
      "execution_count": null,
      "outputs": []
    },
    {
      "cell_type": "code",
      "source": [],
      "metadata": {
        "id": "LEuimIi2U2XW"
      },
      "id": "LEuimIi2U2XW",
      "execution_count": null,
      "outputs": []
    },
    {
      "cell_type": "code",
      "source": [],
      "metadata": {
        "id": "BfmbPnbFU2Pl"
      },
      "id": "BfmbPnbFU2Pl",
      "execution_count": null,
      "outputs": []
    },
    {
      "cell_type": "code",
      "source": [
        "#combine health and property data by LSOA code in property to remove areas outside london\n",
        "health_prop = pd.merge(health, prop_16_LSOA21, left_on='LSOA21CD', right_on='LSOA21CD', how='right')\n",
        "health_prop.head()"
      ],
      "metadata": {
        "id": "EuywDoyuWz_n"
      },
      "id": "EuywDoyuWz_n",
      "execution_count": null,
      "outputs": []
    },
    {
      "cell_type": "code",
      "source": [
        "#check info for data frame to check count and data type\n",
        "health_prop.info()"
      ],
      "metadata": {
        "id": "mJf3-hdVWMmK"
      },
      "id": "mJf3-hdVWMmK",
      "execution_count": null,
      "outputs": []
    },
    {
      "cell_type": "code",
      "source": [
        "#check for missing values\n",
        "health_prop.isnull().sum()"
      ],
      "metadata": {
        "id": "smXfh_uH_6N6"
      },
      "id": "smXfh_uH_6N6",
      "execution_count": null,
      "outputs": []
    },
    {
      "cell_type": "code",
      "source": [
        "#remove duplicated columns from Data base\n",
        "health_prop_clean = health_prop.drop(columns=['Code', 'Area', 'LSOA11NM', 'LSOA11CD', 'ObjectId','LAD22NMW'])\n",
        "health_prop_clean.head()\n"
      ],
      "metadata": {
        "id": "nBwGASqBCST1"
      },
      "id": "nBwGASqBCST1",
      "execution_count": null,
      "outputs": []
    },
    {
      "cell_type": "code",
      "source": [],
      "metadata": {
        "id": "GqwwuyDSCm0Z"
      },
      "id": "GqwwuyDSCm0Z",
      "execution_count": null,
      "outputs": []
    },
    {
      "cell_type": "code",
      "source": [],
      "metadata": {
        "id": "02Jhqe_tCmrW"
      },
      "id": "02Jhqe_tCmrW",
      "execution_count": null,
      "outputs": []
    },
    {
      "cell_type": "code",
      "source": [],
      "metadata": {
        "id": "b8ynk8T2WoJH"
      },
      "id": "b8ynk8T2WoJH",
      "execution_count": null,
      "outputs": []
    },
    {
      "cell_type": "code",
      "source": [],
      "metadata": {
        "id": "l_ErUwrXWoAF"
      },
      "id": "l_ErUwrXWoAF",
      "execution_count": null,
      "outputs": []
    },
    {
      "cell_type": "code",
      "source": [
        "# Data downloaded from https://geoportal.statistics.gov.uk/datasets/f23c50d2bffa4a8d9693bcf4ed72bdaf_0/explore?location=0.278866%2C-2.487028%2C0.00\n",
        "shp =gpd.read_file('/content/Output_Areas_2021_EW_BFE_V9_-6709771492190738846.geojson')\n"
      ],
      "metadata": {
        "id": "c5qeDtCqYBMH"
      },
      "id": "c5qeDtCqYBMH",
      "execution_count": 70,
      "outputs": []
    },
    {
      "cell_type": "code",
      "source": [
        "#inspect data\n",
        "shp.head()"
      ],
      "metadata": {
        "id": "nt5orhSZYyba"
      },
      "id": "nt5orhSZYyba",
      "execution_count": null,
      "outputs": []
    },
    {
      "cell_type": "code",
      "source": [
        "#combine boundary data and health and property data through LSOA code\n",
        "ldn_prop = pd.merge(shp, prop_16, left_on='LSOA21CD', right_on='Code', how='right')\n",
        "ldn_prop.head()"
      ],
      "metadata": {
        "id": "71MWZAYeXtIe"
      },
      "id": "71MWZAYeXtIe",
      "execution_count": null,
      "outputs": []
    },
    {
      "cell_type": "code",
      "source": [
        "#inspect data\n",
        "ldn_prop.isnull().sum()"
      ],
      "metadata": {
        "id": "9tiOV67cZHuv"
      },
      "id": "9tiOV67cZHuv",
      "execution_count": null,
      "outputs": []
    },
    {
      "cell_type": "code",
      "source": [
        "ldn_health_prop.to_file('London.geojson')"
      ],
      "metadata": {
        "id": "Zl_qJCaqHEVX"
      },
      "id": "Zl_qJCaqHEVX",
      "execution_count": 76,
      "outputs": []
    },
    {
      "cell_type": "code",
      "source": [
        "ldn_health_prop.explore()"
      ],
      "metadata": {
        "id": "PmBgWvwrHu34"
      },
      "id": "PmBgWvwrHu34",
      "execution_count": null,
      "outputs": []
    },
    {
      "cell_type": "code",
      "source": [
        "#select only london boroughs\n",
        "london_shp= shp.loc[shp['LSOA21NM'].str.contains('City of London') |\n",
        "                    shp['LSOA21NM'].str.contains('Barking and Dagenham')|\n",
        "                    shp['LSOA21NM'].str.contains('Barnet')|\n",
        "                    shp['LSOA21NM'].str.contains('Bexley')|\n",
        "                    shp['LSOA21NM'].str.contains('Brent') |\n",
        "                    shp['LSOA21NM'].str.contains('Bromley')|\n",
        "                    shp['LSOA21NM'].str.contains('Camden')|\n",
        "                    shp['LSOA21NM'].str.contains('Croydon')|\n",
        "                    shp['LSOA21NM'].str.contains('Ealing')|\n",
        "                    shp['LSOA21NM'].str.contains('Enfield')|\n",
        "                    shp['LSOA21NM'].str.contains('Greenwich')|\n",
        "                    shp['LSOA21NM'].str.contains('Hackney')|\n",
        "                    shp['LSOA21NM'].str.contains('Hammersmith and Fulham')|\n",
        "                    shp['LSOA21NM'].str.contains('Haringey')|\n",
        "                    shp['LSOA21NM'].str.contains('Harrow')|\n",
        "                    shp['LSOA21NM'].str.contains('Havering')|\n",
        "                    shp['LSOA21NM'].str.contains('Hillingdon')|\n",
        "                    shp['LSOA21NM'].str.contains('Hounslow')|\n",
        "                    shp['LSOA21NM'].str.contains('Islington')|\n",
        "                    shp['LSOA21NM'].str.contains('Kensington and Chelsea')|\n",
        "                    shp['LSOA21NM'].str.contains('Kingston upon Thames')|\n",
        "                    shp['LSOA21NM'].str.contains('Lambeth')|\n",
        "                    shp['LSOA21NM'].str.contains('Lewisham')|\n",
        "                    shp['LSOA21NM'].str.contains('Merton')|\n",
        "                    shp['LSOA21NM'].str.contains('Newham')|\n",
        "                    shp['LSOA21NM'].str.contains('Redbridge')|\n",
        "                    shp['LSOA21NM'].str.contains('Richmond upon Thames')|\n",
        "                    shp['LSOA21NM'].str.contains('Southwark')|\n",
        "                    shp['LSOA21NM'].str.contains('Sutton')|\n",
        "                    shp['LSOA21NM'].str.contains('Southwark')|\n",
        "                    shp['LSOA21NM'].str.contains('Tower Hamlets')|\n",
        "                    shp['LSOA21NM'].str.contains('Waltham Forest')|\n",
        "                    shp['LSOA21NM'].str.contains('Wandsworth')|\n",
        "                    shp['LSOA21NM'].str.contains('Westminster'),:]"
      ],
      "metadata": {
        "id": "A7BgVFjvZ2JD"
      },
      "id": "A7BgVFjvZ2JD",
      "execution_count": 81,
      "outputs": []
    },
    {
      "cell_type": "code",
      "source": [
        "#investigate data\n",
        "london_shp.isnull().sum()"
      ],
      "metadata": {
        "id": "kSy0DeY3bnAv",
        "colab": {
          "base_uri": "https://localhost:8080/",
          "height": 429
        },
        "outputId": "8993922b-df54-4357-8c66-5bb865b03688"
      },
      "id": "kSy0DeY3bnAv",
      "execution_count": 84,
      "outputs": [
        {
          "output_type": "execute_result",
          "data": {
            "text/plain": [
              "FID          0\n",
              "OA21CD       0\n",
              "LSOA21CD     0\n",
              "LSOA21NM     0\n",
              "LSOA21NMW    0\n",
              "BNG_E        0\n",
              "BNG_N        0\n",
              "LAT          0\n",
              "LONG         0\n",
              "GlobalID     0\n",
              "geometry     0\n",
              "dtype: int64"
            ],
            "text/html": [
              "<div>\n",
              "<style scoped>\n",
              "    .dataframe tbody tr th:only-of-type {\n",
              "        vertical-align: middle;\n",
              "    }\n",
              "\n",
              "    .dataframe tbody tr th {\n",
              "        vertical-align: top;\n",
              "    }\n",
              "\n",
              "    .dataframe thead th {\n",
              "        text-align: right;\n",
              "    }\n",
              "</style>\n",
              "<table border=\"1\" class=\"dataframe\">\n",
              "  <thead>\n",
              "    <tr style=\"text-align: right;\">\n",
              "      <th></th>\n",
              "      <th>0</th>\n",
              "    </tr>\n",
              "  </thead>\n",
              "  <tbody>\n",
              "    <tr>\n",
              "      <th>FID</th>\n",
              "      <td>0</td>\n",
              "    </tr>\n",
              "    <tr>\n",
              "      <th>OA21CD</th>\n",
              "      <td>0</td>\n",
              "    </tr>\n",
              "    <tr>\n",
              "      <th>LSOA21CD</th>\n",
              "      <td>0</td>\n",
              "    </tr>\n",
              "    <tr>\n",
              "      <th>LSOA21NM</th>\n",
              "      <td>0</td>\n",
              "    </tr>\n",
              "    <tr>\n",
              "      <th>LSOA21NMW</th>\n",
              "      <td>0</td>\n",
              "    </tr>\n",
              "    <tr>\n",
              "      <th>BNG_E</th>\n",
              "      <td>0</td>\n",
              "    </tr>\n",
              "    <tr>\n",
              "      <th>BNG_N</th>\n",
              "      <td>0</td>\n",
              "    </tr>\n",
              "    <tr>\n",
              "      <th>LAT</th>\n",
              "      <td>0</td>\n",
              "    </tr>\n",
              "    <tr>\n",
              "      <th>LONG</th>\n",
              "      <td>0</td>\n",
              "    </tr>\n",
              "    <tr>\n",
              "      <th>GlobalID</th>\n",
              "      <td>0</td>\n",
              "    </tr>\n",
              "    <tr>\n",
              "      <th>geometry</th>\n",
              "      <td>0</td>\n",
              "    </tr>\n",
              "  </tbody>\n",
              "</table>\n",
              "</div><br><label><b>dtype:</b> int64</label>"
            ]
          },
          "metadata": {},
          "execution_count": 84
        }
      ]
    },
    {
      "cell_type": "code",
      "source": [
        "#explore on leaflet map\n",
        "london_shp.explore()"
      ],
      "metadata": {
        "id": "CZY5MjG6aua3"
      },
      "id": "CZY5MjG6aua3",
      "execution_count": null,
      "outputs": []
    },
    {
      "cell_type": "code",
      "source": [
        "#check for missing values\n",
        "london_shp.isna().sum()"
      ],
      "metadata": {
        "id": "-BXxLcxtinCp"
      },
      "id": "-BXxLcxtinCp",
      "execution_count": null,
      "outputs": []
    },
    {
      "cell_type": "code",
      "source": [],
      "metadata": {
        "id": "2Oobuhf_ePOd"
      },
      "id": "2Oobuhf_ePOd",
      "execution_count": null,
      "outputs": []
    },
    {
      "cell_type": "code",
      "source": [],
      "metadata": {
        "id": "3YEXpRcSYs8o"
      },
      "id": "3YEXpRcSYs8o",
      "execution_count": null,
      "outputs": []
    },
    {
      "cell_type": "markdown",
      "id": "6fea5785-5aed-491a-ace3-5ad07d446e4c",
      "metadata": {
        "id": "6fea5785-5aed-491a-ace3-5ad07d446e4c"
      },
      "source": [
        "This is an example block of mardown text I want to reference <a href=\"#ref1\">[1]</a>. I might need to add some more citations <a href=\"#ref2\">[2]</a><a href=\"#ref2\">[3]</a>\n",
        "\n"
      ]
    },
    {
      "cell_type": "code",
      "execution_count": null,
      "id": "b4b3f4ce-f5f6-471e-ae7b-6224b75ffec4",
      "metadata": {
        "id": "b4b3f4ce-f5f6-471e-ae7b-6224b75ffec4"
      },
      "outputs": [],
      "source": []
    },
    {
      "cell_type": "code",
      "execution_count": null,
      "id": "cb7f14ec-9555-4fe6-98db-5f1f02fe65cd",
      "metadata": {
        "id": "cb7f14ec-9555-4fe6-98db-5f1f02fe65cd"
      },
      "outputs": [],
      "source": []
    },
    {
      "cell_type": "code",
      "execution_count": null,
      "id": "bcbf02dc-73a9-4a6d-9495-580b72055c2a",
      "metadata": {
        "id": "bcbf02dc-73a9-4a6d-9495-580b72055c2a"
      },
      "outputs": [],
      "source": []
    },
    {
      "cell_type": "code",
      "execution_count": null,
      "id": "4c7a4913-7716-40c2-9734-2610041029c2",
      "metadata": {
        "id": "4c7a4913-7716-40c2-9734-2610041029c2"
      },
      "outputs": [],
      "source": []
    },
    {
      "cell_type": "markdown",
      "id": "4806cdd0-3484-45dd-b139-f36e28ce77a9",
      "metadata": {
        "id": "4806cdd0-3484-45dd-b139-f36e28ce77a9"
      },
      "source": [
        "Data Visualisation\n",
        "- Don't forget to present your final two data visualisation (one spatial and one non-spatial) and the justifications about the decisions you made whilst preparing and visualising the data."
      ]
    },
    {
      "cell_type": "code",
      "execution_count": null,
      "id": "cba9bc3e-33e2-44b1-b8a6-47242500eb32",
      "metadata": {
        "id": "cba9bc3e-33e2-44b1-b8a6-47242500eb32"
      },
      "outputs": [],
      "source": []
    },
    {
      "cell_type": "code",
      "execution_count": null,
      "id": "02f2b8d5-c223-4328-abd3-ea5a6678b910",
      "metadata": {
        "id": "02f2b8d5-c223-4328-abd3-ea5a6678b910"
      },
      "outputs": [],
      "source": []
    },
    {
      "cell_type": "markdown",
      "id": "393446de-c2bd-47d1-828a-5b60ec65b8c6",
      "metadata": {
        "id": "393446de-c2bd-47d1-828a-5b60ec65b8c6"
      },
      "source": [
        "## References\n",
        "<p><a href=\"add_url_here\">[1]</a>Footnote citation goes here</p>\n",
        "<p><a href=\"https://github.com/FrancescaPontin/GEOG5990\">[2]</a>GEOG5990M course materials</p>\n",
        "<p><a href=\"add_url_here\">[3]</a>Citation 3</p>"
      ]
    },
    {
      "cell_type": "code",
      "execution_count": null,
      "id": "e902a5a4-c810-4cb0-883d-be558f696c8b",
      "metadata": {
        "id": "e902a5a4-c810-4cb0-883d-be558f696c8b"
      },
      "outputs": [],
      "source": []
    }
  ],
  "metadata": {
    "kernelspec": {
      "display_name": "Python 3 (ipykernel)",
      "language": "python",
      "name": "python3"
    },
    "language_info": {
      "codemirror_mode": {
        "name": "ipython",
        "version": 3
      },
      "file_extension": ".py",
      "mimetype": "text/x-python",
      "name": "python",
      "nbconvert_exporter": "python",
      "pygments_lexer": "ipython3",
      "version": "3.10.12"
    },
    "colab": {
      "provenance": [],
      "include_colab_link": true
    }
  },
  "nbformat": 4,
  "nbformat_minor": 5
}