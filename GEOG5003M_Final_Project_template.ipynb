{
  "cells": [
    {
      "cell_type": "markdown",
      "metadata": {
        "id": "view-in-github",
        "colab_type": "text"
      },
      "source": [
        "<a href=\"https://colab.research.google.com/github/Jonathan-C-Barrett/GEOG5990M/blob/main/GEOG5003M_Final_Project_template.ipynb\" target=\"_parent\"><img src=\"https://colab.research.google.com/assets/colab-badge.svg\" alt=\"Open In Colab\"/></a>"
      ]
    },
    {
      "cell_type": "markdown",
      "id": "1e1694b4-0ff8-4e25-8c21-756e23ce6972",
      "metadata": {
        "id": "1e1694b4-0ff8-4e25-8c21-756e23ce6972"
      },
      "source": [
        "# GEOG5003M Final Assignment (Template)\n",
        "\n",
        "Student ID number:\n",
        "\n",
        "GitHub repo link:\n",
        "\n",
        "Word count limit= 1,500 words max (markdown cells only, excluding readme)"
      ]
    },
    {
      "cell_type": "markdown",
      "source": [
        "# Read in Packages"
      ],
      "metadata": {
        "id": "8uaiBpmjdnp2"
      },
      "id": "8uaiBpmjdnp2"
    },
    {
      "cell_type": "code",
      "execution_count": 100,
      "id": "1d435d17-0eb5-4238-b242-8e202462c4d9",
      "metadata": {
        "id": "1d435d17-0eb5-4238-b242-8e202462c4d9",
        "colab": {
          "base_uri": "https://localhost:8080/"
        },
        "collapsed": true,
        "outputId": "fc62dd3c-b2b4-4c2a-ad63-fe70a90897c4"
      },
      "outputs": [
        {
          "output_type": "stream",
          "name": "stdout",
          "text": [
            "Requirement already satisfied: mapclassify in /usr/local/lib/python3.11/dist-packages (2.10.0)\n",
            "Requirement already satisfied: networkx>=3.2 in /usr/local/lib/python3.11/dist-packages (from mapclassify) (3.5)\n",
            "Requirement already satisfied: numpy>=1.26 in /usr/local/lib/python3.11/dist-packages (from mapclassify) (2.0.2)\n",
            "Requirement already satisfied: pandas>=2.1 in /usr/local/lib/python3.11/dist-packages (from mapclassify) (2.2.2)\n",
            "Requirement already satisfied: scikit-learn>=1.4 in /usr/local/lib/python3.11/dist-packages (from mapclassify) (1.6.1)\n",
            "Requirement already satisfied: scipy>=1.12 in /usr/local/lib/python3.11/dist-packages (from mapclassify) (1.16.0)\n",
            "Requirement already satisfied: python-dateutil>=2.8.2 in /usr/local/lib/python3.11/dist-packages (from pandas>=2.1->mapclassify) (2.9.0.post0)\n",
            "Requirement already satisfied: pytz>=2020.1 in /usr/local/lib/python3.11/dist-packages (from pandas>=2.1->mapclassify) (2025.2)\n",
            "Requirement already satisfied: tzdata>=2022.7 in /usr/local/lib/python3.11/dist-packages (from pandas>=2.1->mapclassify) (2025.2)\n",
            "Requirement already satisfied: joblib>=1.2.0 in /usr/local/lib/python3.11/dist-packages (from scikit-learn>=1.4->mapclassify) (1.5.1)\n",
            "Requirement already satisfied: threadpoolctl>=3.1.0 in /usr/local/lib/python3.11/dist-packages (from scikit-learn>=1.4->mapclassify) (3.6.0)\n",
            "Requirement already satisfied: six>=1.5 in /usr/local/lib/python3.11/dist-packages (from python-dateutil>=2.8.2->pandas>=2.1->mapclassify) (1.17.0)\n",
            "Requirement already satisfied: contextily in /usr/local/lib/python3.11/dist-packages (1.6.2)\n",
            "Requirement already satisfied: geopy in /usr/local/lib/python3.11/dist-packages (from contextily) (2.4.1)\n",
            "Requirement already satisfied: matplotlib in /usr/local/lib/python3.11/dist-packages (from contextily) (3.10.0)\n",
            "Requirement already satisfied: mercantile in /usr/local/lib/python3.11/dist-packages (from contextily) (1.2.1)\n",
            "Requirement already satisfied: pillow in /usr/local/lib/python3.11/dist-packages (from contextily) (11.3.0)\n",
            "Requirement already satisfied: rasterio in /usr/local/lib/python3.11/dist-packages (from contextily) (1.4.3)\n",
            "Requirement already satisfied: requests in /usr/local/lib/python3.11/dist-packages (from contextily) (2.32.3)\n",
            "Requirement already satisfied: joblib in /usr/local/lib/python3.11/dist-packages (from contextily) (1.5.1)\n",
            "Requirement already satisfied: xyzservices in /usr/local/lib/python3.11/dist-packages (from contextily) (2025.4.0)\n",
            "Requirement already satisfied: geographiclib<3,>=1.52 in /usr/local/lib/python3.11/dist-packages (from geopy->contextily) (2.0)\n",
            "Requirement already satisfied: contourpy>=1.0.1 in /usr/local/lib/python3.11/dist-packages (from matplotlib->contextily) (1.3.2)\n",
            "Requirement already satisfied: cycler>=0.10 in /usr/local/lib/python3.11/dist-packages (from matplotlib->contextily) (0.12.1)\n",
            "Requirement already satisfied: fonttools>=4.22.0 in /usr/local/lib/python3.11/dist-packages (from matplotlib->contextily) (4.59.0)\n",
            "Requirement already satisfied: kiwisolver>=1.3.1 in /usr/local/lib/python3.11/dist-packages (from matplotlib->contextily) (1.4.8)\n",
            "Requirement already satisfied: numpy>=1.23 in /usr/local/lib/python3.11/dist-packages (from matplotlib->contextily) (2.0.2)\n",
            "Requirement already satisfied: packaging>=20.0 in /usr/local/lib/python3.11/dist-packages (from matplotlib->contextily) (25.0)\n",
            "Requirement already satisfied: pyparsing>=2.3.1 in /usr/local/lib/python3.11/dist-packages (from matplotlib->contextily) (3.2.3)\n",
            "Requirement already satisfied: python-dateutil>=2.7 in /usr/local/lib/python3.11/dist-packages (from matplotlib->contextily) (2.9.0.post0)\n",
            "Requirement already satisfied: click>=3.0 in /usr/local/lib/python3.11/dist-packages (from mercantile->contextily) (8.2.1)\n",
            "Requirement already satisfied: affine in /usr/local/lib/python3.11/dist-packages (from rasterio->contextily) (2.4.0)\n",
            "Requirement already satisfied: attrs in /usr/local/lib/python3.11/dist-packages (from rasterio->contextily) (25.3.0)\n",
            "Requirement already satisfied: certifi in /usr/local/lib/python3.11/dist-packages (from rasterio->contextily) (2025.7.14)\n",
            "Requirement already satisfied: cligj>=0.5 in /usr/local/lib/python3.11/dist-packages (from rasterio->contextily) (0.7.2)\n",
            "Requirement already satisfied: click-plugins in /usr/local/lib/python3.11/dist-packages (from rasterio->contextily) (1.1.1.2)\n",
            "Requirement already satisfied: charset-normalizer<4,>=2 in /usr/local/lib/python3.11/dist-packages (from requests->contextily) (3.4.2)\n",
            "Requirement already satisfied: idna<4,>=2.5 in /usr/local/lib/python3.11/dist-packages (from requests->contextily) (3.10)\n",
            "Requirement already satisfied: urllib3<3,>=1.21.1 in /usr/local/lib/python3.11/dist-packages (from requests->contextily) (2.5.0)\n",
            "Requirement already satisfied: six>=1.5 in /usr/local/lib/python3.11/dist-packages (from python-dateutil>=2.7->matplotlib->contextily) (1.17.0)\n",
            "Requirement already satisfied: geoplot in /usr/local/lib/python3.11/dist-packages (0.5.1)\n",
            "Requirement already satisfied: matplotlib>=3.1.2 in /usr/local/lib/python3.11/dist-packages (from geoplot) (3.10.0)\n",
            "Requirement already satisfied: seaborn in /usr/local/lib/python3.11/dist-packages (from geoplot) (0.13.2)\n",
            "Requirement already satisfied: pandas in /usr/local/lib/python3.11/dist-packages (from geoplot) (2.2.2)\n",
            "Requirement already satisfied: geopandas>=0.9.0 in /usr/local/lib/python3.11/dist-packages (from geoplot) (1.1.1)\n",
            "Requirement already satisfied: cartopy in /usr/local/lib/python3.11/dist-packages (from geoplot) (0.24.1)\n",
            "Requirement already satisfied: mapclassify>=2.1 in /usr/local/lib/python3.11/dist-packages (from geoplot) (2.10.0)\n",
            "Requirement already satisfied: contextily>=1.0.0 in /usr/local/lib/python3.11/dist-packages (from geoplot) (1.6.2)\n",
            "Requirement already satisfied: geopy in /usr/local/lib/python3.11/dist-packages (from contextily>=1.0.0->geoplot) (2.4.1)\n",
            "Requirement already satisfied: mercantile in /usr/local/lib/python3.11/dist-packages (from contextily>=1.0.0->geoplot) (1.2.1)\n",
            "Requirement already satisfied: pillow in /usr/local/lib/python3.11/dist-packages (from contextily>=1.0.0->geoplot) (11.3.0)\n",
            "Requirement already satisfied: rasterio in /usr/local/lib/python3.11/dist-packages (from contextily>=1.0.0->geoplot) (1.4.3)\n",
            "Requirement already satisfied: requests in /usr/local/lib/python3.11/dist-packages (from contextily>=1.0.0->geoplot) (2.32.3)\n",
            "Requirement already satisfied: joblib in /usr/local/lib/python3.11/dist-packages (from contextily>=1.0.0->geoplot) (1.5.1)\n",
            "Requirement already satisfied: xyzservices in /usr/local/lib/python3.11/dist-packages (from contextily>=1.0.0->geoplot) (2025.4.0)\n",
            "Requirement already satisfied: numpy>=1.24 in /usr/local/lib/python3.11/dist-packages (from geopandas>=0.9.0->geoplot) (2.0.2)\n",
            "Requirement already satisfied: pyogrio>=0.7.2 in /usr/local/lib/python3.11/dist-packages (from geopandas>=0.9.0->geoplot) (0.11.0)\n",
            "Requirement already satisfied: packaging in /usr/local/lib/python3.11/dist-packages (from geopandas>=0.9.0->geoplot) (25.0)\n",
            "Requirement already satisfied: pyproj>=3.5.0 in /usr/local/lib/python3.11/dist-packages (from geopandas>=0.9.0->geoplot) (3.7.1)\n",
            "Requirement already satisfied: shapely>=2.0.0 in /usr/local/lib/python3.11/dist-packages (from geopandas>=0.9.0->geoplot) (2.1.1)\n",
            "Requirement already satisfied: networkx>=3.2 in /usr/local/lib/python3.11/dist-packages (from mapclassify>=2.1->geoplot) (3.5)\n",
            "Requirement already satisfied: scikit-learn>=1.4 in /usr/local/lib/python3.11/dist-packages (from mapclassify>=2.1->geoplot) (1.6.1)\n",
            "Requirement already satisfied: scipy>=1.12 in /usr/local/lib/python3.11/dist-packages (from mapclassify>=2.1->geoplot) (1.16.0)\n",
            "Requirement already satisfied: contourpy>=1.0.1 in /usr/local/lib/python3.11/dist-packages (from matplotlib>=3.1.2->geoplot) (1.3.2)\n",
            "Requirement already satisfied: cycler>=0.10 in /usr/local/lib/python3.11/dist-packages (from matplotlib>=3.1.2->geoplot) (0.12.1)\n",
            "Requirement already satisfied: fonttools>=4.22.0 in /usr/local/lib/python3.11/dist-packages (from matplotlib>=3.1.2->geoplot) (4.59.0)\n",
            "Requirement already satisfied: kiwisolver>=1.3.1 in /usr/local/lib/python3.11/dist-packages (from matplotlib>=3.1.2->geoplot) (1.4.8)\n",
            "Requirement already satisfied: pyparsing>=2.3.1 in /usr/local/lib/python3.11/dist-packages (from matplotlib>=3.1.2->geoplot) (3.2.3)\n",
            "Requirement already satisfied: python-dateutil>=2.7 in /usr/local/lib/python3.11/dist-packages (from matplotlib>=3.1.2->geoplot) (2.9.0.post0)\n",
            "Requirement already satisfied: pytz>=2020.1 in /usr/local/lib/python3.11/dist-packages (from pandas->geoplot) (2025.2)\n",
            "Requirement already satisfied: tzdata>=2022.7 in /usr/local/lib/python3.11/dist-packages (from pandas->geoplot) (2025.2)\n",
            "Requirement already satisfied: pyshp>=2.3 in /usr/local/lib/python3.11/dist-packages (from cartopy->geoplot) (2.3.1)\n",
            "Requirement already satisfied: certifi in /usr/local/lib/python3.11/dist-packages (from pyogrio>=0.7.2->geopandas>=0.9.0->geoplot) (2025.7.14)\n",
            "Requirement already satisfied: six>=1.5 in /usr/local/lib/python3.11/dist-packages (from python-dateutil>=2.7->matplotlib>=3.1.2->geoplot) (1.17.0)\n",
            "Requirement already satisfied: threadpoolctl>=3.1.0 in /usr/local/lib/python3.11/dist-packages (from scikit-learn>=1.4->mapclassify>=2.1->geoplot) (3.6.0)\n",
            "Requirement already satisfied: geographiclib<3,>=1.52 in /usr/local/lib/python3.11/dist-packages (from geopy->contextily>=1.0.0->geoplot) (2.0)\n",
            "Requirement already satisfied: click>=3.0 in /usr/local/lib/python3.11/dist-packages (from mercantile->contextily>=1.0.0->geoplot) (8.2.1)\n",
            "Requirement already satisfied: affine in /usr/local/lib/python3.11/dist-packages (from rasterio->contextily>=1.0.0->geoplot) (2.4.0)\n",
            "Requirement already satisfied: attrs in /usr/local/lib/python3.11/dist-packages (from rasterio->contextily>=1.0.0->geoplot) (25.3.0)\n",
            "Requirement already satisfied: cligj>=0.5 in /usr/local/lib/python3.11/dist-packages (from rasterio->contextily>=1.0.0->geoplot) (0.7.2)\n",
            "Requirement already satisfied: click-plugins in /usr/local/lib/python3.11/dist-packages (from rasterio->contextily>=1.0.0->geoplot) (1.1.1.2)\n",
            "Requirement already satisfied: charset-normalizer<4,>=2 in /usr/local/lib/python3.11/dist-packages (from requests->contextily>=1.0.0->geoplot) (3.4.2)\n",
            "Requirement already satisfied: idna<4,>=2.5 in /usr/local/lib/python3.11/dist-packages (from requests->contextily>=1.0.0->geoplot) (3.10)\n",
            "Requirement already satisfied: urllib3<3,>=1.21.1 in /usr/local/lib/python3.11/dist-packages (from requests->contextily>=1.0.0->geoplot) (2.5.0)\n",
            "Collecting git+https://github.com/pmdscully/geo_northarrow.git\n",
            "  Cloning https://github.com/pmdscully/geo_northarrow.git to /tmp/pip-req-build-o__c5j4f\n",
            "  Running command git clone --filter=blob:none --quiet https://github.com/pmdscully/geo_northarrow.git /tmp/pip-req-build-o__c5j4f\n",
            "  Resolved https://github.com/pmdscully/geo_northarrow.git to commit 963bdd271707a3bcaa47b2d83d92b88ae0b10950\n",
            "  Installing build dependencies ... \u001b[?25l\u001b[?25hdone\n",
            "  Getting requirements to build wheel ... \u001b[?25l\u001b[?25hdone\n",
            "  Preparing metadata (pyproject.toml) ... \u001b[?25l\u001b[?25hdone\n",
            "Requirement already satisfied: shapely in /usr/local/lib/python3.11/dist-packages (from geo_northarrow==0.2.0a0) (2.1.1)\n",
            "Requirement already satisfied: pandas in /usr/local/lib/python3.11/dist-packages (from geo_northarrow==0.2.0a0) (2.2.2)\n",
            "Requirement already satisfied: numpy in /usr/local/lib/python3.11/dist-packages (from geo_northarrow==0.2.0a0) (2.0.2)\n",
            "Requirement already satisfied: matplotlib in /usr/local/lib/python3.11/dist-packages (from geo_northarrow==0.2.0a0) (3.10.0)\n",
            "Requirement already satisfied: geopandas in /usr/local/lib/python3.11/dist-packages (from geo_northarrow==0.2.0a0) (1.1.1)\n",
            "Requirement already satisfied: pyogrio>=0.7.2 in /usr/local/lib/python3.11/dist-packages (from geopandas->geo_northarrow==0.2.0a0) (0.11.0)\n",
            "Requirement already satisfied: packaging in /usr/local/lib/python3.11/dist-packages (from geopandas->geo_northarrow==0.2.0a0) (25.0)\n",
            "Requirement already satisfied: pyproj>=3.5.0 in /usr/local/lib/python3.11/dist-packages (from geopandas->geo_northarrow==0.2.0a0) (3.7.1)\n",
            "Requirement already satisfied: python-dateutil>=2.8.2 in /usr/local/lib/python3.11/dist-packages (from pandas->geo_northarrow==0.2.0a0) (2.9.0.post0)\n",
            "Requirement already satisfied: pytz>=2020.1 in /usr/local/lib/python3.11/dist-packages (from pandas->geo_northarrow==0.2.0a0) (2025.2)\n",
            "Requirement already satisfied: tzdata>=2022.7 in /usr/local/lib/python3.11/dist-packages (from pandas->geo_northarrow==0.2.0a0) (2025.2)\n",
            "Requirement already satisfied: contourpy>=1.0.1 in /usr/local/lib/python3.11/dist-packages (from matplotlib->geo_northarrow==0.2.0a0) (1.3.2)\n",
            "Requirement already satisfied: cycler>=0.10 in /usr/local/lib/python3.11/dist-packages (from matplotlib->geo_northarrow==0.2.0a0) (0.12.1)\n",
            "Requirement already satisfied: fonttools>=4.22.0 in /usr/local/lib/python3.11/dist-packages (from matplotlib->geo_northarrow==0.2.0a0) (4.59.0)\n",
            "Requirement already satisfied: kiwisolver>=1.3.1 in /usr/local/lib/python3.11/dist-packages (from matplotlib->geo_northarrow==0.2.0a0) (1.4.8)\n",
            "Requirement already satisfied: pillow>=8 in /usr/local/lib/python3.11/dist-packages (from matplotlib->geo_northarrow==0.2.0a0) (11.3.0)\n",
            "Requirement already satisfied: pyparsing>=2.3.1 in /usr/local/lib/python3.11/dist-packages (from matplotlib->geo_northarrow==0.2.0a0) (3.2.3)\n",
            "Requirement already satisfied: certifi in /usr/local/lib/python3.11/dist-packages (from pyogrio>=0.7.2->geopandas->geo_northarrow==0.2.0a0) (2025.7.14)\n",
            "Requirement already satisfied: six>=1.5 in /usr/local/lib/python3.11/dist-packages (from python-dateutil>=2.8.2->pandas->geo_northarrow==0.2.0a0) (1.17.0)\n"
          ]
        }
      ],
      "source": [
        "#Install required packages\n",
        "!pip install mapclassify\n",
        "!pip install contextily\n",
        "!pip install geoplot\n",
        "!pip install git+https://github.com/pmdscully/geo_northarrow.git\n",
        "# read in required packages\n",
        "\n",
        "\n",
        "import geopandas as gpd\n",
        "import pandas as pd\n",
        "import seaborn as sns\n",
        "from scipy import stats\n",
        "import numpy as np\n",
        "import matplotlib.pyplot as plt\n",
        "import pyproj\n",
        "import contextily as ctx\n",
        "import geoplot as gplt\n",
        "import geoplot.crs as gcrs\n",
        "from geo_northarrow import add_north_arrow\n",
        "\n",
        "\n",
        "\n",
        "# import the required machine learning packages\n",
        "from sklearn import cluster\n",
        "from sklearn.preprocessing import scale\n",
        "\n",
        "\n",
        "\n"
      ]
    },
    {
      "cell_type": "markdown",
      "source": [
        "# Data and Preprocessing"
      ],
      "metadata": {
        "id": "xX_S07kLdr8z"
      },
      "id": "xX_S07kLdr8z"
    },
    {
      "cell_type": "markdown",
      "source": [
        "**HEALTH SERVICE ACCESS DATA**"
      ],
      "metadata": {
        "id": "rpui-xu5en0S"
      },
      "id": "rpui-xu5en0S"
    },
    {
      "cell_type": "code",
      "execution_count": null,
      "id": "c3540d43-fbe5-48a1-9d2a-79b3c38f7bdf",
      "metadata": {
        "id": "c3540d43-fbe5-48a1-9d2a-79b3c38f7bdf",
        "collapsed": true
      },
      "outputs": [],
      "source": [
        "#Read in Health Services Data\n",
        "ahah = pd.read_csv('https://github.com/Jonathan-C-Barrett/GEOG5990M/raw/refs/heads/main/ahah_v4.csv')\n",
        "ahah.head()"
      ]
    },
    {
      "cell_type": "code",
      "source": [
        "#Select only columns relating to Health Services\n",
        "health = ahah[['LSOA21CD', 'ah4dent', 'ah4gp', 'ah4hosp', 'ah4phar', 'ah4leis', 'ah4h']]\n",
        "health.head()"
      ],
      "metadata": {
        "id": "YCtq8jyQSste",
        "collapsed": true
      },
      "id": "YCtq8jyQSste",
      "execution_count": null,
      "outputs": []
    },
    {
      "cell_type": "code",
      "source": [
        "#check for missing values\n",
        "health.isna().sum()"
      ],
      "metadata": {
        "id": "XWeJujNAs1C1"
      },
      "id": "XWeJujNAs1C1",
      "execution_count": null,
      "outputs": []
    },
    {
      "cell_type": "code",
      "source": [],
      "metadata": {
        "id": "2nF5yrtSwYTr"
      },
      "id": "2nF5yrtSwYTr",
      "execution_count": null,
      "outputs": []
    },
    {
      "cell_type": "markdown",
      "source": [
        "**MEDIAN PROPERTY VALUE DATA**"
      ],
      "metadata": {
        "id": "eN69Vtrje1Di"
      },
      "id": "eN69Vtrje1Di"
    },
    {
      "cell_type": "code",
      "source": [
        "#Read in Median Property Price\n",
        "m_value = pd.read_csv('https://github.com/Jonathan-C-Barrett/GEOG5990M/raw/refs/heads/main/land-registry-house-prices-Meidan-LSOA.csv')\n",
        "m_value.head()"
      ],
      "metadata": {
        "id": "2RT3jOJwp3GG"
      },
      "id": "2RT3jOJwp3GG",
      "execution_count": null,
      "outputs": []
    },
    {
      "cell_type": "code",
      "source": [
        "#Select only columns relating to 2016\n",
        "prop_16 = m_value[['Code', 'Area','Year ending Mar 2016','Year ending Jun 2016', 'Year ending Sep 2016', 'Year ending Dec 2016']]\n",
        "prop_16.head()"
      ],
      "metadata": {
        "id": "lAqpq_uB0pi0"
      },
      "id": "lAqpq_uB0pi0",
      "execution_count": null,
      "outputs": []
    },
    {
      "cell_type": "code",
      "source": [
        "#examine property info for count and data type\n",
        "prop_16.info()"
      ],
      "metadata": {
        "id": "zKkmqPkaVkEL"
      },
      "id": "zKkmqPkaVkEL",
      "execution_count": null,
      "outputs": []
    },
    {
      "cell_type": "code",
      "source": [
        "#check for missing values\n",
        "prop_16.isna().sum()"
      ],
      "metadata": {
        "id": "wY6528y21nFq"
      },
      "id": "wY6528y21nFq",
      "execution_count": null,
      "outputs": []
    },
    {
      "cell_type": "code",
      "source": [
        "#create a column of mean year value to counter missing values\n",
        "prop_16['2016_mean'] = prop_16[['Year ending Mar 2016', 'Year ending Jun 2016', 'Year ending Sep 2016', 'Year ending Dec 2016']].mean(axis=1)\n",
        "prop_16.head()"
      ],
      "metadata": {
        "id": "h_t6xT6BimcR"
      },
      "id": "h_t6xT6BimcR",
      "execution_count": null,
      "outputs": []
    },
    {
      "cell_type": "code",
      "source": [
        "prop_16.isna().sum()"
      ],
      "metadata": {
        "id": "Tj6AqcQZicFd"
      },
      "id": "Tj6AqcQZicFd",
      "execution_count": null,
      "outputs": []
    },
    {
      "cell_type": "markdown",
      "source": [
        "**LSOA 2011 TO LSOA 2021 COVERSION DATA**"
      ],
      "metadata": {
        "id": "ZoGnS2A6e9Wy"
      },
      "id": "ZoGnS2A6e9Wy"
    },
    {
      "cell_type": "code",
      "source": [
        "#add conversion to LSOA21\n",
        "LSOA21 = pd.read_csv('https://github.com/Jonathan-C-Barrett/GEOG5990M/raw/refs/heads/main/LSOA_(2011)_to_LSOA_(2021)_to_Local_Authority_District_(2022)_Best_Fit_Lookup_for_EW_(V2).csv')\n",
        "LSOA21.head()\n"
      ],
      "metadata": {
        "id": "U60wkYsR_qlR"
      },
      "id": "U60wkYsR_qlR",
      "execution_count": null,
      "outputs": []
    },
    {
      "cell_type": "code",
      "source": [
        "#inspect info for data type\n",
        "LSOA21.info()"
      ],
      "metadata": {
        "id": "OCNvIjJ7_qZ3"
      },
      "id": "OCNvIjJ7_qZ3",
      "execution_count": null,
      "outputs": []
    },
    {
      "cell_type": "code",
      "source": [
        "#combine prop_16 data and LSOA21 by code in prop_16 and LSOA11CD in LSOA21 in to remove areas outside london and make comparable\n",
        "prop_16_LSOA21 = pd.merge(prop_16, LSOA21, left_on='Code', right_on='LSOA11CD', how='left')\n",
        "prop_16_LSOA21.head()"
      ],
      "metadata": {
        "id": "MAkLlHj2SHvq"
      },
      "id": "MAkLlHj2SHvq",
      "execution_count": null,
      "outputs": []
    },
    {
      "cell_type": "code",
      "source": [
        "#check Info for count\n",
        "prop_16_LSOA21.info()"
      ],
      "metadata": {
        "id": "xFwV4MvPSHpM"
      },
      "id": "xFwV4MvPSHpM",
      "execution_count": null,
      "outputs": []
    },
    {
      "cell_type": "code",
      "source": [],
      "metadata": {
        "id": "LEuimIi2U2XW"
      },
      "id": "LEuimIi2U2XW",
      "execution_count": null,
      "outputs": []
    },
    {
      "cell_type": "markdown",
      "source": [
        "**COMBINE HEALTH ACCESS AND PROPERTY VALUE DATABASES**"
      ],
      "metadata": {
        "id": "trAkhy4CfKey"
      },
      "id": "trAkhy4CfKey"
    },
    {
      "cell_type": "code",
      "source": [
        "#combine health and property data by LSOA code in property to remove areas outside london\n",
        "health_prop = pd.merge(health, prop_16_LSOA21, left_on='LSOA21CD', right_on='LSOA21CD', how='right')\n",
        "health_prop.head()"
      ],
      "metadata": {
        "id": "EuywDoyuWz_n"
      },
      "id": "EuywDoyuWz_n",
      "execution_count": null,
      "outputs": []
    },
    {
      "cell_type": "code",
      "source": [
        "#check info for data frame to check count and data type\n",
        "health_prop.info()"
      ],
      "metadata": {
        "id": "mJf3-hdVWMmK"
      },
      "id": "mJf3-hdVWMmK",
      "execution_count": null,
      "outputs": []
    },
    {
      "cell_type": "code",
      "source": [
        "#check for missing values\n",
        "health_prop.isnull().sum()"
      ],
      "metadata": {
        "id": "smXfh_uH_6N6"
      },
      "id": "smXfh_uH_6N6",
      "execution_count": null,
      "outputs": []
    },
    {
      "cell_type": "code",
      "source": [
        "#remove missing values from Year mean column\n",
        "health_prop = health_prop.dropna(subset=['2016_mean'])"
      ],
      "metadata": {
        "id": "TSuMR_70j2lP"
      },
      "id": "TSuMR_70j2lP",
      "execution_count": 19,
      "outputs": []
    },
    {
      "cell_type": "code",
      "source": [
        "#Check removed 2016 Mean missing values\n",
        "health_prop.isnull().sum()"
      ],
      "metadata": {
        "colab": {
          "base_uri": "https://localhost:8080/",
          "height": 742
        },
        "id": "uePZEoYmj_OZ",
        "outputId": "105cc700-e4e2-4e70-b9fa-1807cc851b32"
      },
      "id": "uePZEoYmj_OZ",
      "execution_count": 20,
      "outputs": [
        {
          "output_type": "execute_result",
          "data": {
            "text/plain": [
              "LSOA21CD                   0\n",
              "ah4dent                    0\n",
              "ah4gp                      0\n",
              "ah4hosp                    0\n",
              "ah4phar                    0\n",
              "ah4leis                    0\n",
              "ah4h                       0\n",
              "Code                       0\n",
              "Area                       0\n",
              "Year ending Mar 2016      34\n",
              "Year ending Jun 2016      65\n",
              "Year ending Sep 2016      97\n",
              "Year ending Dec 2016     135\n",
              "2016_mean                  0\n",
              "ObjectId                   0\n",
              "LSOA11CD                   0\n",
              "LSOA11NM                   0\n",
              "LSOA21NM                   0\n",
              "LAD22CD                    0\n",
              "LAD22NM                    0\n",
              "LAD22NMW                4778\n",
              "dtype: int64"
            ],
            "text/html": [
              "<div>\n",
              "<style scoped>\n",
              "    .dataframe tbody tr th:only-of-type {\n",
              "        vertical-align: middle;\n",
              "    }\n",
              "\n",
              "    .dataframe tbody tr th {\n",
              "        vertical-align: top;\n",
              "    }\n",
              "\n",
              "    .dataframe thead th {\n",
              "        text-align: right;\n",
              "    }\n",
              "</style>\n",
              "<table border=\"1\" class=\"dataframe\">\n",
              "  <thead>\n",
              "    <tr style=\"text-align: right;\">\n",
              "      <th></th>\n",
              "      <th>0</th>\n",
              "    </tr>\n",
              "  </thead>\n",
              "  <tbody>\n",
              "    <tr>\n",
              "      <th>LSOA21CD</th>\n",
              "      <td>0</td>\n",
              "    </tr>\n",
              "    <tr>\n",
              "      <th>ah4dent</th>\n",
              "      <td>0</td>\n",
              "    </tr>\n",
              "    <tr>\n",
              "      <th>ah4gp</th>\n",
              "      <td>0</td>\n",
              "    </tr>\n",
              "    <tr>\n",
              "      <th>ah4hosp</th>\n",
              "      <td>0</td>\n",
              "    </tr>\n",
              "    <tr>\n",
              "      <th>ah4phar</th>\n",
              "      <td>0</td>\n",
              "    </tr>\n",
              "    <tr>\n",
              "      <th>ah4leis</th>\n",
              "      <td>0</td>\n",
              "    </tr>\n",
              "    <tr>\n",
              "      <th>ah4h</th>\n",
              "      <td>0</td>\n",
              "    </tr>\n",
              "    <tr>\n",
              "      <th>Code</th>\n",
              "      <td>0</td>\n",
              "    </tr>\n",
              "    <tr>\n",
              "      <th>Area</th>\n",
              "      <td>0</td>\n",
              "    </tr>\n",
              "    <tr>\n",
              "      <th>Year ending Mar 2016</th>\n",
              "      <td>34</td>\n",
              "    </tr>\n",
              "    <tr>\n",
              "      <th>Year ending Jun 2016</th>\n",
              "      <td>65</td>\n",
              "    </tr>\n",
              "    <tr>\n",
              "      <th>Year ending Sep 2016</th>\n",
              "      <td>97</td>\n",
              "    </tr>\n",
              "    <tr>\n",
              "      <th>Year ending Dec 2016</th>\n",
              "      <td>135</td>\n",
              "    </tr>\n",
              "    <tr>\n",
              "      <th>2016_mean</th>\n",
              "      <td>0</td>\n",
              "    </tr>\n",
              "    <tr>\n",
              "      <th>ObjectId</th>\n",
              "      <td>0</td>\n",
              "    </tr>\n",
              "    <tr>\n",
              "      <th>LSOA11CD</th>\n",
              "      <td>0</td>\n",
              "    </tr>\n",
              "    <tr>\n",
              "      <th>LSOA11NM</th>\n",
              "      <td>0</td>\n",
              "    </tr>\n",
              "    <tr>\n",
              "      <th>LSOA21NM</th>\n",
              "      <td>0</td>\n",
              "    </tr>\n",
              "    <tr>\n",
              "      <th>LAD22CD</th>\n",
              "      <td>0</td>\n",
              "    </tr>\n",
              "    <tr>\n",
              "      <th>LAD22NM</th>\n",
              "      <td>0</td>\n",
              "    </tr>\n",
              "    <tr>\n",
              "      <th>LAD22NMW</th>\n",
              "      <td>4778</td>\n",
              "    </tr>\n",
              "  </tbody>\n",
              "</table>\n",
              "</div><br><label><b>dtype:</b> int64</label>"
            ]
          },
          "metadata": {},
          "execution_count": 20
        }
      ]
    },
    {
      "cell_type": "code",
      "source": [
        "#remove duplicated and unneccessary columns from Data base\n",
        "health_prop_clean = health_prop.drop(columns=['Code', 'Area', 'LSOA11NM', 'LSOA11CD', 'ObjectId','LAD22NMW', 'Year ending Mar 2016', 'Year ending Jun 2016','Year ending Sep 2016','Year ending Dec 2016', ])\n",
        "health_prop_clean.head()\n"
      ],
      "metadata": {
        "colab": {
          "base_uri": "https://localhost:8080/",
          "height": 206
        },
        "id": "nBwGASqBCST1",
        "outputId": "834bec02-44a4-4752-b59f-948f7734087c"
      },
      "id": "nBwGASqBCST1",
      "execution_count": 21,
      "outputs": [
        {
          "output_type": "execute_result",
          "data": {
            "text/plain": [
              "    LSOA21CD  ah4dent   ah4gp  ah4hosp  ah4phar  ah4leis    ah4h  2016_mean  \\\n",
              "1  E01000001   0.6328  1.0316   0.9581   0.7487   0.3596 -1.7834  967250.00   \n",
              "2  E01000002   0.6230  1.3232   1.1370   0.6849   0.5571 -1.5523  853125.00   \n",
              "3  E01000003   0.5709  0.8562   0.7862   0.5919   0.4608 -1.9813  694375.00   \n",
              "4  E01000005   0.8337  1.1078   0.8697   0.6657   0.3717 -1.7260  566875.00   \n",
              "5  E01032739   0.6641  1.6422   1.1970   0.6810   0.4148 -1.5235  593243.75   \n",
              "\n",
              "              LSOA21NM    LAD22CD         LAD22NM  \n",
              "1  City of London 001A  E09000001  City of London  \n",
              "2  City of London 001B  E09000001  City of London  \n",
              "3  City of London 001C  E09000001  City of London  \n",
              "4  City of London 001E  E09000001  City of London  \n",
              "5  City of London 001F  E09000001  City of London  "
            ],
            "text/html": [
              "\n",
              "  <div id=\"df-f006a611-ccb3-468a-b523-fdb197c9df89\" class=\"colab-df-container\">\n",
              "    <div>\n",
              "<style scoped>\n",
              "    .dataframe tbody tr th:only-of-type {\n",
              "        vertical-align: middle;\n",
              "    }\n",
              "\n",
              "    .dataframe tbody tr th {\n",
              "        vertical-align: top;\n",
              "    }\n",
              "\n",
              "    .dataframe thead th {\n",
              "        text-align: right;\n",
              "    }\n",
              "</style>\n",
              "<table border=\"1\" class=\"dataframe\">\n",
              "  <thead>\n",
              "    <tr style=\"text-align: right;\">\n",
              "      <th></th>\n",
              "      <th>LSOA21CD</th>\n",
              "      <th>ah4dent</th>\n",
              "      <th>ah4gp</th>\n",
              "      <th>ah4hosp</th>\n",
              "      <th>ah4phar</th>\n",
              "      <th>ah4leis</th>\n",
              "      <th>ah4h</th>\n",
              "      <th>2016_mean</th>\n",
              "      <th>LSOA21NM</th>\n",
              "      <th>LAD22CD</th>\n",
              "      <th>LAD22NM</th>\n",
              "    </tr>\n",
              "  </thead>\n",
              "  <tbody>\n",
              "    <tr>\n",
              "      <th>1</th>\n",
              "      <td>E01000001</td>\n",
              "      <td>0.6328</td>\n",
              "      <td>1.0316</td>\n",
              "      <td>0.9581</td>\n",
              "      <td>0.7487</td>\n",
              "      <td>0.3596</td>\n",
              "      <td>-1.7834</td>\n",
              "      <td>967250.00</td>\n",
              "      <td>City of London 001A</td>\n",
              "      <td>E09000001</td>\n",
              "      <td>City of London</td>\n",
              "    </tr>\n",
              "    <tr>\n",
              "      <th>2</th>\n",
              "      <td>E01000002</td>\n",
              "      <td>0.6230</td>\n",
              "      <td>1.3232</td>\n",
              "      <td>1.1370</td>\n",
              "      <td>0.6849</td>\n",
              "      <td>0.5571</td>\n",
              "      <td>-1.5523</td>\n",
              "      <td>853125.00</td>\n",
              "      <td>City of London 001B</td>\n",
              "      <td>E09000001</td>\n",
              "      <td>City of London</td>\n",
              "    </tr>\n",
              "    <tr>\n",
              "      <th>3</th>\n",
              "      <td>E01000003</td>\n",
              "      <td>0.5709</td>\n",
              "      <td>0.8562</td>\n",
              "      <td>0.7862</td>\n",
              "      <td>0.5919</td>\n",
              "      <td>0.4608</td>\n",
              "      <td>-1.9813</td>\n",
              "      <td>694375.00</td>\n",
              "      <td>City of London 001C</td>\n",
              "      <td>E09000001</td>\n",
              "      <td>City of London</td>\n",
              "    </tr>\n",
              "    <tr>\n",
              "      <th>4</th>\n",
              "      <td>E01000005</td>\n",
              "      <td>0.8337</td>\n",
              "      <td>1.1078</td>\n",
              "      <td>0.8697</td>\n",
              "      <td>0.6657</td>\n",
              "      <td>0.3717</td>\n",
              "      <td>-1.7260</td>\n",
              "      <td>566875.00</td>\n",
              "      <td>City of London 001E</td>\n",
              "      <td>E09000001</td>\n",
              "      <td>City of London</td>\n",
              "    </tr>\n",
              "    <tr>\n",
              "      <th>5</th>\n",
              "      <td>E01032739</td>\n",
              "      <td>0.6641</td>\n",
              "      <td>1.6422</td>\n",
              "      <td>1.1970</td>\n",
              "      <td>0.6810</td>\n",
              "      <td>0.4148</td>\n",
              "      <td>-1.5235</td>\n",
              "      <td>593243.75</td>\n",
              "      <td>City of London 001F</td>\n",
              "      <td>E09000001</td>\n",
              "      <td>City of London</td>\n",
              "    </tr>\n",
              "  </tbody>\n",
              "</table>\n",
              "</div>\n",
              "    <div class=\"colab-df-buttons\">\n",
              "\n",
              "  <div class=\"colab-df-container\">\n",
              "    <button class=\"colab-df-convert\" onclick=\"convertToInteractive('df-f006a611-ccb3-468a-b523-fdb197c9df89')\"\n",
              "            title=\"Convert this dataframe to an interactive table.\"\n",
              "            style=\"display:none;\">\n",
              "\n",
              "  <svg xmlns=\"http://www.w3.org/2000/svg\" height=\"24px\" viewBox=\"0 -960 960 960\">\n",
              "    <path d=\"M120-120v-720h720v720H120Zm60-500h600v-160H180v160Zm220 220h160v-160H400v160Zm0 220h160v-160H400v160ZM180-400h160v-160H180v160Zm440 0h160v-160H620v160ZM180-180h160v-160H180v160Zm440 0h160v-160H620v160Z\"/>\n",
              "  </svg>\n",
              "    </button>\n",
              "\n",
              "  <style>\n",
              "    .colab-df-container {\n",
              "      display:flex;\n",
              "      gap: 12px;\n",
              "    }\n",
              "\n",
              "    .colab-df-convert {\n",
              "      background-color: #E8F0FE;\n",
              "      border: none;\n",
              "      border-radius: 50%;\n",
              "      cursor: pointer;\n",
              "      display: none;\n",
              "      fill: #1967D2;\n",
              "      height: 32px;\n",
              "      padding: 0 0 0 0;\n",
              "      width: 32px;\n",
              "    }\n",
              "\n",
              "    .colab-df-convert:hover {\n",
              "      background-color: #E2EBFA;\n",
              "      box-shadow: 0px 1px 2px rgba(60, 64, 67, 0.3), 0px 1px 3px 1px rgba(60, 64, 67, 0.15);\n",
              "      fill: #174EA6;\n",
              "    }\n",
              "\n",
              "    .colab-df-buttons div {\n",
              "      margin-bottom: 4px;\n",
              "    }\n",
              "\n",
              "    [theme=dark] .colab-df-convert {\n",
              "      background-color: #3B4455;\n",
              "      fill: #D2E3FC;\n",
              "    }\n",
              "\n",
              "    [theme=dark] .colab-df-convert:hover {\n",
              "      background-color: #434B5C;\n",
              "      box-shadow: 0px 1px 3px 1px rgba(0, 0, 0, 0.15);\n",
              "      filter: drop-shadow(0px 1px 2px rgba(0, 0, 0, 0.3));\n",
              "      fill: #FFFFFF;\n",
              "    }\n",
              "  </style>\n",
              "\n",
              "    <script>\n",
              "      const buttonEl =\n",
              "        document.querySelector('#df-f006a611-ccb3-468a-b523-fdb197c9df89 button.colab-df-convert');\n",
              "      buttonEl.style.display =\n",
              "        google.colab.kernel.accessAllowed ? 'block' : 'none';\n",
              "\n",
              "      async function convertToInteractive(key) {\n",
              "        const element = document.querySelector('#df-f006a611-ccb3-468a-b523-fdb197c9df89');\n",
              "        const dataTable =\n",
              "          await google.colab.kernel.invokeFunction('convertToInteractive',\n",
              "                                                    [key], {});\n",
              "        if (!dataTable) return;\n",
              "\n",
              "        const docLinkHtml = 'Like what you see? Visit the ' +\n",
              "          '<a target=\"_blank\" href=https://colab.research.google.com/notebooks/data_table.ipynb>data table notebook</a>'\n",
              "          + ' to learn more about interactive tables.';\n",
              "        element.innerHTML = '';\n",
              "        dataTable['output_type'] = 'display_data';\n",
              "        await google.colab.output.renderOutput(dataTable, element);\n",
              "        const docLink = document.createElement('div');\n",
              "        docLink.innerHTML = docLinkHtml;\n",
              "        element.appendChild(docLink);\n",
              "      }\n",
              "    </script>\n",
              "  </div>\n",
              "\n",
              "\n",
              "    <div id=\"df-2cfcdb09-62dc-47ed-b2f6-ee5d0d372540\">\n",
              "      <button class=\"colab-df-quickchart\" onclick=\"quickchart('df-2cfcdb09-62dc-47ed-b2f6-ee5d0d372540')\"\n",
              "                title=\"Suggest charts\"\n",
              "                style=\"display:none;\">\n",
              "\n",
              "<svg xmlns=\"http://www.w3.org/2000/svg\" height=\"24px\"viewBox=\"0 0 24 24\"\n",
              "     width=\"24px\">\n",
              "    <g>\n",
              "        <path d=\"M19 3H5c-1.1 0-2 .9-2 2v14c0 1.1.9 2 2 2h14c1.1 0 2-.9 2-2V5c0-1.1-.9-2-2-2zM9 17H7v-7h2v7zm4 0h-2V7h2v10zm4 0h-2v-4h2v4z\"/>\n",
              "    </g>\n",
              "</svg>\n",
              "      </button>\n",
              "\n",
              "<style>\n",
              "  .colab-df-quickchart {\n",
              "      --bg-color: #E8F0FE;\n",
              "      --fill-color: #1967D2;\n",
              "      --hover-bg-color: #E2EBFA;\n",
              "      --hover-fill-color: #174EA6;\n",
              "      --disabled-fill-color: #AAA;\n",
              "      --disabled-bg-color: #DDD;\n",
              "  }\n",
              "\n",
              "  [theme=dark] .colab-df-quickchart {\n",
              "      --bg-color: #3B4455;\n",
              "      --fill-color: #D2E3FC;\n",
              "      --hover-bg-color: #434B5C;\n",
              "      --hover-fill-color: #FFFFFF;\n",
              "      --disabled-bg-color: #3B4455;\n",
              "      --disabled-fill-color: #666;\n",
              "  }\n",
              "\n",
              "  .colab-df-quickchart {\n",
              "    background-color: var(--bg-color);\n",
              "    border: none;\n",
              "    border-radius: 50%;\n",
              "    cursor: pointer;\n",
              "    display: none;\n",
              "    fill: var(--fill-color);\n",
              "    height: 32px;\n",
              "    padding: 0;\n",
              "    width: 32px;\n",
              "  }\n",
              "\n",
              "  .colab-df-quickchart:hover {\n",
              "    background-color: var(--hover-bg-color);\n",
              "    box-shadow: 0 1px 2px rgba(60, 64, 67, 0.3), 0 1px 3px 1px rgba(60, 64, 67, 0.15);\n",
              "    fill: var(--button-hover-fill-color);\n",
              "  }\n",
              "\n",
              "  .colab-df-quickchart-complete:disabled,\n",
              "  .colab-df-quickchart-complete:disabled:hover {\n",
              "    background-color: var(--disabled-bg-color);\n",
              "    fill: var(--disabled-fill-color);\n",
              "    box-shadow: none;\n",
              "  }\n",
              "\n",
              "  .colab-df-spinner {\n",
              "    border: 2px solid var(--fill-color);\n",
              "    border-color: transparent;\n",
              "    border-bottom-color: var(--fill-color);\n",
              "    animation:\n",
              "      spin 1s steps(1) infinite;\n",
              "  }\n",
              "\n",
              "  @keyframes spin {\n",
              "    0% {\n",
              "      border-color: transparent;\n",
              "      border-bottom-color: var(--fill-color);\n",
              "      border-left-color: var(--fill-color);\n",
              "    }\n",
              "    20% {\n",
              "      border-color: transparent;\n",
              "      border-left-color: var(--fill-color);\n",
              "      border-top-color: var(--fill-color);\n",
              "    }\n",
              "    30% {\n",
              "      border-color: transparent;\n",
              "      border-left-color: var(--fill-color);\n",
              "      border-top-color: var(--fill-color);\n",
              "      border-right-color: var(--fill-color);\n",
              "    }\n",
              "    40% {\n",
              "      border-color: transparent;\n",
              "      border-right-color: var(--fill-color);\n",
              "      border-top-color: var(--fill-color);\n",
              "    }\n",
              "    60% {\n",
              "      border-color: transparent;\n",
              "      border-right-color: var(--fill-color);\n",
              "    }\n",
              "    80% {\n",
              "      border-color: transparent;\n",
              "      border-right-color: var(--fill-color);\n",
              "      border-bottom-color: var(--fill-color);\n",
              "    }\n",
              "    90% {\n",
              "      border-color: transparent;\n",
              "      border-bottom-color: var(--fill-color);\n",
              "    }\n",
              "  }\n",
              "</style>\n",
              "\n",
              "      <script>\n",
              "        async function quickchart(key) {\n",
              "          const quickchartButtonEl =\n",
              "            document.querySelector('#' + key + ' button');\n",
              "          quickchartButtonEl.disabled = true;  // To prevent multiple clicks.\n",
              "          quickchartButtonEl.classList.add('colab-df-spinner');\n",
              "          try {\n",
              "            const charts = await google.colab.kernel.invokeFunction(\n",
              "                'suggestCharts', [key], {});\n",
              "          } catch (error) {\n",
              "            console.error('Error during call to suggestCharts:', error);\n",
              "          }\n",
              "          quickchartButtonEl.classList.remove('colab-df-spinner');\n",
              "          quickchartButtonEl.classList.add('colab-df-quickchart-complete');\n",
              "        }\n",
              "        (() => {\n",
              "          let quickchartButtonEl =\n",
              "            document.querySelector('#df-2cfcdb09-62dc-47ed-b2f6-ee5d0d372540 button');\n",
              "          quickchartButtonEl.style.display =\n",
              "            google.colab.kernel.accessAllowed ? 'block' : 'none';\n",
              "        })();\n",
              "      </script>\n",
              "    </div>\n",
              "\n",
              "    </div>\n",
              "  </div>\n"
            ],
            "application/vnd.google.colaboratory.intrinsic+json": {
              "type": "dataframe",
              "variable_name": "health_prop_clean",
              "summary": "{\n  \"name\": \"health_prop_clean\",\n  \"rows\": 4778,\n  \"fields\": [\n    {\n      \"column\": \"LSOA21CD\",\n      \"properties\": {\n        \"dtype\": \"string\",\n        \"num_unique_values\": 4761,\n        \"samples\": [\n          \"E01002326\",\n          \"E01000319\",\n          \"E01002341\"\n        ],\n        \"semantic_type\": \"\",\n        \"description\": \"\"\n      }\n    },\n    {\n      \"column\": \"ah4dent\",\n      \"properties\": {\n        \"dtype\": \"number\",\n        \"std\": 0.7047349895408452,\n        \"min\": 0.0,\n        \"max\": 7.4756,\n        \"num_unique_values\": 4233,\n        \"samples\": [\n          1.4707,\n          1.8784,\n          0.8577\n        ],\n        \"semantic_type\": \"\",\n        \"description\": \"\"\n      }\n    },\n    {\n      \"column\": \"ah4gp\",\n      \"properties\": {\n        \"dtype\": \"number\",\n        \"std\": 0.7310660737572612,\n        \"min\": 0.016,\n        \"max\": 7.2887,\n        \"num_unique_values\": 4240,\n        \"samples\": [\n          2.6666,\n          1.1282,\n          3.4071\n        ],\n        \"semantic_type\": \"\",\n        \"description\": \"\"\n      }\n    },\n    {\n      \"column\": \"ah4hosp\",\n      \"properties\": {\n        \"dtype\": \"number\",\n        \"std\": 0.7922910044912862,\n        \"min\": 0.016,\n        \"max\": 8.3392,\n        \"num_unique_values\": 4306,\n        \"samples\": [\n          2.1547,\n          0.5159,\n          1.4452\n        ],\n        \"semantic_type\": \"\",\n        \"description\": \"\"\n      }\n    },\n    {\n      \"column\": \"ah4phar\",\n      \"properties\": {\n        \"dtype\": \"number\",\n        \"std\": 0.6071573919059168,\n        \"min\": 0.0519,\n        \"max\": 6.5652,\n        \"num_unique_values\": 4195,\n        \"samples\": [\n          0.7508,\n          2.0958,\n          0.5212\n        ],\n        \"semantic_type\": \"\",\n        \"description\": \"\"\n      }\n    },\n    {\n      \"column\": \"ah4leis\",\n      \"properties\": {\n        \"dtype\": \"number\",\n        \"std\": 1.0924894659199988,\n        \"min\": 0.0,\n        \"max\": 11.9865,\n        \"num_unique_values\": 4361,\n        \"samples\": [\n          1.3532,\n          0.9722,\n          0.4861\n        ],\n        \"semantic_type\": \"\",\n        \"description\": \"\"\n      }\n    },\n    {\n      \"column\": \"ah4h\",\n      \"properties\": {\n        \"dtype\": \"number\",\n        \"std\": 0.598507598525268,\n        \"min\": -2.7403,\n        \"max\": 1.2035,\n        \"num_unique_values\": 4310,\n        \"samples\": [\n          -1.488,\n          -0.8083,\n          -1.7288\n        ],\n        \"semantic_type\": \"\",\n        \"description\": \"\"\n      }\n    },\n    {\n      \"column\": \"2016_mean\",\n      \"properties\": {\n        \"dtype\": \"number\",\n        \"std\": 318523.824570227,\n        \"min\": 136562.5,\n        \"max\": 5168250.0,\n        \"num_unique_values\": 3757,\n        \"samples\": [\n          1525000.0,\n          384187.5,\n          445700.0\n        ],\n        \"semantic_type\": \"\",\n        \"description\": \"\"\n      }\n    },\n    {\n      \"column\": \"LSOA21NM\",\n      \"properties\": {\n        \"dtype\": \"string\",\n        \"num_unique_values\": 4761,\n        \"samples\": [\n          \"Havering 005D\",\n          \"Barnet 027F\",\n          \"Havering 008E\"\n        ],\n        \"semantic_type\": \"\",\n        \"description\": \"\"\n      }\n    },\n    {\n      \"column\": \"LAD22CD\",\n      \"properties\": {\n        \"dtype\": \"category\",\n        \"num_unique_values\": 33,\n        \"samples\": [\n          \"E09000032\",\n          \"E09000016\",\n          \"E09000027\"\n        ],\n        \"semantic_type\": \"\",\n        \"description\": \"\"\n      }\n    },\n    {\n      \"column\": \"LAD22NM\",\n      \"properties\": {\n        \"dtype\": \"category\",\n        \"num_unique_values\": 33,\n        \"samples\": [\n          \"Wandsworth\",\n          \"Havering\",\n          \"Richmond upon Thames\"\n        ],\n        \"semantic_type\": \"\",\n        \"description\": \"\"\n      }\n    }\n  ]\n}"
            }
          },
          "metadata": {},
          "execution_count": 21
        }
      ]
    },
    {
      "cell_type": "code",
      "source": [
        "#check data type and missing values of required columns\n",
        "health_prop_clean.info()\n",
        ""
      ],
      "metadata": {
        "colab": {
          "base_uri": "https://localhost:8080/"
        },
        "id": "IZ3DphN7ji3m",
        "outputId": "6da24cc9-a567-4304-9cd5-7d5fe0636b03"
      },
      "id": "IZ3DphN7ji3m",
      "execution_count": 22,
      "outputs": [
        {
          "output_type": "stream",
          "name": "stdout",
          "text": [
            "<class 'pandas.core.frame.DataFrame'>\n",
            "Index: 4778 entries, 1 to 4835\n",
            "Data columns (total 11 columns):\n",
            " #   Column     Non-Null Count  Dtype  \n",
            "---  ------     --------------  -----  \n",
            " 0   LSOA21CD   4778 non-null   object \n",
            " 1   ah4dent    4778 non-null   float64\n",
            " 2   ah4gp      4778 non-null   float64\n",
            " 3   ah4hosp    4778 non-null   float64\n",
            " 4   ah4phar    4778 non-null   float64\n",
            " 5   ah4leis    4778 non-null   float64\n",
            " 6   ah4h       4778 non-null   float64\n",
            " 7   2016_mean  4778 non-null   float64\n",
            " 8   LSOA21NM   4778 non-null   object \n",
            " 9   LAD22CD    4778 non-null   object \n",
            " 10  LAD22NM    4778 non-null   object \n",
            "dtypes: float64(7), object(4)\n",
            "memory usage: 447.9+ KB\n"
          ]
        }
      ]
    },
    {
      "cell_type": "markdown",
      "source": [
        "**INVESTIGATE DISTRIBUTION OF DATA AND REMOVAL OF OUTLIERS**"
      ],
      "metadata": {
        "id": "NJa7aoSRfYGd"
      },
      "id": "NJa7aoSRfYGd"
    },
    {
      "cell_type": "code",
      "source": [
        "#check basic geometry of data\n",
        "health_prop_clean.describe()"
      ],
      "metadata": {
        "id": "6se28kYw7wnU"
      },
      "id": "6se28kYw7wnU",
      "execution_count": null,
      "outputs": []
    },
    {
      "cell_type": "code",
      "source": [
        "#Explore correlation between property price mean and health service float data with pairplot\n",
        "sns.pairplot(health_prop_clean[['ah4gp', 'ah4hosp', 'ah4phar', 'ah4leis', 'ah4h','2016_mean']]);"
      ],
      "metadata": {
        "id": "GqwwuyDSCm0Z"
      },
      "id": "GqwwuyDSCm0Z",
      "execution_count": null,
      "outputs": []
    },
    {
      "cell_type": "code",
      "source": [
        "#check for outliers observed in pairplot\n",
        "health_prop_clean['2016_mean'].nlargest(n=25)"
      ],
      "metadata": {
        "id": "ItShBf_TcOPt"
      },
      "id": "ItShBf_TcOPt",
      "execution_count": null,
      "outputs": []
    },
    {
      "cell_type": "code",
      "source": [
        "#use boxplot to inspect impact of outliers\n",
        "sns.boxplot(data=health_prop_clean, x='2016_mean');\n",
        "plt.gcf().axes[0].xaxis.get_major_formatter().set_scientific(False)\n"
      ],
      "metadata": {
        "id": "A-XlGh2gBgLp"
      },
      "id": "A-XlGh2gBgLp",
      "execution_count": null,
      "outputs": []
    },
    {
      "cell_type": "code",
      "source": [
        "sns.boxplot(data=health_prop_clean, x='ah4gp');"
      ],
      "metadata": {
        "id": "w6THBJj4Ujxb"
      },
      "id": "w6THBJj4Ujxb",
      "execution_count": null,
      "outputs": []
    },
    {
      "cell_type": "code",
      "source": [
        "sns.boxplot(data=health_prop_clean, x='ah4hosp');"
      ],
      "metadata": {
        "id": "vz8JCeFNUjmU"
      },
      "id": "vz8JCeFNUjmU",
      "execution_count": null,
      "outputs": []
    },
    {
      "cell_type": "code",
      "source": [
        "sns.boxplot(data=health_prop_clean, x='ah4leis');"
      ],
      "metadata": {
        "id": "-tHlYO-vUjcu"
      },
      "id": "-tHlYO-vUjcu",
      "execution_count": null,
      "outputs": []
    },
    {
      "cell_type": "code",
      "source": [
        "sns.boxplot(data=health_prop_clean, x='ah4h');"
      ],
      "metadata": {
        "id": "Bfov124gUjQ5"
      },
      "id": "Bfov124gUjQ5",
      "execution_count": null,
      "outputs": []
    },
    {
      "cell_type": "code",
      "source": [
        "#remove outliers in 2016 mean using interquartle range method\n",
        "#find intterquartile range\n",
        "Q1 = health_prop_clean['2016_mean'].quantile(0.25)\n",
        "Q3 = health_prop_clean['2016_mean'].quantile(0.75)\n",
        "IQR = Q3 - Q1"
      ],
      "metadata": {
        "id": "_-3NiK8gEaIi"
      },
      "id": "_-3NiK8gEaIi",
      "execution_count": 25,
      "outputs": []
    },
    {
      "cell_type": "code",
      "source": [
        "#view Q1, Q3 and IQR\n",
        "Q1, Q3, IQR"
      ],
      "metadata": {
        "colab": {
          "base_uri": "https://localhost:8080/"
        },
        "id": "8vkKL4-jEaAB",
        "outputId": "2f9e6f41-2900-45a7-c365-1be8e2897d02"
      },
      "id": "8vkKL4-jEaAB",
      "execution_count": 26,
      "outputs": [
        {
          "output_type": "execute_result",
          "data": {
            "text/plain": [
              "(np.float64(338492.5), np.float64(574418.75), np.float64(235926.25))"
            ]
          },
          "metadata": {},
          "execution_count": 26
        }
      ]
    },
    {
      "cell_type": "code",
      "source": [
        "#find upper and lower limits\n",
        "upper_limit = Q3 + (1.5 * IQR)\n",
        "lower_limit = Q1 - (1.5 * IQR)\n",
        "lower_limit, upper_limit"
      ],
      "metadata": {
        "colab": {
          "base_uri": "https://localhost:8080/"
        },
        "id": "BdVsYkEsFjIF",
        "outputId": "40a7ba0d-9d0b-4232-d3a1-1c3cbeb56edb"
      },
      "id": "BdVsYkEsFjIF",
      "execution_count": 27,
      "outputs": [
        {
          "output_type": "execute_result",
          "data": {
            "text/plain": [
              "(np.float64(-15396.875), np.float64(928308.125))"
            ]
          },
          "metadata": {},
          "execution_count": 27
        }
      ]
    },
    {
      "cell_type": "code",
      "source": [
        "#find outliers\n",
        "outliers = health_prop_clean[(health_prop_clean['2016_mean'] > upper_limit) | (health_prop_clean['2016_mean'] < lower_limit)]\n",
        "outliers"
      ],
      "metadata": {
        "id": "s8TUxgbPFETl"
      },
      "id": "s8TUxgbPFETl",
      "execution_count": null,
      "outputs": []
    },
    {
      "cell_type": "code",
      "source": [
        "#trim the data\n",
        "health_prop_clean_trim = health_prop_clean[(health_prop_clean['2016_mean'] < upper_limit) & (health_prop_clean['2016_mean'] > lower_limit)]\n"
      ],
      "metadata": {
        "id": "Ned1bA77FEI3"
      },
      "id": "Ned1bA77FEI3",
      "execution_count": 29,
      "outputs": []
    },
    {
      "cell_type": "code",
      "source": [
        "#check for difference in data\n",
        "print('before removing outliers', health_prop_clean.shape)\n",
        "print('after removing outliers', health_prop_clean_trim.shape)"
      ],
      "metadata": {
        "colab": {
          "base_uri": "https://localhost:8080/"
        },
        "id": "Sq_xJq0nHJcC",
        "outputId": "86e32102-2ec7-4ead-ffc0-dff07b93420d"
      },
      "id": "Sq_xJq0nHJcC",
      "execution_count": 30,
      "outputs": [
        {
          "output_type": "stream",
          "name": "stdout",
          "text": [
            "before removing outliers (4778, 11)\n",
            "after removing outliers (4461, 11)\n"
          ]
        }
      ]
    },
    {
      "cell_type": "code",
      "source": [],
      "metadata": {
        "id": "8tvx3p9WG37f"
      },
      "id": "8tvx3p9WG37f",
      "execution_count": null,
      "outputs": []
    },
    {
      "cell_type": "markdown",
      "source": [
        "# Data Exploration"
      ],
      "metadata": {
        "id": "jm1GNyDTdd7w"
      },
      "id": "jm1GNyDTdd7w"
    },
    {
      "cell_type": "markdown",
      "source": [
        "**CORRELATION THROUGH SPEARMANS RANK**"
      ],
      "metadata": {
        "id": "9vCh_P77f5pk"
      },
      "id": "9vCh_P77f5pk"
    },
    {
      "cell_type": "code",
      "source": [
        "#Calculate Spearmans Rank Correlation for all float data\n",
        "\n",
        "health_prop_corr =health_prop_clean_trim[['ah4gp', 'ah4hosp', 'ah4phar', 'ah4leis', 'ah4h','2016_mean']].corr(method = 'spearman')\n",
        "health_prop_corr\n"
      ],
      "metadata": {
        "id": "yTvMNPHdZSyZ"
      },
      "id": "yTvMNPHdZSyZ",
      "execution_count": null,
      "outputs": []
    },
    {
      "cell_type": "code",
      "source": [
        "#Visualize spearmans correlation\n",
        "\n",
        "# define plot size\n",
        "fig,ax = plt.subplots(figsize=(8,8))\n",
        "\n",
        "# define mask to apply to upper right hand corner of the plot\n",
        "data_to_mask = np.triu(np.ones_like(health_prop_corr))\n",
        "\n",
        "# define axis labels\n",
        "x_axis_labels = health_prop_corr.columns\n",
        "y_axis_labels = health_prop_corr.index\n",
        "\n",
        "\n",
        "#capatlise each label is x and Y\n",
        "x_axis_labels = [element.capitalize() for element in x_axis_labels]\n",
        "y_axis_labels = [element.capitalize() for element in y_axis_labels]\n",
        "\n",
        "# plot a heatmap of the correlation\n",
        "sns.heatmap(health_prop_corr,\n",
        "            #exband linewith for clarity\n",
        "            linewidths=.5,\n",
        "            # include spearmans value in squares\n",
        "            annot=True,\n",
        "            # define colourmap\n",
        "            cmap='RdBu',\n",
        "            # define value of minimum colour on cbar\n",
        "            vmin=-1,\n",
        "            # define value of maximum colour on cbar\n",
        "            vmax=1,\n",
        "            # add the mask\n",
        "            mask=data_to_mask,\n",
        "            # use the custom labels\n",
        "            xticklabels=x_axis_labels,\n",
        "            yticklabels=y_axis_labels,\n",
        "            # add a label to the cbar\n",
        "            cbar_kws={'label': \"Spearman's Rank correlation\"},\n",
        "            # plot on the axis we defined\n",
        "            ax=ax)\n",
        "\n",
        "# Set axis labels\n",
        "ax.set(xlabel=\"Property Value and Access to Health Services\",\n",
        "       ylabel=\"Property Value and Access to Health Services\",\n",
        "      title ='Property Value and Access to Health Services Correlation' );\n"
      ],
      "metadata": {
        "colab": {
          "base_uri": "https://localhost:8080/",
          "height": 718
        },
        "id": "DtShIipqpl1I",
        "outputId": "968660ef-c889-4daa-9baa-4ec80ed1d152"
      },
      "id": "DtShIipqpl1I",
      "execution_count": 32,
      "outputs": [
        {
          "output_type": "display_data",
          "data": {
            "text/plain": [
              "<Figure size 800x800 with 2 Axes>"
            ],
            "image/png": "[encoded data removed]"
          },
          "metadata": {}
        }
      ]
    },
    {
      "cell_type": "code",
      "source": [],
      "metadata": {
        "id": "UN0aNloVmflX"
      },
      "id": "UN0aNloVmflX",
      "execution_count": null,
      "outputs": []
    },
    {
      "cell_type": "markdown",
      "source": [
        "**Create Inner and Outer boruough classification**"
      ],
      "metadata": {
        "id": "vSXGPGW9y800"
      },
      "id": "vSXGPGW9y800"
    },
    {
      "cell_type": "code",
      "source": [
        "#create column of inner or outer borough for additional information in visualisation\n",
        "inner_london_boroughs = ('Camden', 'City of London', 'Greenwich', 'Hackney', 'Hammersmith and Fulham', 'Islington', 'Kensington and Chelsea', 'Lambeth', 'Lewisham', 'Southwark', 'Tower Hamlets', 'Wandsworth', 'Westminster')\n",
        "\n",
        "for index, row in health_prop_clean_trim.iterrows():\n",
        "  if row['LAD22NM'] in inner_london_boroughs:\n",
        "    health_prop_clean_trim.loc[index, 'inner_outer'] = 'Inner Borough'\n",
        "  else:\n",
        "    health_prop_clean_trim.loc[index, 'inner_outer'] = 'Outer Borough'"
      ],
      "metadata": {
        "colab": {
          "base_uri": "https://localhost:8080/"
        },
        "id": "wXlwWtaGysI6",
        "outputId": "9abf5137-642e-419f-87ca-de8eabfb0c82"
      },
      "execution_count": 33,
      "outputs": [
        {
          "output_type": "stream",
          "name": "stderr",
          "text": [
            "/tmp/ipython-input-33-3333621687.py:6: SettingWithCopyWarning: \n",
            "A value is trying to be set on a copy of a slice from a DataFrame.\n",
            "Try using .loc[row_indexer,col_indexer] = value instead\n",
            "\n",
            "See the caveats in the documentation: https://pandas.pydata.org/pandas-docs/stable/user_guide/indexing.html#returning-a-view-versus-a-copy\n",
            "  health_prop_clean_trim.loc[index, 'inner_outer'] = 'Inner Borough'\n"
          ]
        }
      ],
      "id": "wXlwWtaGysI6"
    },
    {
      "cell_type": "code",
      "source": [
        "#check inner_outer has worked correctly\n",
        "num_unique_categories = health_prop_clean_trim['inner_outer'].nunique()\n",
        "print(f\"Number of unique categories: {num_unique_categories}\")"
      ],
      "metadata": {
        "colab": {
          "base_uri": "https://localhost:8080/"
        },
        "id": "4pAclj08vE4I",
        "outputId": "5e437c64-0579-4e82-a987-b85f32fc4402"
      },
      "id": "4pAclj08vE4I",
      "execution_count": 34,
      "outputs": [
        {
          "output_type": "stream",
          "name": "stdout",
          "text": [
            "Number of unique categories: 2\n"
          ]
        }
      ]
    },
    {
      "cell_type": "markdown",
      "source": [
        "# Non Spatial Visulation"
      ],
      "metadata": {
        "id": "XM8zbmAveFUq"
      },
      "id": "XM8zbmAveFUq"
    },
    {
      "cell_type": "code",
      "source": [
        "#create four subplots of health service individual variables\n",
        "f,ax = plt.subplots(2,2, figsize=(12,6))\n",
        "#widen space between subplots\n",
        "plt.subplots_adjust(wspace=0.4, hspace=0.4)\n",
        "\n",
        "#Add title to subplots\n",
        "f.suptitle('Mean Property Value Vs Health Access Variables ', fontsize=16)\n",
        "\n",
        "\n",
        "#plot distance to gp in plot 1\n",
        "sns.scatterplot(data=health_prop_clean_trim, x='2016_mean', y='ah4gp', hue='inner_outer', legend=False, marker= \"o\", palette='colorblind', alpha =0.7, ax=ax[0,0], ).locator_params(axis='x', nbins=3)\n",
        "#Add Title to plot\n",
        "ax[0, 0].set_title('Access to GP')\n",
        "#add regression line\n",
        "sns.regplot(data=health_prop_clean_trim, x='2016_mean', y=\"ah4gp\", scatter=False, ax=ax[0,0], color='red')\n",
        "\n",
        "\n",
        "\n",
        "#plot distance to hospital in plot 2\n",
        "sns.scatterplot(data=health_prop_clean_trim, x='2016_mean', y='ah4hosp', hue='inner_outer', legend=False, marker= \"o\", palette='colorblind', alpha =0.7, ax=ax[0,1]).locator_params(axis='x', nbins=3)\n",
        "#Add title to plot\n",
        "ax[0, 1].set_title('Access to Hospital')\n",
        "#add regression line\n",
        "sns.regplot(data=health_prop_clean_trim, x='2016_mean', y=\"ah4hosp\", scatter=False, ax=ax[0,1], color='red')\n",
        "\n",
        "\n",
        "\n",
        "#plot distance to pharmacy in plot 3\n",
        "sns.scatterplot(data=health_prop_clean_trim, x='2016_mean', y='ah4phar', hue='inner_outer', legend=False,  marker= \"o\", palette='colorblind', alpha =0.7, ax=ax[1,0]).locator_params(axis='x', nbins=3)\n",
        "#add plot title\n",
        "ax[1,0 ].set_title('Access to Pharmacy')\n",
        "#add regression line\n",
        "sns.regplot(data=health_prop_clean_trim, x='2016_mean', y=\"ah4phar\", scatter=False, ax=ax[1,0], color='red')\n",
        "\n",
        "#plot distance to leisure center in plot 4\n",
        "sns.scatterplot(data=health_prop_clean_trim, x='2016_mean', y='ah4leis', hue='inner_outer', legend=False,  marker= \"o\", palette='colorblind', alpha =0.7, ax=ax[1,1]).locator_params(axis='x', nbins=3)\n",
        "#add plot title\n",
        "ax[1, 1].set_title('Access to Leisure Center')\n",
        "#add regression line\n",
        "sns.regplot(data=health_prop_clean_trim, x='2016_mean', y=\"ah4leis\", scatter=False, ax=ax[1,1], color='red')\n",
        "\n",
        "#LARGE PLOT\n",
        "\n",
        "#plot overal health access score vs property value\n",
        "g=sns.JointGrid(data=health_prop_clean_trim, x='2016_mean', y='ah4h', hue=\"inner_outer\", height =8)\n",
        "\n",
        "#add regression line\n",
        "sns.regplot(data=health_prop_clean_trim, x='2016_mean', y=\"ah4h\", scatter=False, ax=g.ax_joint, color='red')\n",
        "\n",
        "#remove scientific formating to include full house price\n",
        "plt.gcf().axes[0].xaxis.get_major_formatter().set_scientific(False)\n",
        "\n",
        "#plot health access score vs property value as scatter plot\n",
        "sns.scatterplot(data=health_prop_clean_trim, x='2016_mean', y='ah4h', hue='inner_outer', palette='colorblind', alpha =0.7, ax=g.ax_joint)\n",
        "\n",
        "#plothistograms on x-axis showing distribution of house price\n",
        "sns.histplot(data=health_prop_clean_trim, x='2016_mean', hue=\"inner_outer\", palette='colorblind', ax=g.ax_marg_x)\n",
        "\n",
        "#plot histogram on y-axis showing distribution of health access score\n",
        "sns.histplot(data=health_prop_clean_trim, y='ah4h', hue=\"inner_outer\", palette='colorblind', ax=g.ax_marg_y)\n",
        "\n",
        "#Remove legend from axis histograms\n",
        "g.ax_marg_y.legend_.remove()\n",
        "g.ax_marg_x.legend_.remove()\n",
        "\n",
        "#add title to property value distribution and set size\n",
        "g.ax_marg_x.set_title('Property Value Distribution', fontsize=10)\n",
        "\n",
        "#add title to Health Access Score distribution, set size, rotate and align to axis using x and y\n",
        "g.ax_marg_y.set_title('Health Access Distribution', fontsize=10, rotation=270, y=0.3, x=1.1)\n",
        "\n",
        "#Edit Axis Labels and set size\n",
        "g.ax_joint.set_ylabel('Heatlth access Score', fontsize=10)\n",
        "g.ax_joint.set_xlabel('2016 Mean Property Value', fontsize=10);\n",
        "\n",
        "#change orientation of x-axis ticks\n",
        "g.ax_joint.tick_params(axis='x', rotation=45)\n",
        "\n",
        "#add title to map and set position and fontsize\n",
        "g.ax_joint.set_title('2016 Mean Property Value Vs Health Access Score', fontsize=12, y=1.3);"
      ],
      "metadata": {
        "id": "siwkTYllZLQc"
      },
      "execution_count": null,
      "outputs": [],
      "id": "siwkTYllZLQc"
    },
    {
      "cell_type": "code",
      "source": [],
      "metadata": {
        "id": "B6ftGCY1v0os"
      },
      "id": "B6ftGCY1v0os",
      "execution_count": null,
      "outputs": []
    },
    {
      "cell_type": "code",
      "source": [],
      "metadata": {
        "id": "qrtZuD8fIa70"
      },
      "id": "qrtZuD8fIa70",
      "execution_count": null,
      "outputs": []
    },
    {
      "cell_type": "markdown",
      "source": [
        "# LOCAL AUTHORITY DISTRICT (LAD) VISUALISTAION"
      ],
      "metadata": {
        "id": "RQDyYrNVSecJ"
      },
      "id": "RQDyYrNVSecJ"
    },
    {
      "cell_type": "markdown",
      "source": [
        "**COMBINING LAD BOUNDARY GEOMETRY AND HEALTH ACCESS Vs PROPERTY VALUE**"
      ],
      "metadata": {
        "id": "xqNjNtmxgjEu"
      },
      "id": "xqNjNtmxgjEu"
    },
    {
      "cell_type": "code",
      "source": [
        "# Data downloaded from https://geoportal.statistics.gov.uk/datasets/ons::local-authority-districts-may-2024-boundaries-uk-bfe-2/explore?location=51.468470%2C-0.040938%2C9.90\n",
        "shp = gpd.read_file('https://github.com/Jonathan-C-Barrett/GEOG5990M/raw/main/Local_Authority_Districts_May_2024_Boundaries_UK_BFE_2410925873296837173.geojson')\n",
        "\n"
      ],
      "metadata": {
        "id": "c5qeDtCqYBMH"
      },
      "id": "c5qeDtCqYBMH",
      "execution_count": 36,
      "outputs": []
    },
    {
      "cell_type": "code",
      "source": [
        "#inspect data\n",
        "shp.head()"
      ],
      "metadata": {
        "id": "nt5orhSZYyba"
      },
      "id": "nt5orhSZYyba",
      "execution_count": null,
      "outputs": []
    },
    {
      "cell_type": "code",
      "source": [
        "#group property and health data by Local Authority District\n",
        "health_prop_LAD = health_prop_clean_trim.groupby('LAD22NM').mean(numeric_only=True)\n",
        "health_prop_LAD.head(n=35)"
      ],
      "metadata": {
        "id": "Zl_qJCaqHEVX"
      },
      "id": "Zl_qJCaqHEVX",
      "execution_count": null,
      "outputs": []
    },
    {
      "cell_type": "code",
      "source": [
        "#convert 2016 property mean to more easily comparable by dividing by /100,000\n",
        "health_prop_LAD['2016_mean'] = health_prop_LAD['2016_mean']/100000\n",
        "health_prop_LAD.head()\n"
      ],
      "metadata": {
        "id": "Nmovb-3oZD4Z"
      },
      "id": "Nmovb-3oZD4Z",
      "execution_count": null,
      "outputs": []
    },
    {
      "cell_type": "code",
      "source": [
        "#explore basic statistics\n",
        "health_prop_LAD.describe()"
      ],
      "metadata": {
        "id": "PmBgWvwrHu34"
      },
      "id": "PmBgWvwrHu34",
      "execution_count": null,
      "outputs": []
    },
    {
      "cell_type": "code",
      "source": [
        "#Cobine property and Health access data with geoson LAD boundaries and check all 33 Boroughs present\n",
        "health_prop_LAD_ldn = pd.merge(shp, health_prop_LAD, left_on='LAD24NM', right_on='LAD22NM', how='right')\n",
        "health_prop_LAD_ldn.head(n=35)"
      ],
      "metadata": {
        "id": "gsAgme55BXzI"
      },
      "id": "gsAgme55BXzI",
      "execution_count": null,
      "outputs": []
    },
    {
      "cell_type": "code",
      "source": [
        "#check data on leaflet map\n",
        "health_prop_LAD_ldn.explore()"
      ],
      "metadata": {
        "id": "Xw6RIbrnCBYg"
      },
      "id": "Xw6RIbrnCBYg",
      "execution_count": null,
      "outputs": []
    },
    {
      "cell_type": "markdown",
      "source": [
        "**EXPLORE CORRELATION AT LAD SCALE**"
      ],
      "metadata": {
        "id": "ilP7KuOihDuC"
      },
      "id": "ilP7KuOihDuC"
    },
    {
      "cell_type": "code",
      "source": [
        "#Examine correlation between data at LAD level using Spearmans rank\n",
        "health_prop_LADcorr = health_prop_LAD_ldn[['ah4gp', 'ah4hosp', 'ah4phar', 'ah4leis', 'ah4h','2016_mean']].corr(method = 'spearman')\n",
        "health_prop_LADcorr"
      ],
      "metadata": {
        "id": "Ht2Cp_S6_T1w"
      },
      "id": "Ht2Cp_S6_T1w",
      "execution_count": null,
      "outputs": []
    },
    {
      "cell_type": "code",
      "source": [
        "#visualise correlation\n",
        "# define plot size\n",
        "fig,ax = plt.subplots(figsize=(8,8))\n",
        "\n",
        "# define mask to apply to upper right hand corner of the plot\n",
        "data_to_mask = np.triu(np.ones_like(health_prop_LADcorr))\n",
        "\n",
        "# define axis labels\n",
        "x_axis_labels = health_prop_LADcorr.columns\n",
        "y_axis_labels = health_prop_LADcorr.index\n",
        "\n",
        "\n",
        "#capatlise each label is x and Y\n",
        "x_axis_labels = [element.capitalize() for element in x_axis_labels]\n",
        "y_axis_labels = [element.capitalize() for element in y_axis_labels]\n",
        "\n",
        "# plot a heatmap of the correlation\n",
        "sns.heatmap(health_prop_LADcorr,\n",
        "            #exband linewith for clarity\n",
        "            linewidths=.5,\n",
        "            # include spearmans value in sqaures\n",
        "            annot=True,\n",
        "            # define colourmap\n",
        "            cmap='RdBu',\n",
        "            # define value of minimum colour on cbar\n",
        "            vmin=-1,\n",
        "            # define value of maximum colour on cbar\n",
        "            vmax=1,\n",
        "            # add the mask\n",
        "            mask=data_to_mask,\n",
        "            # use the custom labels\n",
        "            xticklabels=x_axis_labels,\n",
        "            yticklabels=y_axis_labels,\n",
        "            # add a label to the cbar\n",
        "            cbar_kws={'label': \"Spearman's Rank correlation\"},\n",
        "            # plot on the axis we defined\n",
        "            ax=ax)\n",
        "\n",
        "# Set axis labels\n",
        "ax.set(xlabel=\"Property Value and Access to Health Services\",\n",
        "       ylabel=\"Property Value and Access to Health Services\",\n",
        "      title ='Property Value and Access to Health Services Correlation' );\n"
      ],
      "metadata": {
        "id": "73EaXMJ_AJuG"
      },
      "id": "73EaXMJ_AJuG",
      "execution_count": null,
      "outputs": []
    },
    {
      "cell_type": "code",
      "source": [
        "#Decide on number of clusters through elbow method\n",
        "# create an empty list\n",
        "Sum_of_squared_distances = []\n",
        "\n",
        "# get a range of numbers from 1 to 15\n",
        "K = range(1,15)\n",
        "#for each number in the range 1 to 15create a k-means model with that number of clusters and set a random state\n",
        "for k in K:\n",
        "    km = cluster.KMeans(n_clusters=k, init=\"random\", random_state=123)\n",
        "    # fit the model using the variables from database\n",
        "    km = km.fit(health_prop_LAD_ldn[['ah4gp', 'ah4hosp', 'ah4phar', 'ah4leis','2016_mean']].values)\n",
        "    # calculate the sum of the squared distances and add this to the 'Sum_of_squared_distances' list\n",
        "    Sum_of_squared_distances.append(km.inertia_)\n",
        "\n",
        "# plot the sum of squared distances against the number of clusters\n",
        "plt.plot(K, Sum_of_squared_distances, 'bx-')\n",
        "plt.xlabel('k')\n",
        "plt.ylabel('Sum_of_squared_distances')\n",
        "plt.title('Elbow Method For Optimal k')\n",
        "plt.show()"
      ],
      "metadata": {
        "id": "O8oen7GrAJpW"
      },
      "id": "O8oen7GrAJpW",
      "execution_count": null,
      "outputs": []
    },
    {
      "cell_type": "code",
      "source": [
        "# run the model with minimum needed for minimal change in this instance 4\n",
        "km4 = cluster.KMeans(n_clusters=4,init=\"random\", random_state=123)\n",
        "km4cls = km4.fit(health_prop_LAD_ldn[['ah4gp', 'ah4hosp', 'ah4phar', 'ah4leis','2016_mean']].values)"
      ],
      "metadata": {
        "id": "PWtkjcUTAJmw"
      },
      "id": "PWtkjcUTAJmw",
      "execution_count": 69,
      "outputs": []
    },
    {
      "cell_type": "code",
      "source": [
        "#create a new column in db with cluster label\n",
        "health_prop_LAD_ldn['cluster'] = km4cls.labels_\n",
        "health_prop_LAD_ldn['cluster'].head()"
      ],
      "metadata": {
        "colab": {
          "base_uri": "https://localhost:8080/",
          "height": 240
        },
        "id": "8syObT89AJer",
        "outputId": "2cdf0437-1f71-4985-8b1a-fbcfed633496"
      },
      "id": "8syObT89AJer",
      "execution_count": 70,
      "outputs": [
        {
          "output_type": "execute_result",
          "data": {
            "text/plain": [
              "0    3\n",
              "1    2\n",
              "2    0\n",
              "3    2\n",
              "4    0\n",
              "Name: cluster, dtype: int32"
            ],
            "text/html": [
              "<div>\n",
              "<style scoped>\n",
              "    .dataframe tbody tr th:only-of-type {\n",
              "        vertical-align: middle;\n",
              "    }\n",
              "\n",
              "    .dataframe tbody tr th {\n",
              "        vertical-align: top;\n",
              "    }\n",
              "\n",
              "    .dataframe thead th {\n",
              "        text-align: right;\n",
              "    }\n",
              "</style>\n",
              "<table border=\"1\" class=\"dataframe\">\n",
              "  <thead>\n",
              "    <tr style=\"text-align: right;\">\n",
              "      <th></th>\n",
              "      <th>cluster</th>\n",
              "    </tr>\n",
              "  </thead>\n",
              "  <tbody>\n",
              "    <tr>\n",
              "      <th>0</th>\n",
              "      <td>3</td>\n",
              "    </tr>\n",
              "    <tr>\n",
              "      <th>1</th>\n",
              "      <td>2</td>\n",
              "    </tr>\n",
              "    <tr>\n",
              "      <th>2</th>\n",
              "      <td>0</td>\n",
              "    </tr>\n",
              "    <tr>\n",
              "      <th>3</th>\n",
              "      <td>2</td>\n",
              "    </tr>\n",
              "    <tr>\n",
              "      <th>4</th>\n",
              "      <td>0</td>\n",
              "    </tr>\n",
              "  </tbody>\n",
              "</table>\n",
              "</div><br><label><b>dtype:</b> int32</label>"
            ]
          },
          "metadata": {},
          "execution_count": 70
        }
      ]
    },
    {
      "cell_type": "code",
      "source": [
        "# Create a pairplot which shows relationship between variables captured by clustering\n",
        "sns.pairplot(health_prop_LAD_ldn[['ah4gp', 'ah4hosp', 'ah4phar', 'ah4leis','2016_mean','cluster']],\n",
        "             hue='cluster',\n",
        "             palette='Dark2',\n",
        "            height=5);"
      ],
      "metadata": {
        "id": "Bwuc0BXgZVBs"
      },
      "id": "Bwuc0BXgZVBs",
      "execution_count": null,
      "outputs": []
    },
    {
      "cell_type": "code",
      "source": [
        "#Plot the spatial pattern of these clusters\n",
        "f, ax = plt.subplots(1, figsize=(9, 9))\n",
        "\n",
        "health_prop_LAD_ldn.plot(column='cluster', categorical=True, legend=True, \\\n",
        "         linewidth=0.1, edgecolor='white', ax=ax)\n",
        "\n",
        "ax.set_axis_off()\n",
        "\n",
        "plt.show()"
      ],
      "metadata": {
        "id": "CZY5MjG6aua3"
      },
      "id": "CZY5MjG6aua3",
      "execution_count": null,
      "outputs": []
    },
    {
      "cell_type": "code",
      "source": [
        "#groupby cluster to get the median value of each variable by cluster\n",
        "health_prop_LAD_clusters_median=health_prop_LAD_ldn.groupby('cluster')[['ah4gp', 'ah4hosp', 'ah4phar', 'ah4leis','2016_mean']].median().reset_index()"
      ],
      "metadata": {
        "id": "-BXxLcxtinCp"
      },
      "id": "-BXxLcxtinCp",
      "execution_count": 73,
      "outputs": []
    },
    {
      "cell_type": "code",
      "source": [
        "#explore median values\n",
        "health_prop_LAD_clusters_median"
      ],
      "metadata": {
        "id": "2Oobuhf_ePOd"
      },
      "id": "2Oobuhf_ePOd",
      "execution_count": null,
      "outputs": []
    },
    {
      "cell_type": "code",
      "source": [
        "# transform data to a long format to plot\n",
        "health_prop_LAD_clusters_median_to_plot =pd.melt(health_prop_LAD_clusters_median,id_vars='cluster',\n",
        "                                            value_vars=['ah4gp', 'ah4hosp', 'ah4phar', 'ah4leis','2016_mean'])"
      ],
      "metadata": {
        "id": "3YEXpRcSYs8o"
      },
      "id": "3YEXpRcSYs8o",
      "execution_count": 75,
      "outputs": []
    },
    {
      "cell_type": "code",
      "source": [
        "# check what the data now look like\n",
        "health_prop_LAD_clusters_median_to_plot.head()"
      ],
      "metadata": {
        "id": "Cr87ajbfcc1K"
      },
      "id": "Cr87ajbfcc1K",
      "execution_count": null,
      "outputs": []
    },
    {
      "cell_type": "code",
      "source": [
        "# Plot a faceted bar chart, where each row is a different cluster\n",
        "\n",
        "sns.catplot(health_prop_LAD_clusters_median_to_plot,\n",
        "            row='cluster',\n",
        "            y='variable',\n",
        "            x='value',\n",
        "            kind='bar',\n",
        "            aspect=4,\n",
        "            hue='value',\n",
        "            palette='summer')\n",
        "\n"
      ],
      "metadata": {
        "id": "8h5D12wycoJp"
      },
      "id": "8h5D12wycoJp",
      "execution_count": null,
      "outputs": []
    },
    {
      "cell_type": "code",
      "source": [
        "#changecluster naming\n",
        "#create empty column\n",
        "health_prop_LAD_ldn['Cluster_description']=\"\""
      ],
      "metadata": {
        "id": "D79EH9aCcoCB"
      },
      "id": "D79EH9aCcoCB",
      "execution_count": 78,
      "outputs": []
    },
    {
      "cell_type": "code",
      "source": [
        "#update names of each cluster\n",
        "health_prop_LAD_ldn.loc[health_prop_LAD_ldn['cluster']==0,'Cluster_description']='Medium Value Low Access'\n",
        "health_prop_LAD_ldn.loc[health_prop_LAD_ldn['cluster']==1,'Cluster_description']='High Value Good Access'\n",
        "health_prop_LAD_ldn.loc[health_prop_LAD_ldn['cluster']==2,'Cluster_description']='Medium High Value Medium Access'\n",
        "health_prop_LAD_ldn.loc[health_prop_LAD_ldn['cluster']==3,'Cluster_description']='Low Value Medium Access'"
      ],
      "metadata": {
        "id": "0OueqnJycn6M"
      },
      "id": "0OueqnJycn6M",
      "execution_count": 80,
      "outputs": []
    },
    {
      "cell_type": "markdown",
      "source": [
        "# Spatial Visualisation"
      ],
      "metadata": {
        "id": "1Yzl-jhN6rsw"
      },
      "id": "1Yzl-jhN6rsw"
    },
    {
      "cell_type": "code",
      "source": [
        "#Check CRS of datafame\n",
        "health_prop_LAD_ldn.crs"
      ],
      "metadata": {
        "colab": {
          "base_uri": "https://localhost:8080/"
        },
        "id": "JG50LH-d6q8c",
        "outputId": "bed4c621-9577-45db-e088-443f657b9d10"
      },
      "id": "JG50LH-d6q8c",
      "execution_count": 84,
      "outputs": [
        {
          "output_type": "execute_result",
          "data": {
            "text/plain": [
              "<Geographic 2D CRS: EPSG:4326>\n",
              "Name: WGS 84\n",
              "Axis Info [ellipsoidal]:\n",
              "- Lat[north]: Geodetic latitude (degree)\n",
              "- Lon[east]: Geodetic longitude (degree)\n",
              "Area of Use:\n",
              "- name: World.\n",
              "- bounds: (-180.0, -90.0, 180.0, 90.0)\n",
              "Datum: World Geodetic System 1984 ensemble\n",
              "- Ellipsoid: WGS 84\n",
              "- Prime Meridian: Greenwich"
            ]
          },
          "metadata": {},
          "execution_count": 84
        }
      ]
    },
    {
      "cell_type": "code",
      "source": [
        "#convert crs to  Web Mercator projection (epsg=3857) to work with base maps\n",
        "health_prop_LAD_ldn_WM = health_prop_LAD_ldn.to_crs(epsg=3857)"
      ],
      "metadata": {
        "id": "rCRyn1vu42mx"
      },
      "id": "rCRyn1vu42mx",
      "execution_count": 85,
      "outputs": []
    },
    {
      "cell_type": "code",
      "source": [
        "# Data Visualisation\n",
        "\n",
        "#create a figure with 3 subplots\n",
        "f,ax = plt.subplots(1,2, figsize=(20,20), layout='constrained')\n",
        "\n",
        "\n",
        "#plot cluster description\n",
        "health_prop_LAD_ldn_WM.plot(ax=ax[0], column ='Cluster_description', alpha=0.7, cmap='RdYlBu', legend=True)\n",
        "#add basemap\n",
        "ctx.add_basemap(ax=ax[0], source=ctx.providers.CartoDB.Positron, crs=health_prop_LAD_ldn_WM.crs)\n",
        "# add title\n",
        "ax[0].set_title('Individual Distance to Health Service Clusters', fontsize=20)\n",
        "# add a North arrow\n",
        "add_north_arrow(ax=ax[0], scale=.75, xlim_pos=0.1, ylim_pos=.85, color='#000', text_scaler=2, text_yT=-1.25)\n",
        "# position legend\n",
        "ax[0].get_legend().set_bbox_to_anchor((1.0, 0.99))\n",
        "\n",
        "\n",
        "#plot health access score\n",
        "health_prop_LAD_ldn_WM.plot(ax=ax[1], column ='ah4h', alpha=0.7, legend=True, cmap='RdYlBu',legend_kwds={'shrink': 0.2})\n",
        "#add basemap\n",
        "ctx.add_basemap(ax=ax[1], source=ctx.providers.CartoDB.Positron, crs=health_prop_LAD_ldn_WM.crs)\n",
        "# add title\n",
        "ax[1].set_title('Access to Health Mean Score', fontsize=20)\n",
        "\n",
        "# make axis invisible for subplot 1\n",
        "ax[0].set_axis_off()\n",
        "\n",
        "# make axis invisible for subplot 2\n",
        "ax[1].set_axis_off()\n",
        "\n",
        "plt.show();"
      ],
      "metadata": {
        "id": "J2ZeWmDb7qEm"
      },
      "id": "J2ZeWmDb7qEm",
      "execution_count": null,
      "outputs": []
    },
    {
      "cell_type": "code",
      "source": [],
      "metadata": {
        "id": "KA8_6UuC7p7_"
      },
      "id": "KA8_6UuC7p7_",
      "execution_count": null,
      "outputs": []
    },
    {
      "cell_type": "markdown",
      "id": "6fea5785-5aed-491a-ace3-5ad07d446e4c",
      "metadata": {
        "id": "6fea5785-5aed-491a-ace3-5ad07d446e4c"
      },
      "source": [
        "This is an example block of mardown text I want to reference <a href=\"#ref1\">[1]</a>. I might need to add some more citations <a href=\"#ref2\">[2]</a><a href=\"#ref2\">[3]</a>\n",
        "\n"
      ]
    },
    {
      "cell_type": "code",
      "execution_count": null,
      "id": "b4b3f4ce-f5f6-471e-ae7b-6224b75ffec4",
      "metadata": {
        "id": "b4b3f4ce-f5f6-471e-ae7b-6224b75ffec4"
      },
      "outputs": [],
      "source": []
    },
    {
      "cell_type": "code",
      "execution_count": null,
      "id": "cb7f14ec-9555-4fe6-98db-5f1f02fe65cd",
      "metadata": {
        "id": "cb7f14ec-9555-4fe6-98db-5f1f02fe65cd"
      },
      "outputs": [],
      "source": []
    },
    {
      "cell_type": "code",
      "execution_count": null,
      "id": "bcbf02dc-73a9-4a6d-9495-580b72055c2a",
      "metadata": {
        "id": "bcbf02dc-73a9-4a6d-9495-580b72055c2a"
      },
      "outputs": [],
      "source": []
    },
    {
      "cell_type": "code",
      "execution_count": null,
      "id": "4c7a4913-7716-40c2-9734-2610041029c2",
      "metadata": {
        "id": "4c7a4913-7716-40c2-9734-2610041029c2"
      },
      "outputs": [],
      "source": []
    },
    {
      "cell_type": "markdown",
      "id": "4806cdd0-3484-45dd-b139-f36e28ce77a9",
      "metadata": {
        "id": "4806cdd0-3484-45dd-b139-f36e28ce77a9"
      },
      "source": [
        "Data Visualisation\n",
        "- Don't forget to present your final two data visualisation (one spatial and one non-spatial) and the justifications about the decisions you made whilst preparing and visualising the data."
      ]
    },
    {
      "cell_type": "code",
      "execution_count": null,
      "id": "cba9bc3e-33e2-44b1-b8a6-47242500eb32",
      "metadata": {
        "id": "cba9bc3e-33e2-44b1-b8a6-47242500eb32"
      },
      "outputs": [],
      "source": []
    },
    {
      "cell_type": "code",
      "execution_count": null,
      "id": "02f2b8d5-c223-4328-abd3-ea5a6678b910",
      "metadata": {
        "id": "02f2b8d5-c223-4328-abd3-ea5a6678b910"
      },
      "outputs": [],
      "source": []
    },
    {
      "cell_type": "markdown",
      "id": "393446de-c2bd-47d1-828a-5b60ec65b8c6",
      "metadata": {
        "id": "393446de-c2bd-47d1-828a-5b60ec65b8c6"
      },
      "source": [
        "## References\n",
        "<p><a href=\"add_url_here\">[1]</a>Footnote citation goes here</p>\n",
        "<p><a href=\"https://github.com/FrancescaPontin/GEOG5990\">[2]</a>GEOG5990M course materials</p>\n",
        "<p><a href=\"add_url_here\">[3]</a>Citation 3</p>"
      ]
    },
    {
      "cell_type": "code",
      "execution_count": null,
      "id": "e902a5a4-c810-4cb0-883d-be558f696c8b",
      "metadata": {
        "id": "e902a5a4-c810-4cb0-883d-be558f696c8b"
      },
      "outputs": [],
      "source": []
    }
  ],
  "metadata": {
    "kernelspec": {
      "display_name": "Python 3 (ipykernel)",
      "language": "python",
      "name": "python3"
    },
    "language_info": {
      "codemirror_mode": {
        "name": "ipython",
        "version": 3
      },
      "file_extension": ".py",
      "mimetype": "text/x-python",
      "name": "python",
      "nbconvert_exporter": "python",
      "pygments_lexer": "ipython3",
      "version": "3.10.12"
    },
    "colab": {
      "provenance": [],
      "include_colab_link": true
    }
  },
  "nbformat": 4,
  "nbformat_minor": 5
}