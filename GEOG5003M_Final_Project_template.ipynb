{
  "cells": [
    {
      "cell_type": "markdown",
      "metadata": {
        "id": "view-in-github",
        "colab_type": "text"
      },
      "source": [
        "<a href=\"https://colab.research.google.com/github/Jonathan-C-Barrett/GEOG5990M/blob/main/GEOG5003M_Final_Project_template.ipynb\" target=\"_parent\"><img src=\"https://colab.research.google.com/assets/colab-badge.svg\" alt=\"Open In Colab\"/></a>"
      ]
    },
    {
      "cell_type": "markdown",
      "id": "1e1694b4-0ff8-4e25-8c21-756e23ce6972",
      "metadata": {
        "id": "1e1694b4-0ff8-4e25-8c21-756e23ce6972"
      },
      "source": [
        "# GEOG5003M Final Assignment (Template)\n",
        "\n",
        "Student ID number:\n",
        "\n",
        "GitHub repo link:\n",
        "\n",
        "Word count limit= 1,500 words max (markdown cells only, excluding readme)"
      ]
    },
    {
      "cell_type": "code",
      "execution_count": null,
      "id": "1d435d17-0eb5-4238-b242-8e202462c4d9",
      "metadata": {
        "id": "1d435d17-0eb5-4238-b242-8e202462c4d9",
        "collapsed": true
      },
      "outputs": [],
      "source": [
        "# read in required packages\n",
        "\n",
        "import geopandas as gpd\n",
        "import pandas as pd\n",
        "import seaborn as sns\n",
        "from scipy import stats\n",
        "import numpy as np\n",
        "\n",
        "import matplotlib.pyplot as plt\n",
        "\n",
        "!pip install mapclassify"
      ]
    },
    {
      "cell_type": "code",
      "execution_count": null,
      "id": "c3540d43-fbe5-48a1-9d2a-79b3c38f7bdf",
      "metadata": {
        "id": "c3540d43-fbe5-48a1-9d2a-79b3c38f7bdf",
        "collapsed": true
      },
      "outputs": [],
      "source": [
        "#Read in Health Services Data\n",
        "ahah = pd.read_csv('https://github.com/Jonathan-C-Barrett/GEOG5990M/raw/refs/heads/main/ahah_v4.csv')\n",
        "ahah.head()"
      ]
    },
    {
      "cell_type": "code",
      "source": [
        "#Select only columns relating to Health Services\n",
        "health = ahah[['LSOA21CD', 'ah4dent', 'ah4gp', 'ah4hosp', 'ah4phar', 'ah4leis', 'ah4h']]\n",
        "health.head()"
      ],
      "metadata": {
        "id": "YCtq8jyQSste",
        "collapsed": true
      },
      "id": "YCtq8jyQSste",
      "execution_count": null,
      "outputs": []
    },
    {
      "cell_type": "code",
      "source": [
        "health.info()"
      ],
      "metadata": {
        "id": "KUyUYD0zVTAv"
      },
      "id": "KUyUYD0zVTAv",
      "execution_count": null,
      "outputs": []
    },
    {
      "cell_type": "code",
      "source": [
        "#Read in Median Property Sales\n",
        "m_sales = pd.read_csv('https://github.com/Jonathan-C-Barrett/GEOG5990M/raw/refs/heads/main/median_prices_quarterly.csv')\n",
        "m_sales.head()"
      ],
      "metadata": {
        "id": "2RT3jOJwp3GG"
      },
      "id": "2RT3jOJwp3GG",
      "execution_count": null,
      "outputs": []
    },
    {
      "cell_type": "code",
      "source": [
        "#Select only columns relating to 2018\n",
        "prop_18 = m_sales[['lsoa_cd','median_18Q1', 'median_18Q2', 'median_18Q3', 'median_18Q4']]\n",
        "prop_18.head()"
      ],
      "metadata": {
        "id": "kgWwcRsFp21t"
      },
      "id": "kgWwcRsFp21t",
      "execution_count": null,
      "outputs": []
    },
    {
      "cell_type": "code",
      "source": [
        "#create new column and calculate mean\n",
        "prop_18['mean_18'] = prop_18['median_18Q1'] + prop_18['median_18Q2'] + prop_18['median_18Q3'] + prop_18['median_18Q4'].div(4)\n",
        "prop_18.head()"
      ],
      "metadata": {
        "id": "C7D6c1qUkU4r"
      },
      "id": "C7D6c1qUkU4r",
      "execution_count": null,
      "outputs": []
    },
    {
      "cell_type": "code",
      "source": [
        "#examine property info\n",
        "prop_18.info()"
      ],
      "metadata": {
        "id": "zKkmqPkaVkEL"
      },
      "id": "zKkmqPkaVkEL",
      "execution_count": null,
      "outputs": []
    },
    {
      "cell_type": "code",
      "source": [
        "#combine health and property data by LSOA code\n",
        "health_prop = pd.merge(health, prop_18, left_on='LSOA21CD', right_on='lsoa_cd', how='left')\n",
        "health_prop.head()"
      ],
      "metadata": {
        "id": "EuywDoyuWz_n"
      },
      "id": "EuywDoyuWz_n",
      "execution_count": null,
      "outputs": []
    },
    {
      "cell_type": "code",
      "source": [
        "# Data downloaded from https://geoportal.statistics.gov.uk/datasets/f23c50d2bffa4a8d9693bcf4ed72bdaf_0/explore?location=0.278866%2C-2.487028%2C0.00\n",
        "shp =gpd.read_file('/content/Output_Areas_2021_EW_BFE_V9_-6709771492190738846.geojson')\n"
      ],
      "metadata": {
        "id": "c5qeDtCqYBMH"
      },
      "id": "c5qeDtCqYBMH",
      "execution_count": 45,
      "outputs": []
    },
    {
      "cell_type": "code",
      "source": [
        "#inspect data\n",
        "shp.head()"
      ],
      "metadata": {
        "id": "nt5orhSZYyba"
      },
      "id": "nt5orhSZYyba",
      "execution_count": null,
      "outputs": []
    },
    {
      "cell_type": "code",
      "source": [
        "#combine boundary data and health and property data through LSOA code\n",
        "ldn_health_prop = pd.merge(shp, health_prop, left_on='LSOA21CD', right_on='lsoa_cd', how='left')\n",
        "ldn_health_prop.head()"
      ],
      "metadata": {
        "id": "71MWZAYeXtIe"
      },
      "id": "71MWZAYeXtIe",
      "execution_count": null,
      "outputs": []
    },
    {
      "cell_type": "code",
      "source": [
        "#inspect data\n",
        "ldn_health_prop.info()"
      ],
      "metadata": {
        "id": "9tiOV67cZHuv"
      },
      "id": "9tiOV67cZHuv",
      "execution_count": null,
      "outputs": []
    },
    {
      "cell_type": "code",
      "source": [
        "#select only london boroughs\n",
        "london_shp= ldn_health_prop.loc[ldn_health_prop['LSOA21NM'].str.contains('City of London') |\n",
        "                    ldn_health_prop['LSOA21NM'].str.contains('Barking and Dagenham')|\n",
        "                    ldn_health_prop['LSOA21NM'].str.contains('Barnet')|\n",
        "                    ldn_health_prop['LSOA21NM'].str.contains('Bexley')|\n",
        "                    ldn_health_prop['LSOA21NM'].str.contains('Brent') |\n",
        "                    ldn_health_prop['LSOA21NM'].str.contains('Bromley')|\n",
        "                    ldn_health_prop['LSOA21NM'].str.contains('Camden')|\n",
        "                    ldn_health_prop['LSOA21NM'].str.contains('Croydon')|\n",
        "                    ldn_health_prop['LSOA21NM'].str.contains('Ealing')|\n",
        "                    ldn_health_prop['LSOA21NM'].str.contains('Enfield')|\n",
        "                    ldn_health_prop['LSOA21NM'].str.contains('Greenwich')|\n",
        "                    ldn_health_prop['LSOA21NM'].str.contains('Hackney')|\n",
        "                    ldn_health_prop['LSOA21NM'].str.contains('Hammersmith and Fulham')|\n",
        "                    ldn_health_prop['LSOA21NM'].str.contains('Haringey')|\n",
        "                    ldn_health_prop['LSOA21NM'].str.contains('Harrow')|\n",
        "                    ldn_health_prop['LSOA21NM'].str.contains('Havering')|\n",
        "                    ldn_health_prop['LSOA21NM'].str.contains('Hillingdon')|\n",
        "                    ldn_health_prop['LSOA21NM'].str.contains('Hounslow')|\n",
        "                    ldn_health_prop['LSOA21NM'].str.contains('Islington')|\n",
        "                    ldn_health_prop['LSOA21NM'].str.contains('Kensington and Chelsea')|\n",
        "                    ldn_health_prop['LSOA21NM'].str.contains('Kingston upon Thames')|\n",
        "                    ldn_health_prop['LSOA21NM'].str.contains('Lambeth')|\n",
        "                    ldn_health_prop['LSOA21NM'].str.contains('Lewisham')|\n",
        "                    ldn_health_prop['LSOA21NM'].str.contains('Merton')|\n",
        "                    ldn_health_prop['LSOA21NM'].str.contains('Newham')|\n",
        "                    ldn_health_prop['LSOA21NM'].str.contains('Redbridge')|\n",
        "                    ldn_health_prop['LSOA21NM'].str.contains('Richmond upon Thames')|\n",
        "                    ldn_health_prop['LSOA21NM'].str.contains('Southwark')|\n",
        "                    ldn_health_prop['LSOA21NM'].str.contains('Sutton')|\n",
        "                    ldn_health_prop['LSOA21NM'].str.contains('Southwark')|\n",
        "                    ldn_health_prop['LSOA21NM'].str.contains('Tower Hamlets')|\n",
        "                    ldn_health_prop['LSOA21NM'].str.contains('Waltham Forest')|\n",
        "                    ldn_health_prop['LSOA21NM'].str.contains('Wandsworth')|\n",
        "                    ldn_health_prop['LSOA21NM'].str.contains('Westminster'),:]"
      ],
      "metadata": {
        "id": "A7BgVFjvZ2JD"
      },
      "id": "A7BgVFjvZ2JD",
      "execution_count": 49,
      "outputs": []
    },
    {
      "cell_type": "code",
      "source": [
        "#investigate data\n",
        "london_shp.info()"
      ],
      "metadata": {
        "id": "kSy0DeY3bnAv"
      },
      "id": "kSy0DeY3bnAv",
      "execution_count": null,
      "outputs": []
    },
    {
      "cell_type": "code",
      "source": [
        "#explore on leaflet map\n",
        "london_shp.explore()"
      ],
      "metadata": {
        "id": "CZY5MjG6aua3"
      },
      "id": "CZY5MjG6aua3",
      "execution_count": null,
      "outputs": []
    },
    {
      "cell_type": "code",
      "source": [
        "#check for missing values\n",
        "london_shp.isna().sum()"
      ],
      "metadata": {
        "id": "-BXxLcxtinCp"
      },
      "id": "-BXxLcxtinCp",
      "execution_count": null,
      "outputs": []
    },
    {
      "cell_type": "code",
      "source": [],
      "metadata": {
        "id": "2Oobuhf_ePOd"
      },
      "id": "2Oobuhf_ePOd",
      "execution_count": null,
      "outputs": []
    },
    {
      "cell_type": "code",
      "source": [],
      "metadata": {
        "id": "3YEXpRcSYs8o"
      },
      "id": "3YEXpRcSYs8o",
      "execution_count": null,
      "outputs": []
    },
    {
      "cell_type": "markdown",
      "id": "6fea5785-5aed-491a-ace3-5ad07d446e4c",
      "metadata": {
        "id": "6fea5785-5aed-491a-ace3-5ad07d446e4c"
      },
      "source": [
        "This is an example block of mardown text I want to reference <a href=\"#ref1\">[1]</a>. I might need to add some more citations <a href=\"#ref2\">[2]</a><a href=\"#ref2\">[3]</a>\n",
        "\n"
      ]
    },
    {
      "cell_type": "code",
      "execution_count": null,
      "id": "b4b3f4ce-f5f6-471e-ae7b-6224b75ffec4",
      "metadata": {
        "id": "b4b3f4ce-f5f6-471e-ae7b-6224b75ffec4"
      },
      "outputs": [],
      "source": []
    },
    {
      "cell_type": "code",
      "execution_count": null,
      "id": "cb7f14ec-9555-4fe6-98db-5f1f02fe65cd",
      "metadata": {
        "id": "cb7f14ec-9555-4fe6-98db-5f1f02fe65cd"
      },
      "outputs": [],
      "source": []
    },
    {
      "cell_type": "code",
      "execution_count": null,
      "id": "bcbf02dc-73a9-4a6d-9495-580b72055c2a",
      "metadata": {
        "id": "bcbf02dc-73a9-4a6d-9495-580b72055c2a"
      },
      "outputs": [],
      "source": []
    },
    {
      "cell_type": "code",
      "execution_count": null,
      "id": "4c7a4913-7716-40c2-9734-2610041029c2",
      "metadata": {
        "id": "4c7a4913-7716-40c2-9734-2610041029c2"
      },
      "outputs": [],
      "source": []
    },
    {
      "cell_type": "markdown",
      "id": "4806cdd0-3484-45dd-b139-f36e28ce77a9",
      "metadata": {
        "id": "4806cdd0-3484-45dd-b139-f36e28ce77a9"
      },
      "source": [
        "Data Visualisation\n",
        "- Don't forget to present your final two data visualisation (one spatial and one non-spatial) and the justifications about the decisions you made whilst preparing and visualising the data."
      ]
    },
    {
      "cell_type": "code",
      "execution_count": null,
      "id": "cba9bc3e-33e2-44b1-b8a6-47242500eb32",
      "metadata": {
        "id": "cba9bc3e-33e2-44b1-b8a6-47242500eb32"
      },
      "outputs": [],
      "source": []
    },
    {
      "cell_type": "code",
      "execution_count": null,
      "id": "02f2b8d5-c223-4328-abd3-ea5a6678b910",
      "metadata": {
        "id": "02f2b8d5-c223-4328-abd3-ea5a6678b910"
      },
      "outputs": [],
      "source": []
    },
    {
      "cell_type": "markdown",
      "id": "393446de-c2bd-47d1-828a-5b60ec65b8c6",
      "metadata": {
        "id": "393446de-c2bd-47d1-828a-5b60ec65b8c6"
      },
      "source": [
        "## References\n",
        "<p><a href=\"add_url_here\">[1]</a>Footnote citation goes here</p>\n",
        "<p><a href=\"https://github.com/FrancescaPontin/GEOG5990\">[2]</a>GEOG5990M course materials</p>\n",
        "<p><a href=\"add_url_here\">[3]</a>Citation 3</p>"
      ]
    },
    {
      "cell_type": "code",
      "execution_count": null,
      "id": "e902a5a4-c810-4cb0-883d-be558f696c8b",
      "metadata": {
        "id": "e902a5a4-c810-4cb0-883d-be558f696c8b"
      },
      "outputs": [],
      "source": []
    }
  ],
  "metadata": {
    "kernelspec": {
      "display_name": "Python 3 (ipykernel)",
      "language": "python",
      "name": "python3"
    },
    "language_info": {
      "codemirror_mode": {
        "name": "ipython",
        "version": 3
      },
      "file_extension": ".py",
      "mimetype": "text/x-python",
      "name": "python",
      "nbconvert_exporter": "python",
      "pygments_lexer": "ipython3",
      "version": "3.10.12"
    },
    "colab": {
      "provenance": [],
      "include_colab_link": true
    }
  },
  "nbformat": 4,
  "nbformat_minor": 5
}